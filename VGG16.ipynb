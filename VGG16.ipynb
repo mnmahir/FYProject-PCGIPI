{
  "nbformat": 4,
  "nbformat_minor": 0,
  "metadata": {
    "colab": {
      "name": "VGG16.ipynb",
      "provenance": [],
      "collapsed_sections": [],
      "authorship_tag": "ABX9TyPMDVEvmwoBLYNmKhZS/dA5",
      "include_colab_link": true
    },
    "kernelspec": {
      "name": "python3",
      "display_name": "Python 3"
    }
  },
  "cells": [
    {
      "cell_type": "markdown",
      "metadata": {
        "id": "view-in-github",
        "colab_type": "text"
      },
      "source": [
        "<a href=\"https://colab.research.google.com/github/mnmahir/best-fyp/blob/main/VGG16.ipynb\" target=\"_parent\"><img src=\"https://colab.research.google.com/assets/colab-badge.svg\" alt=\"Open In Colab\"/></a>"
      ]
    },
    {
      "cell_type": "markdown",
      "metadata": {
        "id": "c_JNq8HtGTFU"
      },
      "source": [
        "#**Import Libraries**"
      ]
    },
    {
      "cell_type": "code",
      "metadata": {
        "id": "cjtiRu3dCtTg",
        "colab": {
          "base_uri": "https://localhost:8080/"
        },
        "outputId": "d80ab1a2-43fa-4695-df52-54569ca45e70"
      },
      "source": [
        "# Google Drive\n",
        "from google.colab import drive\n",
        "# General\n",
        "import math\n",
        "import tensorflow as tf\n",
        "import numpy as np\n",
        "import matplotlib.pyplot as plt\n",
        "import keras\n",
        "# Keras Library\n",
        "\n",
        "\n",
        "print(\"Keras version: \", keras.__version__)\n",
        "print(\"TensorFlow version:\", tf.__version__)"
      ],
      "execution_count": 79,
      "outputs": [
        {
          "output_type": "stream",
          "text": [
            "Keras version:  2.4.3\n",
            "TensorFlow version: 2.3.0\n"
          ],
          "name": "stdout"
        }
      ]
    },
    {
      "cell_type": "markdown",
      "metadata": {
        "id": "o2n1aFmjGqCx"
      },
      "source": [
        "#**Mounting drive and setting path**"
      ]
    },
    {
      "cell_type": "code",
      "metadata": {
        "colab": {
          "base_uri": "https://localhost:8080/"
        },
        "id": "M-zj49aoCv2N",
        "outputId": "a4cb3258-49a5-417d-e1da-425a585640ca"
      },
      "source": [
        "drive.mount('/content/drive')"
      ],
      "execution_count": 3,
      "outputs": [
        {
          "output_type": "stream",
          "text": [
            "Mounted at /content/drive\n"
          ],
          "name": "stdout"
        }
      ]
    },
    {
      "cell_type": "code",
      "metadata": {
        "id": "v9KrU6iJGo28"
      },
      "source": [
        "# Path where dataset is located\n",
        "dataset_path = '/content/drive/My Drive/FYP Stuff/Datasets/#old/Dataset 1C'\n",
        "train_path = dataset_path + '/Train'\n",
        "valid_path = dataset_path + '/Test'    # Some literature use the term \"test set\" / \"valid set\" but it is actually a \"dev set\". This is the set that is iterated during training.\n",
        "#test_path = dataset_path + '/Test'  # Test set helps evaluate how good your final system is. It's ok not to have test set."
      ],
      "execution_count": 4,
      "outputs": []
    },
    {
      "cell_type": "markdown",
      "metadata": {
        "id": "gsLPveBhHryf"
      },
      "source": [
        "#**Variable Initialization**"
      ]
    },
    {
      "cell_type": "code",
      "metadata": {
        "id": "JTaCMVc6HZA2"
      },
      "source": [
        "IMAGE_CLASSES = ['Normal','Grade I','Grade II','Grade III']         # Classes (Name must be exactly the same as folder name in each set)\n",
        "IMAGE_SIZE = [224,224]          # Image size (Set for resizing later)\n",
        "BATCH_SIZE = 16                 # Mini-batch size\n",
        "SEED = 1                        # Fixed randomness"
      ],
      "execution_count": 142,
      "outputs": []
    },
    {
      "cell_type": "markdown",
      "metadata": {
        "id": "r4O-p995K0b0"
      },
      "source": [
        "# **Initialize Functions**\n",
        "**Data Augmentation**"
      ]
    },
    {
      "cell_type": "code",
      "metadata": {
        "id": "9DAdDNLpK67S"
      },
      "source": [
        "############################\n",
        "# Training data generator\n",
        "############################\n",
        "def get_train_generator():\n",
        "  print(\"Getting train generator...\")\n",
        "  image_generator = tf.keras.preprocessing.image.ImageDataGenerator(\n",
        "      rescale = 1./255\n",
        "  )\n",
        "  \n",
        "  generator = image_generator.flow_from_directory(\n",
        "      batch_size = BATCH_SIZE,\n",
        "      directory = train_path,\n",
        "      shuffle = True,             # Shuffle input after each epoch\n",
        "      target_size = IMAGE_SIZE,   # Set image size to be [x]px by [y]px set in IMAGE_SIZE\n",
        "      class_mode = 'categorical',\n",
        "      seed = SEED,\n",
        "  )\n",
        "\n",
        "  return generator\n",
        "############################\n",
        "# Validation data generator\n",
        "############################\n",
        "def get_valid_generator():\n",
        "  print(\"Getting valid generator...\")\n",
        "  image_generator = tf.keras.preprocessing.image.ImageDataGenerator(\n",
        "      rescale = 1./255\n",
        "  )\n",
        "  \n",
        "  generator = image_generator.flow_from_directory(\n",
        "      batch_size = BATCH_SIZE,\n",
        "      directory = valid_path,\n",
        "      shuffle = False,             # Shuffle input after each epoch\n",
        "      target_size = IMAGE_SIZE,   # Set image size to be [x]px by [y]px set in IMAGE_SIZE\n",
        "      class_mode = WEIGHTED_LOSS,\n",
        "      seed = SEED,\n",
        "  )\n",
        "\n",
        "  return generator"
      ],
      "execution_count": 82,
      "outputs": []
    },
    {
      "cell_type": "code",
      "metadata": {
        "id": "CGz3kvFyvCtv",
        "colab": {
          "base_uri": "https://localhost:8080/"
        },
        "outputId": "8890a213-ef9c-4745-bb89-54d2c3a2c9fb"
      },
      "source": [
        "train_generator = get_train_generator()\n",
        "valid_generator = get_valid_generator()"
      ],
      "execution_count": 83,
      "outputs": [
        {
          "output_type": "stream",
          "text": [
            "Getting train generator...\n",
            "Found 2708 images belonging to 4 classes.\n",
            "Getting valid generator...\n",
            "Found 676 images belonging to 4 classes.\n"
          ],
          "name": "stdout"
        }
      ]
    },
    {
      "cell_type": "code",
      "metadata": {
        "id": "8wy0nugNVnJR"
      },
      "source": [
        "# Solving class imbalance\n",
        "def get_freq_data(generator, classes):\n",
        "  class_data_labels = generator.classes\n",
        "  total_class = len(IMAGE_CLASSES)\n",
        "  print(total_class)\n",
        "  freq_out = []\n",
        "\n",
        "  for i in range(total_class):\n",
        "    total_label_i = 0\n",
        "    for ele in class_data_labels:\n",
        "      if ele == i:\n",
        "        total_label_i += 1\n",
        "    freq_out.append(total_label_i)\n",
        "  \n",
        "  print(\"Total number of class is:\", total_class)\n",
        "  print(\"Total image in generator is: \", freq_out)\n"
      ],
      "execution_count": 158,
      "outputs": []
    },
    {
      "cell_type": "code",
      "metadata": {
        "colab": {
          "base_uri": "https://localhost:8080/"
        },
        "id": "pHTbhVX5bdWK",
        "outputId": "f49f40f9-99e9-40bd-c3bd-03537f13ce8d"
      },
      "source": [
        "get_freq_prob_data(valid_generator)\n"
      ],
      "execution_count": 159,
      "outputs": [
        {
          "output_type": "stream",
          "text": [
            "Total number of class is:\n",
            "Total image in generator is:  [145, 258, 162, 111]\n"
          ],
          "name": "stdout"
        }
      ]
    },
    {
      "cell_type": "code",
      "metadata": {
        "id": "g2L-Ek9sHxDt"
      },
      "source": [
        "def show_image_generated(generator,index, img_size):\n",
        "  x, y = valid_generator.__getitem__(index)\n",
        "  img_plt = math.ceil(math.sqrt(BATCH_SIZE))\n",
        "  grid_plt = str(img_plt)+str(img_plt)+str(1)\n",
        "\n",
        "  class_data_labels = generator.classes\n",
        "\n",
        "  plt.figure(1, figsize = (img_size,img_size))\n",
        "  for i in range(BATCH_SIZE):\n",
        "    plt.subplot(img_plt,img_plt,i+1)\n",
        "    plt.imshow(x[i])\n",
        "    plt.title(\"Label =\", IMAGE_CLASSES[int(class_data_labels[i])])\n",
        "  plt.show()"
      ],
      "execution_count": 136,
      "outputs": []
    },
    {
      "cell_type": "code",
      "metadata": {
        "colab": {
          "base_uri": "https://localhost:8080/",
          "height": 488
        },
        "id": "HtspDgmbh6cc",
        "outputId": "d5635ed8-1e5c-491c-bd2d-acdddbf67056"
      },
      "source": [
        "show_image_generated(valid_generator, index = 0, img_size = 10)  # Print image generated by generator. Change index to see different batch (start at 0)"
      ],
      "execution_count": 137,
      "outputs": [
        {
          "output_type": "error",
          "ename": "AttributeError",
          "evalue": "ignored",
          "traceback": [
            "\u001b[0;31m---------------------------------------------------------------------------\u001b[0m",
            "\u001b[0;31mAttributeError\u001b[0m                            Traceback (most recent call last)",
            "\u001b[0;32m<ipython-input-137-36b2e09e1fa1>\u001b[0m in \u001b[0;36m<module>\u001b[0;34m()\u001b[0m\n\u001b[0;32m----> 1\u001b[0;31m \u001b[0mshow_image_generated\u001b[0m\u001b[0;34m(\u001b[0m\u001b[0mvalid_generator\u001b[0m\u001b[0;34m,\u001b[0m \u001b[0mindex\u001b[0m \u001b[0;34m=\u001b[0m \u001b[0;36m0\u001b[0m\u001b[0;34m,\u001b[0m \u001b[0mimg_size\u001b[0m \u001b[0;34m=\u001b[0m \u001b[0;36m10\u001b[0m\u001b[0;34m)\u001b[0m  \u001b[0;31m# Print image generated by generator. Change index to see different batch (start at 0)\u001b[0m\u001b[0;34m\u001b[0m\u001b[0;34m\u001b[0m\u001b[0m\n\u001b[0m",
            "\u001b[0;32m<ipython-input-136-3709e0ba576f>\u001b[0m in \u001b[0;36mshow_image_generated\u001b[0;34m(generator, index, img_size)\u001b[0m\n\u001b[1;32m     10\u001b[0m     \u001b[0mplt\u001b[0m\u001b[0;34m.\u001b[0m\u001b[0msubplot\u001b[0m\u001b[0;34m(\u001b[0m\u001b[0mimg_plt\u001b[0m\u001b[0;34m,\u001b[0m\u001b[0mimg_plt\u001b[0m\u001b[0;34m,\u001b[0m\u001b[0mi\u001b[0m\u001b[0;34m+\u001b[0m\u001b[0;36m1\u001b[0m\u001b[0;34m)\u001b[0m\u001b[0;34m\u001b[0m\u001b[0;34m\u001b[0m\u001b[0m\n\u001b[1;32m     11\u001b[0m     \u001b[0mplt\u001b[0m\u001b[0;34m.\u001b[0m\u001b[0mimshow\u001b[0m\u001b[0;34m(\u001b[0m\u001b[0mx\u001b[0m\u001b[0;34m[\u001b[0m\u001b[0mi\u001b[0m\u001b[0;34m]\u001b[0m\u001b[0;34m)\u001b[0m\u001b[0;34m\u001b[0m\u001b[0;34m\u001b[0m\u001b[0m\n\u001b[0;32m---> 12\u001b[0;31m     \u001b[0mplt\u001b[0m\u001b[0;34m.\u001b[0m\u001b[0mtitle\u001b[0m\u001b[0;34m(\u001b[0m\u001b[0;34m\"Label =\"\u001b[0m\u001b[0;34m,\u001b[0m \u001b[0mIMAGE_CLASSES\u001b[0m\u001b[0;34m[\u001b[0m\u001b[0mint\u001b[0m\u001b[0;34m(\u001b[0m\u001b[0mclass_data_label\u001b[0m\u001b[0;34m[\u001b[0m\u001b[0mi\u001b[0m\u001b[0;34m]\u001b[0m\u001b[0;34m)\u001b[0m\u001b[0;34m]\u001b[0m\u001b[0;34m)\u001b[0m\u001b[0;34m\u001b[0m\u001b[0;34m\u001b[0m\u001b[0m\n\u001b[0m\u001b[1;32m     13\u001b[0m   \u001b[0mplt\u001b[0m\u001b[0;34m.\u001b[0m\u001b[0mshow\u001b[0m\u001b[0;34m(\u001b[0m\u001b[0;34m)\u001b[0m\u001b[0;34m\u001b[0m\u001b[0;34m\u001b[0m\u001b[0m\n",
            "\u001b[0;32m/usr/local/lib/python3.6/dist-packages/matplotlib/pyplot.py\u001b[0m in \u001b[0;36mtitle\u001b[0;34m(label, fontdict, loc, pad, **kwargs)\u001b[0m\n\u001b[1;32m   3030\u001b[0m \u001b[0;32mdef\u001b[0m \u001b[0mtitle\u001b[0m\u001b[0;34m(\u001b[0m\u001b[0mlabel\u001b[0m\u001b[0;34m,\u001b[0m \u001b[0mfontdict\u001b[0m\u001b[0;34m=\u001b[0m\u001b[0;32mNone\u001b[0m\u001b[0;34m,\u001b[0m \u001b[0mloc\u001b[0m\u001b[0;34m=\u001b[0m\u001b[0;32mNone\u001b[0m\u001b[0;34m,\u001b[0m \u001b[0mpad\u001b[0m\u001b[0;34m=\u001b[0m\u001b[0;32mNone\u001b[0m\u001b[0;34m,\u001b[0m \u001b[0;34m**\u001b[0m\u001b[0mkwargs\u001b[0m\u001b[0;34m)\u001b[0m\u001b[0;34m:\u001b[0m\u001b[0;34m\u001b[0m\u001b[0;34m\u001b[0m\u001b[0m\n\u001b[1;32m   3031\u001b[0m     return gca().set_title(\n\u001b[0;32m-> 3032\u001b[0;31m         label, fontdict=fontdict, loc=loc, pad=pad, **kwargs)\n\u001b[0m\u001b[1;32m   3033\u001b[0m \u001b[0;34m\u001b[0m\u001b[0m\n\u001b[1;32m   3034\u001b[0m \u001b[0;34m\u001b[0m\u001b[0m\n",
            "\u001b[0;32m/usr/local/lib/python3.6/dist-packages/matplotlib/axes/_axes.py\u001b[0m in \u001b[0;36mset_title\u001b[0;34m(self, label, fontdict, loc, pad, **kwargs)\u001b[0m\n\u001b[1;32m    211\u001b[0m         \u001b[0mtitle\u001b[0m\u001b[0;34m.\u001b[0m\u001b[0mupdate\u001b[0m\u001b[0;34m(\u001b[0m\u001b[0mdefault\u001b[0m\u001b[0;34m)\u001b[0m\u001b[0;34m\u001b[0m\u001b[0;34m\u001b[0m\u001b[0m\n\u001b[1;32m    212\u001b[0m         \u001b[0;32mif\u001b[0m \u001b[0mfontdict\u001b[0m \u001b[0;32mis\u001b[0m \u001b[0;32mnot\u001b[0m \u001b[0;32mNone\u001b[0m\u001b[0;34m:\u001b[0m\u001b[0;34m\u001b[0m\u001b[0;34m\u001b[0m\u001b[0m\n\u001b[0;32m--> 213\u001b[0;31m             \u001b[0mtitle\u001b[0m\u001b[0;34m.\u001b[0m\u001b[0mupdate\u001b[0m\u001b[0;34m(\u001b[0m\u001b[0mfontdict\u001b[0m\u001b[0;34m)\u001b[0m\u001b[0;34m\u001b[0m\u001b[0;34m\u001b[0m\u001b[0m\n\u001b[0m\u001b[1;32m    214\u001b[0m         \u001b[0mtitle\u001b[0m\u001b[0;34m.\u001b[0m\u001b[0mupdate\u001b[0m\u001b[0;34m(\u001b[0m\u001b[0mkwargs\u001b[0m\u001b[0;34m)\u001b[0m\u001b[0;34m\u001b[0m\u001b[0;34m\u001b[0m\u001b[0m\n\u001b[1;32m    215\u001b[0m         \u001b[0;32mreturn\u001b[0m \u001b[0mtitle\u001b[0m\u001b[0;34m\u001b[0m\u001b[0;34m\u001b[0m\u001b[0m\n",
            "\u001b[0;32m/usr/local/lib/python3.6/dist-packages/matplotlib/text.py\u001b[0m in \u001b[0;36mupdate\u001b[0;34m(self, kwargs)\u001b[0m\n\u001b[1;32m    174\u001b[0m         \u001b[0;31m# Update bbox last, as it depends on font properties.\u001b[0m\u001b[0;34m\u001b[0m\u001b[0;34m\u001b[0m\u001b[0;34m\u001b[0m\u001b[0m\n\u001b[1;32m    175\u001b[0m         \u001b[0msentinel\u001b[0m \u001b[0;34m=\u001b[0m \u001b[0mobject\u001b[0m\u001b[0;34m(\u001b[0m\u001b[0;34m)\u001b[0m  \u001b[0;31m# bbox can be None, so use another sentinel.\u001b[0m\u001b[0;34m\u001b[0m\u001b[0;34m\u001b[0m\u001b[0m\n\u001b[0;32m--> 176\u001b[0;31m         \u001b[0mbbox\u001b[0m \u001b[0;34m=\u001b[0m \u001b[0mkwargs\u001b[0m\u001b[0;34m.\u001b[0m\u001b[0mpop\u001b[0m\u001b[0;34m(\u001b[0m\u001b[0;34m\"bbox\"\u001b[0m\u001b[0;34m,\u001b[0m \u001b[0msentinel\u001b[0m\u001b[0;34m)\u001b[0m\u001b[0;34m\u001b[0m\u001b[0;34m\u001b[0m\u001b[0m\n\u001b[0m\u001b[1;32m    177\u001b[0m         \u001b[0msuper\u001b[0m\u001b[0;34m(\u001b[0m\u001b[0;34m)\u001b[0m\u001b[0;34m.\u001b[0m\u001b[0mupdate\u001b[0m\u001b[0;34m(\u001b[0m\u001b[0mkwargs\u001b[0m\u001b[0;34m)\u001b[0m\u001b[0;34m\u001b[0m\u001b[0;34m\u001b[0m\u001b[0m\n\u001b[1;32m    178\u001b[0m         \u001b[0;32mif\u001b[0m \u001b[0mbbox\u001b[0m \u001b[0;32mis\u001b[0m \u001b[0;32mnot\u001b[0m \u001b[0msentinel\u001b[0m\u001b[0;34m:\u001b[0m\u001b[0;34m\u001b[0m\u001b[0;34m\u001b[0m\u001b[0m\n",
            "\u001b[0;31mAttributeError\u001b[0m: 'str' object has no attribute 'pop'"
          ]
        },
        {
          "output_type": "display_data",
          "data": {
            "image/png": "[encoded data removed]",
            "text/plain": [
              "<Figure size 720x720 with 1 Axes>"
            ]
          },
          "metadata": {
            "tags": [],
            "needs_background": "light"
          }
        }
      ]
    },
    {
      "cell_type": "markdown",
      "metadata": {
        "id": "tI6wEkbs8vJo"
      },
      "source": [
        "# **Model Development**"
      ]
    }
  ]
}