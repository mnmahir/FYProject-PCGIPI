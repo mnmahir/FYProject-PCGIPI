{
  "nbformat": 4,
  "nbformat_minor": 0,
  "metadata": {
    "colab": {
      "name": "System web app (backend).ipynb",
      "provenance": [],
      "collapsed_sections": [],
      "toc_visible": true,
      "include_colab_link": true
    },
    "kernelspec": {
      "name": "python3",
      "display_name": "Python 3"
    },
    "accelerator": "GPU"
  },
  "cells": [
    {
      "cell_type": "markdown",
      "metadata": {
        "id": "view-in-github",
        "colab_type": "text"
      },
      "source": [
        "<a href=\"https://colab.research.google.com/github/mnmahir/FYProject-PCGIPI/blob/main/System_web_app.ipynb\" target=\"_parent\"><img src=\"https://colab.research.google.com/assets/colab-badge.svg\" alt=\"Open In Colab\"/></a>"
      ]
    },
    {
      "cell_type": "markdown",
      "metadata": {
        "id": "nfLEWdpOLDnN"
      },
      "source": [
        "#**Library**"
      ]
    },
    {
      "cell_type": "code",
      "metadata": {
        "id": "W5icWemIDFT_"
      },
      "source": [
        "!pip install anvil-uplink\n",
        "import anvil.server\n",
        "import anvil.media\n",
        "# Google Drive\n",
        "from google.colab import drive\n",
        "# General\n",
        "import math\n",
        "import tensorflow as tf\n",
        "import numpy as np\n",
        "import matplotlib.pyplot as plt\n",
        "import keras\n",
        "!pip install image_slicer\n",
        "import os\n",
        "import glob\n",
        "import image_slicer\n",
        "# Keras Library\n",
        "from keras.preprocessing import image\n",
        "from keras.preprocessing.image import ImageDataGenerator, load_img\n",
        "# Others\n",
        "import os\n",
        "\n",
        "from google.colab import drive"
      ],
      "execution_count": null,
      "outputs": []
    },
    {
      "cell_type": "markdown",
      "metadata": {
        "id": "94PX5fXuLJyf"
      },
      "source": [
        "#**Load Model**"
      ]
    },
    {
      "cell_type": "code",
      "metadata": {
        "id": "65KVj3IHK-tI"
      },
      "source": [
        "drive.mount('/content/gdrive')\n",
        "model_directory = '/content/gdrive/MyDrive/FYP Stuff/Model/' #@param {type: \"string\"}\n",
        "model_name = \"DenseNet201_model.h5\" #@param [\"DenseNet201_200AK4_model.h5\", \"ResNet50V2_200AK4_model.h5\", \"ResNet101V2_200AK4_model.h5\", \"VGG16_200AK4_model.h5\", \"VGG19_200AK4_model.h5\", \"Xception_200AK4_model.h5\", \"DenseNet201_model.h5\"]\n",
        "model = tf.keras.models.load_model(model_directory + model_name)"
      ],
      "execution_count": null,
      "outputs": []
    },
    {
      "cell_type": "markdown",
      "metadata": {
        "id": "vgz_kiCrIldI"
      },
      "source": [
        "#**Main**"
      ]
    },
    {
      "cell_type": "code",
      "metadata": {
        "id": "sEztj-ZY_NQU"
      },
      "source": [
        "###########################\n",
        "# Initialization\n",
        "###########################\n",
        "IMAGE_CLASSES = ['NORMAL','GRADE 1','GRADE 2','GRADE 3']\n",
        "IMAGE_WIDTH,IMAGE_HEIGHT = (224,224)\n",
        "sliced_img_path = '/content/sliced_img'\n",
        "try: \n",
        "  os.mkdir(sliced_img_path) # For before calling slice\n",
        "except:\n",
        "  print(\"Folder already created\")\n",
        "\n",
        "#####################################\n",
        "# Slice image / remove sliced images\n",
        "#####################################\n",
        "#To be called before making prediction\n",
        "def slice_image(ori_img, srow = 6, scol = 8): #later add row and col\n",
        "  os.chdir(sliced_img_path)\n",
        "\n",
        "  ori_img.save('ori.png')\n",
        "  if scol > 1 or srow > 1:\n",
        "    image_slicer.slice('ori.png', row = srow, col = scol)\n",
        "    os.remove('ori.png') #Delete original image\n",
        "  os.chdir('/content')\n",
        "\n",
        "# To be called after done with prediction and calculation\n",
        "def remove_sliced_images():\n",
        "  files = glob.glob(sliced_img_path+'/*')  \n",
        "  for f in files:\n",
        "      os.remove(f)                      # Delete everything in folder\n",
        "\n",
        "# Get slicing parameter (200px)\n",
        "def get_slice_param(img):\n",
        "  img_width, img_height = img.size\n",
        "  swidth = int(img_width/200) #To get 200px\n",
        "  sheight = int(img_height/200)\n",
        "  owidth = int(img_width/swidth)\n",
        "  oheight = int(img_height/sheight)\n",
        "  return swidth, sheight, owidth, oheight\n",
        "\n",
        "#####################################\n",
        "# Make prediction (Will predict all images in the \"sliced_img\" folder)\n",
        "#####################################\n",
        "def get_predictions():\n",
        "  predictions = []\n",
        "  for i,img in enumerate(sorted(os.listdir(sliced_img_path))):\n",
        "    img = os.path.join(sliced_img_path, img)\n",
        "    img = image.load_img(img, target_size=(IMAGE_WIDTH,IMAGE_HEIGHT))\n",
        "    arr = image.img_to_array(img)\n",
        "    arr = np.expand_dims(arr, axis=0)\n",
        "    arr /= 255\n",
        "    predictions.append(model.predict(arr))\n",
        "  pred_labels = np.argmax(predictions, axis=-1)\n",
        "  return predictions, pred_labels\n",
        "\n",
        "############################\n",
        "# Save all prediction patches\n",
        "############################\n",
        "def save_predicted_patches(predictions, pred_labels, srow = 6, scol = 8, conf_thrs = 0.8):\n",
        "  imeg_freq = len(pred_labels)\n",
        "  disp_row = srow\n",
        "\n",
        "  plt.figure(1, figsize = (scol*2, srow*2))\n",
        "  for j,img in enumerate(sorted(os.listdir(sliced_img_path))):\n",
        "    img = image.load_img(os.path.join(sliced_img_path,img), target_size=(IMAGE_WIDTH,IMAGE_HEIGHT))\n",
        "    plt.subplot(srow, scol, j+1)\n",
        "\n",
        "    if predictions[j][0,pred_labels[j][0]] < conf_thrs:\n",
        "      #title = \"Low Confidence\"\n",
        "      #plt.title(title, y = 0, fontsize = 15, fontweight = 'bold')\n",
        "      plt.axis('off')\n",
        "\n",
        "    elif pred_labels[j][0] == 0:\n",
        "      title = str(IMAGE_CLASSES[pred_labels[j][0]]) + '\\n' + str(round(predictions[j][0,pred_labels[j][0]],4))\n",
        "      plt.title(title, y = 0, fontsize = 15, fontweight = 'bold', color = 'lime')\n",
        "      for axis in ['top','bottom','left','right']:\n",
        "        plt.gca().spines[axis].set_linewidth(7)\n",
        "        plt.gca().spines[axis].set_color(\"lime\")\n",
        "\n",
        "    elif pred_labels[j][0] == 1:\n",
        "      title = str(IMAGE_CLASSES[pred_labels[j][0]]) + '\\n' + str(round(predictions[j][0,pred_labels[j][0]],4))\n",
        "      plt.title(title, y = 0, fontsize = 15, fontweight = 'bold', color = 'orange')\n",
        "      for axis in ['top','bottom','left','right']:\n",
        "        plt.gca().spines[axis].set_linewidth(7)\n",
        "        plt.gca().spines[axis].set_color(\"orange\")\n",
        "    elif pred_labels[j][0] == 2:\n",
        "      title = str(IMAGE_CLASSES[pred_labels[j][0]]) + '\\n' + str(round(predictions[j][0,pred_labels[j][0]],4))\n",
        "      plt.title(title, y = 0, fontsize = 15, fontweight = 'bold', color = 'magenta')\n",
        "      for axis in ['top','bottom','left','right']:\n",
        "        plt.gca().spines[axis].set_linewidth(7)\n",
        "        plt.gca().spines[axis].set_color(\"magenta\")\n",
        "\n",
        "    elif pred_labels[j][0] == 3:\n",
        "      title = str(IMAGE_CLASSES[pred_labels[j][0]]) + '\\n' + str(round(predictions[j][0,pred_labels[j][0]],4))\n",
        "      plt.title(title, y = 0, fontsize = 15, fontweight = 'bold', color = 'red')\n",
        "      for axis in ['top','bottom','left','right']:\n",
        "        plt.gca().spines[axis].set_linewidth(7)\n",
        "        plt.gca().spines[axis].set_color(\"red\")\n",
        "\n",
        "    else:\n",
        "      pass\n",
        "    #plt.axis('off')\n",
        "    #plt.gca().spines[axis].set_zorder(0)\n",
        "    #title = str(IMAGE_CLASSES[pred_labels[j][0]]) + '\\n' + str(round(predictions[j][0,pred_labels[j][0]],2))\n",
        "    #plt.title(title, y = 0.75, loc = 'left')\n",
        "    plt.tick_params(bottom = False, labelbottom = False, left = False, labelleft = False)\n",
        "    plt.imshow(img)\n",
        "  plt.tight_layout(pad = 0)\n",
        "  plt.savefig('predicted_patches.png', bbox_inches='tight', pad_inches = 0)\n",
        "  plt.close()\n",
        "############################\n",
        "# Calculate frequency of class prediction\n",
        "############################\n",
        "def get_pred_freq(predictions, pred_labels, conf_thrs = 0.8):\n",
        "  freq_class = [0,0,0,0]\n",
        "  for j in range(len(pred_labels)):\n",
        "    if predictions[j][0,pred_labels[j][0]] >= conf_thrs:\n",
        "      freq_class[pred_labels[j][0]] += 1\n",
        "  max_class = freq_class.index(max(freq_class))\n",
        "  return freq_class, IMAGE_CLASSES[max_class]\n",
        "\n",
        "\n",
        "############################\n",
        "# Anvil Uplink\n",
        "############################\n",
        "uplink_key = \"L3PK5MYQVJ4ZK5FTWKPZYKUD-FBM5VHPXV3N7HNS4\"#@param {type: \"string\"}\n",
        "anvil.server.connect(uplink_key) \n",
        "@anvil.server.callable\n",
        "def predict_click(img_file, conf_threshold,  swidth, sheight):\n",
        "  global image_received, score, model_name\n",
        "  with anvil.media.TempFile(img_file) as filename:\n",
        "    img = load_img(filename)\n",
        "  image_received = img\n",
        "  slice_image(img, srow = sheight, scol = swidth)\n",
        "  predictions, pred_labels = get_predictions()\n",
        "  save_predicted_patches(predictions, pred_labels, srow = sheight, scol = swidth, conf_thrs = conf_threshold)\n",
        "  class_freq, max_class = get_pred_freq(predictions, pred_labels, conf_thrs = conf_threshold)\n",
        "  remove_sliced_images()\n",
        "\n",
        "  send_image = anvil.media.from_file('predicted_patches.png', '/content/') #To convert into anvil media object (filename, path)\n",
        "  return class_freq, max_class , send_image, model_name\n",
        "\n",
        "anvil.server.wait_forever()"
      ],
      "execution_count": null,
      "outputs": []
    },
    {
      "cell_type": "markdown",
      "metadata": {
        "id": "gedo-TXU-QGS"
      },
      "source": [
        ""
      ]
    },
    {
      "cell_type": "markdown",
      "metadata": {
        "id": "qLVXuXDcOT7e"
      },
      "source": [
        "# Debug Code"
      ]
    },
    {
      "cell_type": "code",
      "metadata": {
        "id": "H4hxgiMait6-"
      },
      "source": [
        ""
      ],
      "execution_count": null,
      "outputs": []
    },
    {
      "cell_type": "code",
      "metadata": {
        "id": "zQqFyzCUOtmA"
      },
      "source": [
        "def get_pred_freq(predictions, pred_labels, conf_thrs = 0.8):\n",
        "  freq_class = [0,0,0,0]\n",
        "  for j in range(len(pred_labels)):\n",
        "    if predictions[j][0,pred_labels[j][0]] >= conf_thrs:\n",
        "      freq_class[pred_labels[j][0]] += 1\n",
        "  max_class = freq_class.index(max(freq_class))\n",
        "  return freq_class, IMAGE_CLASSES[max_class]"
      ],
      "execution_count": null,
      "outputs": []
    },
    {
      "cell_type": "code",
      "metadata": {
        "id": "9I41W59ROuVG"
      },
      "source": [
        "test,test2 = get_pred_freq(predictions, pred_labels)"
      ],
      "execution_count": null,
      "outputs": []
    },
    {
      "cell_type": "code",
      "metadata": {
        "id": "8Qg_RwF8k_x0"
      },
      "source": [
        "print(test,test2)"
      ],
      "execution_count": null,
      "outputs": []
    },
    {
      "cell_type": "code",
      "metadata": {
        "id": "lDncnBbGmtbi"
      },
      "source": [
        "save_predicted_patches(predictions, pred_labels, srow = 6, scol = 8, conf_thrs = 0.5)"
      ],
      "execution_count": null,
      "outputs": []
    },
    {
      "cell_type": "code",
      "metadata": {
        "id": "1Nsckzlvlp3X"
      },
      "source": [
        "print(image_received)"
      ],
      "execution_count": null,
      "outputs": []
    },
    {
      "cell_type": "code",
      "metadata": {
        "id": "5SfcK31ll9m6"
      },
      "source": [
        "slice_image(image_received, srow = 4, scol = 4)\n",
        "predictions, pred_labels = get_predictions()\n",
        "save_predicted_patches(predictions, pred_labels, srow = 4, scol = 4)"
      ],
      "execution_count": null,
      "outputs": []
    },
    {
      "cell_type": "code",
      "metadata": {
        "id": "yrJHwLkplZNm"
      },
      "source": [
        "srow = 6\n",
        "scol = 8\n",
        "os.chdir(sliced_img_path)\n",
        "ori_img = image_received\n",
        "ori_img.save('ori.png')\n",
        "if scol > 1 or srow > 1:\n",
        "  sliced_img = image_slicer.slice('ori.png', row = srow, col = scol, save = False)\n",
        "  os.remove('ori.png') #Delete original image\n",
        "os.chdir('/content')"
      ],
      "execution_count": null,
      "outputs": []
    },
    {
      "cell_type": "code",
      "metadata": {
        "id": "MTSvmuXJmVMk"
      },
      "source": [
        "print(sliced_img)"
      ],
      "execution_count": null,
      "outputs": []
    },
    {
      "cell_type": "code",
      "metadata": {
        "id": "xyLo799GiT6h"
      },
      "source": [
        "remove_sliced_images()"
      ],
      "execution_count": null,
      "outputs": []
    },
    {
      "cell_type": "code",
      "metadata": {
        "id": "Fp9IunKhmKUs"
      },
      "source": [
        "#testlist = np.ndarray.tolist(predictions)\n",
        "print(predictions[0][0,1]) #[index][fixed,class]"
      ],
      "execution_count": null,
      "outputs": []
    },
    {
      "cell_type": "code",
      "metadata": {
        "id": "RkaQKl00pIyd"
      },
      "source": [
        "print(predictions)"
      ],
      "execution_count": null,
      "outputs": []
    },
    {
      "cell_type": "code",
      "metadata": {
        "id": "S4-waAiKrvlI"
      },
      "source": [
        "print(pred_labels)"
      ],
      "execution_count": null,
      "outputs": []
    },
    {
      "cell_type": "code",
      "metadata": {
        "id": "Mp3srdC5hYYV"
      },
      "source": [
        "# Run after click predict in anvil\n",
        "print(image_received)\n",
        "plt.imshow(image_received)\n",
        "plt.savefig('test.png')\n",
        "print(score)\n",
        "a = get_label(score)\n",
        "#print (IMAGE_CLASSES[a[0]])\n",
        "slice_image(image_received)\n",
        "print('Size: ',image_received.size)\n"
      ],
      "execution_count": null,
      "outputs": []
    },
    {
      "cell_type": "code",
      "metadata": {
        "id": "_xBHjFsnit_H"
      },
      "source": [
        ""
      ],
      "execution_count": null,
      "outputs": []
    }
  ]
}