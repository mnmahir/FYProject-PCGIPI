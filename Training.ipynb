{
  "nbformat": 4,
  "nbformat_minor": 0,
  "metadata": {
    "colab": {
      "name": "Training.ipynb",
      "provenance": [],
      "collapsed_sections": [],
      "include_colab_link": true
    },
    "kernelspec": {
      "name": "python3",
      "display_name": "Python 3"
    },
    "accelerator": "GPU"
  },
  "cells": [
    {
      "cell_type": "markdown",
      "metadata": {
        "id": "view-in-github",
        "colab_type": "text"
      },
      "source": [
        "<a href=\"https://colab.research.google.com/github/mnmahir/best-fyp/blob/main/Training.ipynb\" target=\"_parent\"><img src=\"https://colab.research.google.com/assets/colab-badge.svg\" alt=\"Open In Colab\"/></a>"
      ]
    },
    {
      "cell_type": "markdown",
      "metadata": {
        "id": "c_JNq8HtGTFU"
      },
      "source": [
        "#**Import Libraries**"
      ]
    },
    {
      "cell_type": "code",
      "metadata": {
        "id": "cjtiRu3dCtTg"
      },
      "source": [
        "# Google Drive\n",
        "from google.colab import drive\n",
        "# General\n",
        "import math\n",
        "import tensorflow as tf\n",
        "import numpy as np\n",
        "import matplotlib.pyplot as plt\n",
        "import keras\n",
        "import itertools\n",
        "import random as python_random\n",
        "# Keras Library\n",
        "from keras.models import Sequential\n",
        "from keras import layers\n",
        "from keras.layers import Dense, Dropout, Activation, Flatten\n",
        "from keras.layers import Convolution2D, MaxPool2D\n",
        "from keras.models import Model\n",
        "from keras import backend as Kbackend\n",
        "from keras.preprocessing import image\n",
        "# ScikitLearn\n",
        "from sklearn.metrics import confusion_matrix\n",
        "import sklearn.metrics as metrics\n",
        "# Others\n",
        "import time\n",
        "import datetime\n",
        "import os\n",
        "\n",
        "print(\"Keras version: \", keras.__version__)\n",
        "print(\"TensorFlow version:\", tf.__version__)"
      ],
      "execution_count": null,
      "outputs": []
    },
    {
      "cell_type": "code",
      "metadata": {
        "id": "hGPQTfele8cr"
      },
      "source": [
        "# Check GPU. With Colab Pro you have priority access to our fastest GPUs. For example, you may get a T4 or P100 GPU at times when most users of standard Colab receive a slower K80 GPU. You can see what GPU you've been assigned at any time by executing the following cell.\r\n",
        "gpu_info = !nvidia-smi\r\n",
        "gpu_info = '\\n'.join(gpu_info)\r\n",
        "if gpu_info.find('failed') >= 0:\r\n",
        "  print('Select the Runtime > \"Change runtime type\" menu to enable a GPU accelerator, ')\r\n",
        "  print('and then re-execute this cell.')\r\n",
        "else:\r\n",
        "  print(gpu_info)\r\n",
        "# In order to use a GPU with your notebook, select the Runtime > Change runtime type menu, and then set the hardware accelerator dropdown to GPU."
      ],
      "execution_count": null,
      "outputs": []
    },
    {
      "cell_type": "markdown",
      "metadata": {
        "id": "r4O-p995K0b0"
      },
      "source": [
        "# **Initialize Functions**"
      ]
    },
    {
      "cell_type": "markdown",
      "metadata": {
        "id": "qMy7-6miwQsJ"
      },
      "source": [
        "# Tools"
      ]
    },
    {
      "cell_type": "code",
      "metadata": {
        "id": "QjG_Hxg4wPlN"
      },
      "source": [
        "############################\n",
        "# Solving class imbalance\n",
        "############################\n",
        "def get_freq_data(generator):\n",
        "  class_data_labels = generator.classes\n",
        "  total_class = len(IMAGE_CLASSES)\n",
        "  freq_out = []\n",
        "\n",
        "  for i in range(total_class):\n",
        "    total_label_i = 0\n",
        "    for ele in class_data_labels:\n",
        "      if ele == i:\n",
        "        total_label_i += 1\n",
        "    freq_out.append(total_label_i)\n",
        "  \n",
        "  print(\"Total number of class is:\", total_class, generator.class_indices)\n",
        "  print(\"Total image in generator is: \", freq_out)\n",
        "  return freq_out\n",
        "############################\n",
        "# Display training and validation curve\n",
        "############################\n",
        "def display_training_curves(training, validation, title, subplot):\n",
        "  ax = plt.subplot(subplot)\n",
        "  ax.plot(training)\n",
        "  ax.plot(validation)\n",
        "  ax.set_title('Model '+ title)\n",
        "  ax.set_ylabel(title)\n",
        "  ax.set_xlabel('epoch')\n",
        "  ax.legend(['Training', 'Validation'])\n",
        "\n",
        "############################\n",
        "# Display confusion matrix\n",
        "############################\n",
        "def plot_confusion_matrix(cm, classes,\n",
        "                          normalize=False,\n",
        "                          title='Confusion matrix',\n",
        "                          cmap=plt.cm.Blues, subplot = 121):\n",
        "    \"\"\"\n",
        "    This function prints and plots the confusion matrix.\n",
        "    Normalization can be applied by setting `normalize=True`.\n",
        "    \"\"\"\n",
        "    \n",
        "\n",
        "    if normalize:\n",
        "        cm = cm.astype('float') / cm.sum(axis=1)[:, np.newaxis]\n",
        "        print(\"Normalized confusion matrix\")\n",
        "        cm = np.round(cm,2)\n",
        "    else:\n",
        "        print('Confusion matrix, without normalization')\n",
        "\n",
        "    print(cm)\n",
        "    plt.subplot(subplot)\n",
        "    plt.imshow(cm, interpolation='nearest', cmap=cmap)\n",
        "    plt.title(title)\n",
        "    plt.colorbar()\n",
        "    tick_marks = np.arange(len(classes))  # Count number of classes for x & y axis lable\n",
        "    plt.xticks(tick_marks, classes, rotation=45) # x-axis label rotated 45 degree\n",
        "    plt.yticks(tick_marks, classes) # y-axis label\n",
        "    \n",
        "    thresh = cm.max() / 2.\n",
        "    for i, j in itertools.product(range(cm.shape[0]), range(cm.shape[1])):\n",
        "        plt.text(j, i, cm[i, j],\n",
        "            horizontalalignment=\"center\",\n",
        "            color=\"white\" if cm[i, j] > thresh else \"black\")\n",
        "\n",
        "    plt.tight_layout()\n",
        "    plt.ylabel('True label')\n",
        "    plt.xlabel('Predicted label')\n",
        "  \n",
        "############################\n",
        "# Show generated image\n",
        "############################\n",
        "def show_image_generated(generator, index, img_size):\n",
        "  x, y = generator.__getitem__(index)\n",
        "  img_plt = math.ceil(math.sqrt(BATCH_SIZE))\n",
        "  grid_plt = str(img_plt)+str(img_plt)+str(1)\n",
        "  plt.figure(1, figsize = (img_size,img_size))\n",
        "  for i in range(BATCH_SIZE):\n",
        "    plt.subplot(img_plt,img_plt,i+1)\n",
        "    plt.imshow(x[i])\n",
        "    plt.title(IMAGE_CLASSES[np.where(y[i] == 1.)[0][0]], fontsize = 2+img_size, pad = 0)\n",
        "    plt.axis('off')\n",
        "  plt.show()\n",
        "\n",
        "###########################\n",
        "# Show augmented image\n",
        "###########################\n",
        "# This function will plot images in the form of a grid with 1 row and 5 columns where images are placed in each column.\n",
        "def plot_augmented_images(img_generator, num, index_i = 0, index_j = 0):\n",
        "    images_arr = [img_generator[index_i][0][index_j] for i in range(num)]\n",
        "    fig, axes = plt.subplots(1, num, figsize=(20,20))\n",
        "    axes = axes.flatten()\n",
        "    for img, ax in zip(images_arr, axes):\n",
        "        ax.axis('off')\n",
        "        ax.imshow(img)\n",
        "    plt.tight_layout()\n",
        "    plt.show()\n",
        "\n",
        "############################\n",
        "# Show all prediction images\n",
        "############################\n",
        "def show_all_prediction_image(class_dir, generator, true_labels, pred_labels):\n",
        "  image_freq = get_freq_data(generator)\n",
        "  correct_pred = []\n",
        "  wrong_pred = []\n",
        "  for i in range(len(IMAGE_CLASSES)):\n",
        "    correct_num = 0\n",
        "    wrong_num = 0\n",
        "    for j in range(len(true_labels)):\n",
        "      if true_labels[j] == i:\n",
        "        if true_labels[j] == pred_labels[j]:\n",
        "          correct_num += 1\n",
        "        else:\n",
        "          wrong_num += 1\n",
        "    correct_pred.append(correct_num)\n",
        "    wrong_pred.append(wrong_num)\n",
        "\n",
        "  print('Correctly predicted:',correct_pred)\n",
        "  print('Wrongly predicted:',wrong_pred)\n",
        "\n",
        "  label_index_show = 0\n",
        "\n",
        "  disp_col = 8\n",
        "\n",
        "  for i, class_f in enumerate(os.listdir(class_dir)):\n",
        "    img_dir = class_dir + '/' + class_f\n",
        "    display_row = math.ceil(image_freq[i]/disp_col)\n",
        "    batch_holder = np.zeros((image_freq[i], IMAGE_WIDTH, IMAGE_HEIGHT, 3))\n",
        "    print('========================================================================')\n",
        "    print('True Class:', class_f)\n",
        "    print('Total images:', image_freq[i],'| Correctly predicted:',correct_pred[i],'| Wrongly predicted:',wrong_pred[i])\n",
        "    print('========================================================================')\n",
        "\n",
        "    for j,img in enumerate(os.listdir(img_dir)):\n",
        "      img = image.load_img(os.path.join(img_dir,img), target_size=(IMAGE_WIDTH,IMAGE_HEIGHT))\n",
        "      batch_holder[j, :] = img\n",
        "\n",
        "    plt.figure(1, figsize = (disp_col*1.8,display_row*2.1))\n",
        "\n",
        "    for j,img in enumerate(batch_holder):\n",
        "      title = 'T: ' + IMAGE_CLASSES[true_labels[label_index_show]] + '\\nP: ' + IMAGE_CLASSES[pred_labels[label_index_show]]\n",
        "      plt.subplot(display_row, disp_col, j+1)\n",
        "      if true_labels[label_index_show] == pred_labels[label_index_show]:\n",
        "        plt.title(title)\n",
        "      else:\n",
        "        plt.title(title,color = 'red')\n",
        "      plt.axis('off')\n",
        "      plt.imshow(img/256.)\n",
        "      label_index_show += 1\n",
        "      \n",
        "    plt.show()\n",
        "\n",
        "############################\n",
        "# Get input image for pre-trained model\n",
        "############################\n",
        "def get_pretrained_model_input_size(MODEL = 'None'):\n",
        "  if MODEL == 'Xception' or MODEL == 'InceptionV3' or MODEL == 'InceptionResNetV2':\n",
        "    return (299, 299, 3)\n",
        "  elif MODEL == 'VGG16' or MODEL == 'VGG19' or MODEL == 'ResNet50V2' or MODEL == 'ResNet101V2' or MODEL == 'ResNet152V2' or MODEL == 'MobileNetV2' or MODEL == 'DenseNet121' or MODEL == 'DenseNet169' or MODEL == 'DenseNet201' or MODEL == 'NASNetMobile':\n",
        "    return (224, 224, 3)\n",
        "  elif MODEL == 'NASNetLarge':\n",
        "    return (331, 331, 3)\n",
        "  else:\n",
        "    print(\"Invalid model name/ not defined\")\n",
        "    return (0,0,0)"
      ],
      "execution_count": null,
      "outputs": []
    },
    {
      "cell_type": "markdown",
      "metadata": {
        "id": "OWr5BoRUu91K"
      },
      "source": [
        "# Data Augmentation"
      ]
    },
    {
      "cell_type": "code",
      "metadata": {
        "id": "9DAdDNLpK67S"
      },
      "source": [
        "############################\n",
        "# Training data generator\n",
        "############################\n",
        "def get_train_generator():\n",
        "  print(\"Getting train generator...\")\n",
        "  image_generator = tf.keras.preprocessing.image.ImageDataGenerator(\n",
        "      rescale = 1./255,\n",
        "      rotation_range = 90,\n",
        "      vertical_flip = True,\n",
        "      horizontal_flip = True,\n",
        "      fill_mode = 'reflect'\n",
        "  )\n",
        "\n",
        "  generator = image_generator.flow_from_directory(\n",
        "      batch_size = BATCH_SIZE,\n",
        "      directory = train_path,\n",
        "      shuffle = True,             # Shuffle input after each epoch\n",
        "      target_size = (IMAGE_WIDTH, IMAGE_HEIGHT),   # Set image size to be [x]px by [y]px set in IMAGE_SIZE\n",
        "      class_mode = 'categorical',\n",
        "      seed = SEED,\n",
        "  )\n",
        "\n",
        "  return generator\n",
        "############################\n",
        "# Validation data generator\n",
        "############################\n",
        "def get_valid_generator():\n",
        "  print(\"Getting valid generator...\")\n",
        "  image_generator = tf.keras.preprocessing.image.ImageDataGenerator(\n",
        "      rescale = 1./255\n",
        "  )\n",
        "\n",
        "  generator = image_generator.flow_from_directory(\n",
        "      batch_size = BATCH_SIZE,\n",
        "      directory = valid_path,\n",
        "      shuffle = False,             # Shuffle input after each epoch\n",
        "      target_size = (IMAGE_WIDTH, IMAGE_HEIGHT),   # Set image size to be [x]px by [y]px set in IMAGE_SIZE\n",
        "      class_mode = 'categorical',\n",
        "      seed = SEED,\n",
        "  )\n",
        "\n",
        "  return generator\n",
        "############################\n",
        "# Test data generator\n",
        "############################\n",
        "def get_test_generator():\n",
        "  print(\"Getting test generator...\")\n",
        "  image_generator = tf.keras.preprocessing.image.ImageDataGenerator(\n",
        "      rescale = 1./255\n",
        "  )\n",
        "\n",
        "  generator = image_generator.flow_from_directory(\n",
        "      batch_size = BATCH_SIZE,\n",
        "      directory = test_path,\n",
        "      shuffle = False,             # Shuffle input after each epoch\n",
        "      target_size = (IMAGE_WIDTH, IMAGE_HEIGHT),   # Set image size to be [x]px by [y]px set in IMAGE_SIZE\n",
        "      class_mode = 'categorical',\n",
        "      seed = SEED,\n",
        "  )\n",
        "\n",
        "  return generator"
      ],
      "execution_count": null,
      "outputs": []
    },
    {
      "cell_type": "markdown",
      "metadata": {
        "id": "tI6wEkbs8vJo"
      },
      "source": [
        "# Model Development"
      ]
    },
    {
      "cell_type": "code",
      "metadata": {
        "id": "4hxYrJyVsvJI"
      },
      "source": [
        "############################\n",
        "# Custom model\n",
        "############################\n",
        "def get_custom_model(print_summary = False):\n",
        "  model = Sequential()\n",
        "  model.add(Convolution2D(nb_filters, (5, 5), activation = 'relu', padding='same', input_shape=input_shape))\n",
        "  model.add(Convolution2D(nb_filters, (5, 5), activation = 'relu', padding='same'))\n",
        "  model.add(MaxPool2D(pool_size=pool_size))\n",
        "  model.add(Dropout(rate=0.25))\n",
        "  model.add(Convolution2D(nb_filters*2, (3, 3), activation='relu', padding='same'))\n",
        "  model.add(Convolution2D(nb_filters*2, (3, 3), activation='relu', padding='same'))\n",
        "  model.add(Convolution2D(nb_filters*2, (3, 3), activation='relu', padding='same'))\n",
        "  model.add(MaxPool2D(pool_size=pool_size))\n",
        "  model.add(Dropout(rate=0.25))\n",
        "  model.add(Convolution2D(nb_filters*2, (3, 3), activation='relu', padding='same'))\n",
        "  model.add(Convolution2D(nb_filters*2, (3, 3), activation='relu', padding='same'))\n",
        "  model.add(MaxPool2D(pool_size=pool_size))\n",
        "  model.add(Dropout(rate=0.25))\n",
        "  model.add(Flatten())\n",
        "  model.add(Dense(64, activation='relu'))\n",
        "  model.add(Dropout(rate=0.5))\n",
        "  model.add(Dense(4, activation='softmax'))\n",
        "  model.compile(loss='categorical_crossentropy', optimizer='adam', metrics=['accuracy'])\n",
        "  if print_summary:\n",
        "    model.summary()\n",
        "  return model"
      ],
      "execution_count": null,
      "outputs": []
    },
    {
      "cell_type": "code",
      "metadata": {
        "id": "0X0KuNlKNwcx"
      },
      "source": [
        "############################\n",
        "# Transfer learning model\n",
        "############################\n",
        "def get_pretrained_model(transfer_learning_model = 'None', weights = None, unfreeze_last_layer = 0, print_summary = False, print_fine_tuning_summary = True):\n",
        "  ################ Choose Pre-trained model #########################\n",
        "  if transfer_learning_model == 'Xception':\n",
        "    selected_model = \"Xception pre-trained model selected\"\n",
        "    print(selected_model)\n",
        "    pretrained_model = tf.keras.applications.Xception(input_shape = (IMAGE_WIDTH, IMAGE_HEIGHT, IMAGE_CHANNEL), weights = weights, include_top=False)\n",
        "  \n",
        "  elif transfer_learning_model == 'VGG16':\n",
        "    selected_model = \"VGG16 pre-trained model selected\"\n",
        "    print(selected_model)\n",
        "    pretrained_model = tf.keras.applications.VGG16(input_shape = (IMAGE_WIDTH, IMAGE_HEIGHT, IMAGE_CHANNEL), weights = weights, include_top=False)\n",
        "  \n",
        "  elif transfer_learning_model == 'VGG19':\n",
        "    selected_model = \"VGG19 pre-trained model selected\"\n",
        "    print(selected_model)\n",
        "    pretrained_model = tf.keras.applications.VGG19(input_shape = (IMAGE_WIDTH, IMAGE_HEIGHT, IMAGE_CHANNEL), weights = weights, include_top=False)\n",
        "\n",
        "  elif transfer_learning_model == 'ResNet50V2':\n",
        "    selected_model = \"ResNet50V2 pre-trained model selected\"\n",
        "    print(selected_model)\n",
        "    pretrained_model = tf.keras.applications.ResNet50V2(input_shape = (IMAGE_WIDTH, IMAGE_HEIGHT, IMAGE_CHANNEL), weights = weights, include_top=False)\n",
        "  \n",
        "  elif transfer_learning_model == 'ResNet101V2':\n",
        "    selected_model = \"ResNet101V2 pre-trained model selected\"\n",
        "    print(selected_model)\n",
        "    pretrained_model = tf.keras.applications.ResNet101V2(input_shape = (IMAGE_WIDTH, IMAGE_HEIGHT, IMAGE_CHANNEL), weights = weights, include_top=False)\n",
        "\n",
        "  elif transfer_learning_model == 'ResNet152V2':\n",
        "    selected_model = \"ResNet152V2 pre-trained model selected\"\n",
        "    print(selected_model)\n",
        "    pretrained_model = tf.keras.applications.ResNet152V2(input_shape = (IMAGE_WIDTH, IMAGE_HEIGHT, IMAGE_CHANNEL), weights = weights, include_top=False)\n",
        "\n",
        "  elif transfer_learning_model == 'InceptionV3':\n",
        "    selected_model = \"InceptionV3 pre-trained model selected\"\n",
        "    print(selected_model)\n",
        "    pretrained_model = tf.keras.applications.InceptionV3(input_shape = (IMAGE_WIDTH, IMAGE_HEIGHT, IMAGE_CHANNEL), weights = weights, include_top=False)\n",
        "\n",
        "  elif transfer_learning_model == 'InceptionResNetV2':\n",
        "    selected_model = \"InceptionResNetV2 pre-trained model selected\"\n",
        "    print(selected_model)\n",
        "    pretrained_model = tf.keras.applications.InceptionResNetV2(input_shape = (IMAGE_WIDTH, IMAGE_HEIGHT, IMAGE_CHANNEL), weights = weights, include_top=False)\n",
        "\n",
        "  elif transfer_learning_model == 'MobileNetV2':\n",
        "    selected_model = \"MobileNetV2 pre-trained model selected\"\n",
        "    print(selected_model)\n",
        "    pretrained_model = tf.keras.applications.MobileNetV2(input_shape = (IMAGE_WIDTH, IMAGE_HEIGHT, IMAGE_CHANNEL), weights = weights, include_top=False)\n",
        "\n",
        "  elif transfer_learning_model == 'DenseNet121':\n",
        "    selected_model = \"DenseNet121 pre-trained model selected\"\n",
        "    print(selected_model)\n",
        "    pretrained_model = tf.keras.applications.DenseNet121(input_shape = (IMAGE_WIDTH, IMAGE_HEIGHT, IMAGE_CHANNEL), weights = weights, include_top=False)\n",
        "\n",
        "  elif transfer_learning_model == 'DenseNet169':\n",
        "    selected_model = \"DenseNet169 pre-trained model selected\"\n",
        "    print(selected_model)\n",
        "    pretrained_model = tf.keras.applications.DenseNet169(input_shape = (IMAGE_WIDTH, IMAGE_HEIGHT, IMAGE_CHANNEL), weights = weights, include_top=False)\n",
        "\n",
        "  elif transfer_learning_model == 'DenseNet201':\n",
        "    selected_model = \"DenseNet201 pre-trained model selected\"\n",
        "    print(selected_model)\n",
        "    pretrained_model = tf.keras.applications.DenseNet201(input_shape = (IMAGE_WIDTH, IMAGE_HEIGHT, IMAGE_CHANNEL), weights = weights, include_top=False)\n",
        "\n",
        "  elif transfer_learning_model == 'NASNetMobile':\n",
        "    selected_model = \"NASNetMobile pre-trained model selected\"\n",
        "    print(selected_model)\n",
        "    pretrained_model = tf.keras.applications.NASNetMobile(input_shape = (IMAGE_WIDTH, IMAGE_HEIGHT, IMAGE_CHANNEL), weights = weights, include_top=False)\n",
        "\n",
        "  elif transfer_learning_model == 'NASNetLarge':\n",
        "    selected_model = \"NASNetLarge pre-trained model selected\"\n",
        "    print(selected_model)\n",
        "    pretrained_model = tf.keras.applications.NASNetLarge(input_shape = (IMAGE_WIDTH, IMAGE_HEIGHT, IMAGE_CHANNEL), weights = weights, include_top=False)\n",
        "  \n",
        "  else:\n",
        "    print(\"Not defined / Does not exist\")\n",
        "    return 0\n",
        "  ##################################################################\n",
        "  # Freeze early layers\n",
        "  for layer in pretrained_model.layers:\n",
        "    if unfreeze_last_layer < len(pretrained_model.layers):\n",
        "      layer.trainable = False\n",
        "      unfreeze_last_layer += 1\n",
        "\n",
        "  # Print summary of pre-trained model\n",
        "  if print_summary:\n",
        "    pretrained_model.summary()\n",
        "    if unfreeze_last_layer > 0:\n",
        "      print(\"####################### UNFREEZED LAYER #########################\")\n",
        "      print(\"Layer            Trainable\")\n",
        "      for layer in pretrained_model.layers:\n",
        "        if layer.trainable == True:\n",
        "          sp = '      '[len(layer.name)-9:]\n",
        "          print(layer.name, sp, layer.trainable)\n",
        "\n",
        "  model = Sequential()\n",
        "  model.add(pretrained_model)\n",
        "\n",
        "  # Fine tuning our layers - you can add more if you want\n",
        "  model.add(Flatten())\n",
        "  model.add(Dense(512, activation='relu'))\n",
        "  model.add(Dropout(0.4))\n",
        "  model.add(Dense(256, activation = 'relu'))\n",
        "  model.add(Dropout(0.2))\n",
        "\n",
        "  # Prediction layer\n",
        "  model.add(layers.Dense(len(IMAGE_CLASSES), activation = 'softmax'))\n",
        "\n",
        "  # Compile model\n",
        "  model.compile(\n",
        "      optimizer='adam',\n",
        "      loss = 'categorical_crossentropy',\n",
        "      metrics=['accuracy']\n",
        "  )\n",
        "\n",
        "  if print_fine_tuning_summary:\n",
        "    print(\"###################### AFTER FINE TUNING ########################\")\n",
        "    model.summary()\n",
        "    print(selected_model)\n",
        "\n",
        "  return model\n"
      ],
      "execution_count": null,
      "outputs": []
    },
    {
      "cell_type": "markdown",
      "metadata": {
        "id": "sOCKSa2JNtUp"
      },
      "source": [
        "# **Training**"
      ]
    },
    {
      "cell_type": "code",
      "metadata": {
        "id": "-p8ezpgJq0MX"
      },
      "source": [
        "# Path where dataset is located\n",
        "drive.mount('/content/drive')\n",
        "dataset_path = '/content/drive/My Drive/FYP Stuff/Datasets/'\n",
        "dataset_name = 'Dataset 400A'\n",
        "train_path = dataset_path + dataset_name + '/Train'\n",
        "valid_path = dataset_path + dataset_name + '/Valid'    # Some literature use the term \"test set\" / \"valid set\" but it is actually a \"dev set\". This is the set that is iterated during training.\n",
        "test_path = dataset_path + dataset_name + '/Valid'  # Test set helps evaluate how good your final system is. It's ok not to have test set."
      ],
      "execution_count": null,
      "outputs": []
    },
    {
      "cell_type": "code",
      "metadata": {
        "id": "hTqW8phglzf0"
      },
      "source": [
        "IMAGE_CLASSES = ['Normal','Grade I','Grade II','Grade III']         # Naming Classes (The names must be in the same order as in dataset folder (usually alphabetically))\n",
        "MODEL = 'Xception'              # Xception, VGG16, VGG19, InceptionResNetV2, ResNet50V2, ResNet101V2, ResNet152V2, InceptionV3, InceptionResNetV2, MobileNetV2, DenseNet121, DenseNet169, DenseNet201, NASNetMobile, NASNetLarge\n",
        "SAVE_MODEL_NAME = MODEL + '_' + dataset_name + '_awesome_model.h5'         # Name of the model to save after training\n",
        "BATCH_SIZE = 64                 # Mini-batch size\n",
        "SEED = 2020                     # Fixed randomness (For reproducible result!)\n",
        "python_random.seed(SEED)        # necessary for starting core Python generated random numbers in a well-defined state.\n",
        "np.random.seed(SEED)            # necessary for starting Numpy generated random numbers in a well-defined state.\n",
        "tf.random.set_seed(SEED)        # will make random number generation in the TensorFlow backend have a well-defined initial state.\n",
        "\n",
        "IMAGE_WIDTH, IMAGE_HEIGHT, IMAGE_CHANNEL = get_pretrained_model_input_size(MODEL)\n",
        "print(\"Training on\", MODEL)\n",
        "print(\"Input:\",IMAGE_WIDTH,'x',IMAGE_HEIGHT,'x',IMAGE_CHANNEL)"
      ],
      "execution_count": null,
      "outputs": []
    },
    {
      "cell_type": "code",
      "metadata": {
        "id": "CGz3kvFyvCtv"
      },
      "source": [
        "train_generator = get_train_generator()\n",
        "valid_generator = get_valid_generator()\n",
        "test_generator = get_test_generator()"
      ],
      "execution_count": null,
      "outputs": []
    },
    {
      "cell_type": "code",
      "metadata": {
        "id": "FSQFUzxM3pfz"
      },
      "source": [
        "# Show image generated by generator\n",
        "# show_image_generated(train_generator, index = 3, img_size = 12)  # Print image generated by generator. Change index to see different batch (start at 0)\n",
        "# plot_augmented_images(train_generator,5,0,0)"
      ],
      "execution_count": null,
      "outputs": []
    },
    {
      "cell_type": "code",
      "metadata": {
        "id": "HtspDgmbh6cc"
      },
      "source": [
        "# Check number of image in each class\n",
        "train_freq = get_freq_data(train_generator)\n",
        "valid_freq = get_freq_data(valid_generator)\n",
        "total_freq = np.array(train_freq) + np.array(valid_freq)\n",
        "valid_data_freq = np.array(valid_freq)/total_freq\n",
        "print(\"Valid data Percentage:\",valid_data_freq)\n",
        "\n"
      ],
      "execution_count": null,
      "outputs": []
    },
    {
      "cell_type": "code",
      "metadata": {
        "id": "Ot5APNa3RHoj"
      },
      "source": [
        "model = get_pretrained_model(MODEL, weights = 'imagenet', unfreeze_last_layer = 0, print_summary = False, print_fine_tuning_summary = True)"
      ],
      "execution_count": null,
      "outputs": []
    },
    {
      "cell_type": "code",
      "metadata": {
        "id": "hP8BJ3whguHE"
      },
      "source": [
        "EPOCH = 50                      # Number of training epoch\n",
        "\n",
        "time_start = time.time()\n",
        "history = model.fit(\n",
        "    x = train_generator,\n",
        "    validation_data = valid_generator,\n",
        "    epochs = EPOCH,\n",
        "    verbose = 1,\n",
        "    steps_per_epoch = train_generator.samples / train_generator.batch_size ,\n",
        "    validation_steps = valid_generator.samples / valid_generator.batch_size\n",
        ")\n",
        "print(\"Training done. Evaluating...\")\n",
        "time_end = time.time()\n",
        "final_accuracy = history.history[\"val_accuracy\"][-5:]\n",
        "Training_Accuracy = model.evaluate(train_generator, steps=24)\n",
        "Validation_Accuracy = model.evaluate(test_generator, steps=24)\n",
        "print(\"Finish!\")"
      ],
      "execution_count": null,
      "outputs": []
    },
    {
      "cell_type": "code",
      "metadata": {
        "id": "upIQmlOD0BR7"
      },
      "source": [
        "print(\"Trained on\", MODEL)\r\n",
        "print(\"Time taken:\", datetime.timedelta(seconds=(int(time_end - time_start))), \"(hh:mm:ss)\")\r\n",
        "print(\"The Model Accuracy for Train data is: \", \"{:.2%}\".format(Training_Accuracy[1]))\r\n",
        "print(\"The Model Accuracy for Validation data is: \", \"{:.2%}\".format(Validation_Accuracy[1]))\r\n",
        "print(\"FINAL VALIDATION ACCURACY MEAN-5: \", np.mean(final_accuracy))\r\n",
        "# Loss and Accuracy\r\n",
        "plt.subplots(figsize=(9,3.5))\r\n",
        "plt.tight_layout()\r\n",
        "display_training_curves(history.history['loss'], history.history['val_loss'], 'Loss', 121)\r\n",
        "display_training_curves(history.history['accuracy'], history.history['val_accuracy'], 'Accuracy', 122)"
      ],
      "execution_count": null,
      "outputs": []
    },
    {
      "cell_type": "markdown",
      "metadata": {
        "id": "BPAwPBVyeKOU"
      },
      "source": [
        "# **Save & Reload Model**"
      ]
    },
    {
      "cell_type": "code",
      "metadata": {
        "id": "7OF5Lal1eRdl"
      },
      "source": [
        "model.save(SAVE_MODEL_NAME) #Save\n",
        "#reloaded_model = tf.keras.models.load_model(SAVE_MODEL_NAME) #\n",
        "reloaded_model = tf.keras.models.load_model('awesome_model.h5') #Load"
      ],
      "execution_count": null,
      "outputs": []
    },
    {
      "cell_type": "markdown",
      "metadata": {
        "id": "CodWngl7Npp0"
      },
      "source": [
        "# **Evaluation**"
      ]
    },
    {
      "cell_type": "markdown",
      "metadata": {
        "id": "QCGi8u_k2bUt"
      },
      "source": [
        "**Predict**"
      ]
    },
    {
      "cell_type": "code",
      "metadata": {
        "id": "m8X3zRwEz0QA"
      },
      "source": [
        "# True label\n",
        "true_labels = test_generator.classes  # Get label of valid_generator\n",
        "# Prediction label\n",
        "predictions = reloaded_model.predict(x=test_generator, steps=len(test_generator),verbose = 0)\n",
        "pred_labels = np.argmax(predictions, axis=-1)"
      ],
      "execution_count": null,
      "outputs": []
    },
    {
      "cell_type": "markdown",
      "metadata": {
        "id": "YXd4oJKfe-O6"
      },
      "source": [
        "**Confusion Matrix**"
      ]
    },
    {
      "cell_type": "code",
      "metadata": {
        "id": "pZxJhOGVe51m"
      },
      "source": [
        "# Plot Confusion Matrix\n",
        "cm = confusion_matrix(y_true=true_labels, y_pred=pred_labels)\n",
        "plt.subplots(figsize=(10,4))\n",
        "plot_confusion_matrix(cm=cm, classes=IMAGE_CLASSES, title='Confusion Matrix',normalize=False, subplot=121)\n",
        "plot_confusion_matrix(cm=cm, classes=IMAGE_CLASSES, title='Normalized Confusion Matrix',normalize=True, subplot=122)"
      ],
      "execution_count": null,
      "outputs": []
    },
    {
      "cell_type": "markdown",
      "metadata": {
        "id": "exrZB62bykMd"
      },
      "source": [
        "**Other Metrics**"
      ]
    },
    {
      "cell_type": "code",
      "metadata": {
        "id": "p8kuf5gjfKBi"
      },
      "source": [
        "report = metrics.classification_report(y_true = true_labels, y_pred = pred_labels, target_names=IMAGE_CLASSES)\n",
        "print(report)"
      ],
      "execution_count": null,
      "outputs": []
    },
    {
      "cell_type": "markdown",
      "metadata": {
        "id": "HjURL9E61IIO"
      },
      "source": [
        "**Show all images with predictions**"
      ]
    },
    {
      "cell_type": "code",
      "metadata": {
        "id": "GV-htoZjHuiG"
      },
      "source": [
        "show_all_prediction_image(test_path, test_generator, true_labels, pred_labels) # Argument:(Path of test dataset, test generator to generate image, true labels generated by test generator, predicted labels generated by model on test dataset)"
      ],
      "execution_count": null,
      "outputs": []
    }
  ]
}