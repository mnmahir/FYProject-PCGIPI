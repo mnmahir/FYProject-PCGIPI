{
  "nbformat": 4,
  "nbformat_minor": 0,
  "metadata": {
    "colab": {
      "name": "VGG16 - A.ipynb",
      "provenance": [],
      "authorship_tag": "ABX9TyO5WIVwSw5qtOWfv2cMEZLy",
      "include_colab_link": true
    },
    "kernelspec": {
      "name": "python3",
      "display_name": "Python 3"
    }
  },
  "cells": [
    {
      "cell_type": "markdown",
      "metadata": {
        "id": "view-in-github",
        "colab_type": "text"
      },
      "source": [
        "<a href=\"https://colab.research.google.com/github/mnmahir/best-fyp/blob/main/VGG16.ipynb\" target=\"_parent\"><img src=\"https://colab.research.google.com/assets/colab-badge.svg\" alt=\"Open In Colab\"/></a>"
      ]
    },
    {
      "cell_type": "markdown",
      "metadata": {
        "id": "c_JNq8HtGTFU"
      },
      "source": [
        "#**Import Libraries**"
      ]
    },
    {
      "cell_type": "code",
      "metadata": {
        "id": "cjtiRu3dCtTg"
      },
      "source": [
        "# Google Drive\n",
        "from google.colab import drive\n",
        "# General\n",
        "import tensorflow as tf\n",
        "import numpy as np\n",
        "import matplotlib.pyplot as plt\n",
        "# Keras Library\n"
      ],
      "execution_count": 17,
      "outputs": []
    },
    {
      "cell_type": "markdown",
      "metadata": {
        "id": "o2n1aFmjGqCx"
      },
      "source": [
        "#**Mounting drive and setting path**"
      ]
    },
    {
      "cell_type": "code",
      "metadata": {
        "colab": {
          "base_uri": "https://localhost:8080/"
        },
        "id": "M-zj49aoCv2N",
        "outputId": "811c6ceb-774c-42a8-e7df-5e58f763db89"
      },
      "source": [
        "drive.mount('/content/drive')"
      ],
      "execution_count": 3,
      "outputs": [
        {
          "output_type": "stream",
          "text": [
            "Mounted at /content/drive\n"
          ],
          "name": "stdout"
        }
      ]
    },
    {
      "cell_type": "code",
      "metadata": {
        "id": "v9KrU6iJGo28"
      },
      "source": [
        "# Path where dataset is located\n",
        "dataset_path = '/content/drive/My Drive/FYP Stuff/Datasets/#old/Dataset 1C'\n",
        "train_path = dataset_path + '/Train'\n",
        "valid_path = dataset_path + '/Test'    # Some literature use the term \"test set\" / \"valid set\" but it is actually a \"dev set\". This is the set that is iterated during training.\n",
        "#test_path = dataset_path + '/Test'  # Test set helps evaluate how good your final system is. It's ok not to have test set."
      ],
      "execution_count": 35,
      "outputs": []
    },
    {
      "cell_type": "markdown",
      "metadata": {
        "id": "gsLPveBhHryf"
      },
      "source": [
        "#**Initialization**"
      ]
    },
    {
      "cell_type": "code",
      "metadata": {
        "id": "JTaCMVc6HZA2"
      },
      "source": [
        "# Classes (Name must be exactly the same as folder name in each set)\n",
        "IMAGE_CLASSES = ['Normal','Grade I','Grade II','Grade III']\n",
        "# Image size (Set for resizing later)\n",
        "IMAGE_SIZE = [224,224]\n",
        "# Mini-batch size\n",
        "BATCH_SIZE = 16\n",
        "# Fixed randomness\n",
        "SEED = 1"
      ],
      "execution_count": 36,
      "outputs": []
    },
    {
      "cell_type": "markdown",
      "metadata": {
        "id": "r4O-p995K0b0"
      },
      "source": [
        "# **Initialize Functions**\n",
        "**Data Augmentation**"
      ]
    },
    {
      "cell_type": "code",
      "metadata": {
        "id": "9DAdDNLpK67S"
      },
      "source": [
        "############################\n",
        "# Training data generator\n",
        "############################\n",
        "def get_train_generator():\n",
        "  print(\"Getting train generator...\")\n",
        "  image_generator = tf.keras.preprocessing.image.ImageDataGenerator(\n",
        "      rescale = 1./255\n",
        "  )\n",
        "  \n",
        "  generator = image_generator.flow_from_directory(\n",
        "      batch_size = BATCH_SIZE,\n",
        "      directory = train_path,\n",
        "      shuffle = True,             # Shuffle input after each epoch\n",
        "      target_size = IMAGE_SIZE,   # Set image size to be [x]px by [y]px set in IMAGE_SIZE\n",
        "      class_mode = 'categorical',\n",
        "      seed = SEED,\n",
        "  )\n",
        "\n",
        "  return generator\n",
        "############################\n",
        "# Validation data generator\n",
        "############################\n",
        "def get_valid_generator():\n",
        "  print(\"Getting valid generator...\")\n",
        "  image_generator = tf.keras.preprocessing.image.ImageDataGenerator(\n",
        "      rescale = 1./255\n",
        "  )\n",
        "  \n",
        "  generator = image_generator.flow_from_directory(\n",
        "      batch_size = BATCH_SIZE,\n",
        "      directory = valid_path,\n",
        "      shuffle = False,             # Shuffle input after each epoch\n",
        "      target_size = IMAGE_SIZE,   # Set image size to be [x]px by [y]px set in IMAGE_SIZE\n",
        "      class_mode = 'categorical',\n",
        "      seed = SEED,\n",
        "  )\n",
        "\n",
        "  return generator"
      ],
      "execution_count": 37,
      "outputs": []
    },
    {
      "cell_type": "code",
      "metadata": {
        "id": "v5ygleylARGK"
      },
      "source": [
        ""
      ],
      "execution_count": null,
      "outputs": []
    },
    {
      "cell_type": "code",
      "metadata": {
        "id": "CGz3kvFyvCtv",
        "outputId": "ba80a126-5075-4415-e01c-8e522b54f1d1",
        "colab": {
          "base_uri": "https://localhost:8080/"
        }
      },
      "source": [
        "train_gen = get_train_generator()\n",
        "valid_gen = get_valid_generator()"
      ],
      "execution_count": 38,
      "outputs": [
        {
          "output_type": "stream",
          "text": [
            "Getting train generator...\n",
            "Found 2708 images belonging to 4 classes.\n",
            "Getting valid generator...\n",
            "Found 676 images belonging to 4 classes.\n"
          ],
          "name": "stdout"
        }
      ]
    },
    {
      "cell_type": "markdown",
      "metadata": {
        "id": "tI6wEkbs8vJo"
      },
      "source": [
        "# **Build Model**"
      ]
    }
  ]
}