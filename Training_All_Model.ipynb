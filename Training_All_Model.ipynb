{
  "nbformat": 4,
  "nbformat_minor": 0,
  "metadata": {
    "accelerator": "GPU",
    "colab": {
      "name": "Training All Model.ipynb",
      "provenance": [],
      "collapsed_sections": [],
      "include_colab_link": true
    },
    "kernelspec": {
      "display_name": "Python 3",
      "name": "python3"
    }
  },
  "cells": [
    {
      "cell_type": "markdown",
      "metadata": {
        "id": "view-in-github",
        "colab_type": "text"
      },
      "source": [
        "<a href=\"https://colab.research.google.com/github/mnmahir/best-fyp/blob/main/Training_All_Model.ipynb\" target=\"_parent\"><img src=\"https://colab.research.google.com/assets/colab-badge.svg\" alt=\"Open In Colab\"/></a>"
      ]
    },
    {
      "cell_type": "markdown",
      "metadata": {
        "id": "c_JNq8HtGTFU"
      },
      "source": [
        "#**Import Libraries**"
      ]
    },
    {
      "cell_type": "code",
      "metadata": {
        "id": "cjtiRu3dCtTg"
      },
      "source": [
        "# Google Drive\n",
        "from google.colab import drive\n",
        "# General\n",
        "import math\n",
        "import tensorflow as tf\n",
        "import numpy as np\n",
        "import matplotlib.pyplot as plt\n",
        "import keras\n",
        "import itertools\n",
        "import random as python_random\n",
        "# Keras Library\n",
        "from keras.models import Sequential\n",
        "from keras import layers\n",
        "from keras.layers import Dense, Dropout, Activation, Flatten\n",
        "from keras.layers import Convolution2D, MaxPool2D\n",
        "from keras.models import Model\n",
        "from keras import backend as Kbackend\n",
        "from keras.preprocessing import image\n",
        "# ScikitLearn\n",
        "from sklearn.metrics import confusion_matrix\n",
        "import sklearn.metrics as metrics\n",
        "# Others\n",
        "import time\n",
        "import datetime\n",
        "import os\n",
        "\n",
        "print(\"Keras version: \", keras.__version__)\n",
        "print(\"TensorFlow version:\", tf.__version__)"
      ],
      "execution_count": null,
      "outputs": []
    },
    {
      "cell_type": "code",
      "metadata": {
        "id": "hGPQTfele8cr"
      },
      "source": [
        "# Check GPU. With Colab Pro you have priority access to our fastest GPUs. For example, you may get a T4 or P100 GPU at times when most users of standard Colab receive a slower K80 GPU. You can see what GPU you've been assigned at any time by executing the following cell.\r\n",
        "gpu_info = !nvidia-smi\r\n",
        "gpu_info = '\\n'.join(gpu_info)\r\n",
        "if gpu_info.find('failed') >= 0:\r\n",
        "  print('Select the Runtime > \"Change runtime type\" menu to enable a GPU accelerator, ')\r\n",
        "  print('and then re-execute this cell.')\r\n",
        "else:\r\n",
        "  print(gpu_info)\r\n",
        "# In order to use a GPU with your notebook, select the Runtime > Change runtime type menu, and then set the hardware accelerator dropdown to GPU."
      ],
      "execution_count": null,
      "outputs": []
    },
    {
      "cell_type": "markdown",
      "metadata": {
        "id": "r4O-p995K0b0"
      },
      "source": [
        "# **Initialize Functions**"
      ]
    },
    {
      "cell_type": "markdown",
      "metadata": {
        "id": "qMy7-6miwQsJ"
      },
      "source": [
        "# Tools"
      ]
    },
    {
      "cell_type": "code",
      "metadata": {
        "id": "QjG_Hxg4wPlN"
      },
      "source": [
        "############################\n",
        "# Solving class imbalance\n",
        "############################\n",
        "def get_freq_data(generator):\n",
        "  class_data_labels = generator.classes\n",
        "  total_class = len(IMAGE_CLASSES)\n",
        "  freq_out = []\n",
        "\n",
        "  for i in range(total_class):\n",
        "    total_label_i = 0\n",
        "    for ele in class_data_labels:\n",
        "      if ele == i:\n",
        "        total_label_i += 1\n",
        "    freq_out.append(total_label_i)\n",
        "  \n",
        "  print(\"Total number of class is:\", total_class, generator.class_indices)\n",
        "  print(\"Total image in generator is: \", freq_out)\n",
        "  return freq_out\n",
        "############################\n",
        "# Display training and validation curve\n",
        "############################\n",
        "def display_training_curves(training, validation, title, subplot):\n",
        "  ax = plt.subplot(subplot)\n",
        "  ax.plot(training)\n",
        "  ax.plot(validation)\n",
        "  ax.set_title('Model '+ title)\n",
        "  ax.set_ylabel(title)\n",
        "  ax.set_xlabel('epoch')\n",
        "  ax.legend(['Training', 'Validation'])\n",
        "\n",
        "############################\n",
        "# Display confusion matrix\n",
        "############################\n",
        "def plot_confusion_matrix(cm, classes,\n",
        "                          normalize=False,\n",
        "                          title='Confusion matrix',\n",
        "                          cmap=plt.cm.Blues, subplot = 121):\n",
        "    \"\"\"\n",
        "    This function prints and plots the confusion matrix.\n",
        "    Normalization can be applied by setting `normalize=True`.\n",
        "    \"\"\"\n",
        "    \n",
        "\n",
        "    if normalize:\n",
        "        cm = cm.astype('float') / cm.sum(axis=1)[:, np.newaxis]\n",
        "        print(\"Normalized confusion matrix\")\n",
        "        cm = np.round(cm,2)\n",
        "    else:\n",
        "        print('Confusion matrix, without normalization')\n",
        "\n",
        "    print(cm)\n",
        "    plt.subplot(subplot)\n",
        "    plt.imshow(cm, interpolation='nearest', cmap=cmap)\n",
        "    plt.title(title)\n",
        "    plt.colorbar()\n",
        "    tick_marks = np.arange(len(classes))  # Count number of classes for x & y axis lable\n",
        "    plt.xticks(tick_marks, classes, rotation=45) # x-axis label rotated 45 degree\n",
        "    plt.yticks(tick_marks, classes) # y-axis label\n",
        "    \n",
        "    thresh = cm.max() / 2.\n",
        "    for i, j in itertools.product(range(cm.shape[0]), range(cm.shape[1])):\n",
        "        plt.text(j, i, cm[i, j],\n",
        "            horizontalalignment=\"center\",\n",
        "            color=\"white\" if cm[i, j] > thresh else \"black\")\n",
        "\n",
        "    plt.tight_layout()\n",
        "    plt.ylabel('True label')\n",
        "    plt.xlabel('Predicted label')\n",
        "  \n",
        "############################\n",
        "# Show generated image\n",
        "############################\n",
        "def show_image_generated(generator, index, img_size):\n",
        "  x, y = generator.__getitem__(index)\n",
        "  img_plt = math.ceil(math.sqrt(BATCH_SIZE))\n",
        "  grid_plt = str(img_plt)+str(img_plt)+str(1)\n",
        "  plt.figure(1, figsize = (img_size,img_size))\n",
        "  for i in range(BATCH_SIZE):\n",
        "    plt.subplot(img_plt,img_plt,i+1)\n",
        "    plt.imshow(x[i])\n",
        "    plt.title(IMAGE_CLASSES[np.where(y[i] == 1.)[0][0]], fontsize = 2+img_size, pad = 0)\n",
        "    plt.axis('off')\n",
        "  plt.show()\n",
        "\n",
        "###########################\n",
        "# Show augmented image\n",
        "###########################\n",
        "# This function will plot images in the form of a grid with 1 row and 5 columns where images are placed in each column.\n",
        "def plot_augmented_images(img_generator, num, index_i = 0, index_j = 0):\n",
        "    images_arr = [img_generator[index_i][0][index_j] for i in range(num)]\n",
        "    fig, axes = plt.subplots(1, num, figsize=(20,20))\n",
        "    axes = axes.flatten()\n",
        "    for img, ax in zip(images_arr, axes):\n",
        "        ax.axis('off')\n",
        "        ax.imshow(img)\n",
        "    plt.tight_layout()\n",
        "    plt.show()\n",
        "\n",
        "############################\n",
        "# Show all prediction images\n",
        "############################\n",
        "def show_all_prediction_image(class_dir, generator, true_labels, pred_labels):\n",
        "  image_freq = get_freq_data(generator)\n",
        "  correct_pred = []\n",
        "  wrong_pred = []\n",
        "  for i in range(len(IMAGE_CLASSES)):\n",
        "    correct_num = 0\n",
        "    wrong_num = 0\n",
        "    for j in range(len(true_labels)):\n",
        "      if true_labels[j] == i:\n",
        "        if true_labels[j] == pred_labels[j]:\n",
        "          correct_num += 1\n",
        "        else:\n",
        "          wrong_num += 1\n",
        "    correct_pred.append(correct_num)\n",
        "    wrong_pred.append(wrong_num)\n",
        "\n",
        "  print('Folder names:' + str(sorted(os.listdir(class_dir))))\n",
        "  print('Correctly predicted:',correct_pred)\n",
        "  print('Wrongly predicted:',wrong_pred)\n",
        "\n",
        "  label_index_show = 0\n",
        "  file_name = []\n",
        "\n",
        "\n",
        "  \n",
        "  disp_col = 8\n",
        "  for i, class_f in enumerate(sorted(os.listdir(class_dir))):\n",
        "    img_dir = class_dir + '/' + class_f\n",
        "    display_row = math.ceil(image_freq[i]/disp_col)\n",
        "    batch_holder = np.zeros((image_freq[i], IMAGE_WIDTH, IMAGE_HEIGHT, 3))\n",
        "    print('========================================================================')\n",
        "    print('True Class:', class_f)\n",
        "    print('Total images:', image_freq[i],'| Correctly predicted:',correct_pred[i],'| Wrongly predicted:',wrong_pred[i])\n",
        "    print('========================================================================')\n",
        "    for j,img in enumerate(sorted(os.listdir(img_dir))):\n",
        "      file_name.append(img)\n",
        "      img = image.load_img(os.path.join(img_dir,img), target_size=(IMAGE_WIDTH,IMAGE_HEIGHT))\n",
        "      batch_holder[j, :] = img\n",
        "\n",
        "    plt.figure(1, figsize = (disp_col*1.9,display_row*2.2))\n",
        "\n",
        "    for j,img in enumerate(batch_holder):\n",
        "      title = str(file_name[label_index_show]) + '\\nP: ' + IMAGE_CLASSES[pred_labels[label_index_show]]\n",
        "      plt.subplot(display_row, disp_col, j+1)\n",
        "      if true_labels[label_index_show] == pred_labels[label_index_show]:\n",
        "        plt.title(title)\n",
        "      else:\n",
        "        plt.title(title,color = 'red')\n",
        "      plt.axis('off')\n",
        "      plt.imshow(img/256.)\n",
        "      label_index_show += 1\n",
        "      \n",
        "    plt.show()\n",
        "\n",
        "############################\n",
        "# Get input image for pre-trained model\n",
        "############################\n",
        "def get_pretrained_model_input_size(MODEL = 'None'):\n",
        "  if MODEL == 'Xception' or MODEL == 'InceptionV3' or MODEL == 'InceptionResNetV2':\n",
        "    return (299, 299, 3)\n",
        "  elif MODEL == 'VGG16' or MODEL == 'VGG19' or MODEL == 'ResNet50V2' or MODEL == 'ResNet101V2' or MODEL == 'ResNet152V2' or MODEL == 'MobileNetV2' or MODEL == 'DenseNet121' or MODEL == 'DenseNet169' or MODEL == 'DenseNet201' or MODEL == 'NASNetMobile':\n",
        "    return (224, 224, 3)\n",
        "  elif MODEL == 'NASNetLarge':\n",
        "    return (331, 331, 3)\n",
        "  else:\n",
        "    print(\"Invalid model name/ not defined\")\n",
        "    return (0,0,0)\n",
        "############################\n",
        "# Convert File size unit\n",
        "############################\n",
        "def convert_file_size_unit(size_in_bytes, unit):\n",
        "   if unit == 'kB':\n",
        "       return size_in_bytes/1024\n",
        "   elif unit == 'MB':\n",
        "       return size_in_bytes/(1024*1024)\n",
        "   elif unit == 'GB':\n",
        "       return size_in_bytes/(1024*1024*1024)\n",
        "   else:\n",
        "       return size_in_bytes"
      ],
      "execution_count": null,
      "outputs": []
    },
    {
      "cell_type": "markdown",
      "metadata": {
        "id": "OWr5BoRUu91K"
      },
      "source": [
        "# Data Augmentation"
      ]
    },
    {
      "cell_type": "code",
      "metadata": {
        "id": "9DAdDNLpK67S"
      },
      "source": [
        "############################\n",
        "# Training data generator\n",
        "############################\n",
        "def get_train_generator():\n",
        "  print(\"Getting train generator...\")\n",
        "  image_generator = tf.keras.preprocessing.image.ImageDataGenerator(\n",
        "      rescale = 1./255,\n",
        "      rotation_range = 90,\n",
        "      vertical_flip = True,\n",
        "      horizontal_flip = True,\n",
        "      fill_mode = 'reflect'\n",
        "  )\n",
        "\n",
        "  generator = image_generator.flow_from_directory(\n",
        "      batch_size = BATCH_SIZE,\n",
        "      directory = train_path,\n",
        "      shuffle = True,             # Shuffle input after each epoch\n",
        "      target_size = (IMAGE_WIDTH, IMAGE_HEIGHT),   # Set image size to be [x]px by [y]px set in IMAGE_SIZE\n",
        "      class_mode = 'categorical',\n",
        "      seed = SEED,\n",
        "  )\n",
        "\n",
        "  return generator\n",
        "############################\n",
        "# Validation data generator\n",
        "############################\n",
        "def get_valid_generator():\n",
        "  print(\"Getting valid generator...\")\n",
        "  image_generator = tf.keras.preprocessing.image.ImageDataGenerator(\n",
        "      rescale = 1./255\n",
        "  )\n",
        "\n",
        "  generator = image_generator.flow_from_directory(\n",
        "      batch_size = BATCH_SIZE,\n",
        "      directory = valid_path,\n",
        "      shuffle = False,             # Shuffle input after each epoch\n",
        "      target_size = (IMAGE_WIDTH, IMAGE_HEIGHT),   # Set image size to be [x]px by [y]px set in IMAGE_SIZE\n",
        "      class_mode = 'categorical',\n",
        "      seed = SEED,\n",
        "  )\n",
        "\n",
        "  return generator\n",
        "############################\n",
        "# Test data generator\n",
        "############################\n",
        "def get_test_generator():\n",
        "  print(\"Getting test generator...\")\n",
        "  image_generator = tf.keras.preprocessing.image.ImageDataGenerator(\n",
        "      rescale = 1./255\n",
        "  )\n",
        "\n",
        "  generator = image_generator.flow_from_directory(\n",
        "      batch_size = BATCH_SIZE,\n",
        "      directory = test_path,\n",
        "      shuffle = False,             # Shuffle input after each epoch\n",
        "      target_size = (IMAGE_WIDTH, IMAGE_HEIGHT),   # Set image size to be [x]px by [y]px set in IMAGE_SIZE\n",
        "      class_mode = 'categorical',\n",
        "      seed = SEED,\n",
        "  )\n",
        "\n",
        "  return generator"
      ],
      "execution_count": null,
      "outputs": []
    },
    {
      "cell_type": "markdown",
      "metadata": {
        "id": "tI6wEkbs8vJo"
      },
      "source": [
        "# Model Development"
      ]
    },
    {
      "cell_type": "code",
      "metadata": {
        "id": "4hxYrJyVsvJI"
      },
      "source": [
        "############################\n",
        "# Custom model\n",
        "############################\n",
        "def get_custom_model(print_summary = False):\n",
        "  model = Sequential()\n",
        "  model.add(Convolution2D(nb_filters, (5, 5), activation = 'relu', padding='same', input_shape=input_shape))\n",
        "  model.add(Convolution2D(nb_filters, (5, 5), activation = 'relu', padding='same'))\n",
        "  model.add(MaxPool2D(pool_size=pool_size))\n",
        "  model.add(Dropout(rate=0.25))\n",
        "  model.add(Convolution2D(nb_filters*2, (3, 3), activation='relu', padding='same'))\n",
        "  model.add(Convolution2D(nb_filters*2, (3, 3), activation='relu', padding='same'))\n",
        "  model.add(Convolution2D(nb_filters*2, (3, 3), activation='relu', padding='same'))\n",
        "  model.add(MaxPool2D(pool_size=pool_size))\n",
        "  model.add(Dropout(rate=0.25))\n",
        "  model.add(Convolution2D(nb_filters*2, (3, 3), activation='relu', padding='same'))\n",
        "  model.add(Convolution2D(nb_filters*2, (3, 3), activation='relu', padding='same'))\n",
        "  model.add(MaxPool2D(pool_size=pool_size))\n",
        "  model.add(Dropout(rate=0.25))\n",
        "  model.add(Flatten())\n",
        "  model.add(Dense(64, activation='relu'))\n",
        "  model.add(Dropout(rate=0.5))\n",
        "  model.add(Dense(4, activation='softmax'))\n",
        "  model.compile(loss='categorical_crossentropy', optimizer='adam', metrics=['accuracy'])\n",
        "  if print_summary:\n",
        "    model.summary()\n",
        "  return model"
      ],
      "execution_count": null,
      "outputs": []
    },
    {
      "cell_type": "code",
      "metadata": {
        "id": "0X0KuNlKNwcx"
      },
      "source": [
        "############################\n",
        "# Transfer learning model\n",
        "############################\n",
        "def get_pretrained_model(transfer_learning_model = 'None', weights = None, unfreeze_last_layer = 0, print_summary = False, print_fine_tuning_summary = True):\n",
        "  ################ Choose Pre-trained model #########################\n",
        "  if transfer_learning_model == 'Xception':\n",
        "    selected_model = \"Xception pre-trained model selected\"\n",
        "    print(selected_model)\n",
        "    pretrained_model = tf.keras.applications.Xception(input_shape = (IMAGE_WIDTH, IMAGE_HEIGHT, IMAGE_CHANNEL), weights = weights, include_top=False)\n",
        "  \n",
        "  elif transfer_learning_model == 'VGG16':\n",
        "    selected_model = \"VGG16 pre-trained model selected\"\n",
        "    print(selected_model)\n",
        "    pretrained_model = tf.keras.applications.VGG16(input_shape = (IMAGE_WIDTH, IMAGE_HEIGHT, IMAGE_CHANNEL), weights = weights, include_top=False)\n",
        "  \n",
        "  elif transfer_learning_model == 'VGG19':\n",
        "    selected_model = \"VGG19 pre-trained model selected\"\n",
        "    print(selected_model)\n",
        "    pretrained_model = tf.keras.applications.VGG19(input_shape = (IMAGE_WIDTH, IMAGE_HEIGHT, IMAGE_CHANNEL), weights = weights, include_top=False)\n",
        "\n",
        "  elif transfer_learning_model == 'ResNet50V2':\n",
        "    selected_model = \"ResNet50V2 pre-trained model selected\"\n",
        "    print(selected_model)\n",
        "    pretrained_model = tf.keras.applications.ResNet50V2(input_shape = (IMAGE_WIDTH, IMAGE_HEIGHT, IMAGE_CHANNEL), weights = weights, include_top=False)\n",
        "  \n",
        "  elif transfer_learning_model == 'ResNet101V2':\n",
        "    selected_model = \"ResNet101V2 pre-trained model selected\"\n",
        "    print(selected_model)\n",
        "    pretrained_model = tf.keras.applications.ResNet101V2(input_shape = (IMAGE_WIDTH, IMAGE_HEIGHT, IMAGE_CHANNEL), weights = weights, include_top=False)\n",
        "\n",
        "  elif transfer_learning_model == 'ResNet152V2':\n",
        "    selected_model = \"ResNet152V2 pre-trained model selected\"\n",
        "    print(selected_model)\n",
        "    pretrained_model = tf.keras.applications.ResNet152V2(input_shape = (IMAGE_WIDTH, IMAGE_HEIGHT, IMAGE_CHANNEL), weights = weights, include_top=False)\n",
        "\n",
        "  elif transfer_learning_model == 'InceptionV3':\n",
        "    selected_model = \"InceptionV3 pre-trained model selected\"\n",
        "    print(selected_model)\n",
        "    pretrained_model = tf.keras.applications.InceptionV3(input_shape = (IMAGE_WIDTH, IMAGE_HEIGHT, IMAGE_CHANNEL), weights = weights, include_top=False)\n",
        "\n",
        "  elif transfer_learning_model == 'InceptionResNetV2':\n",
        "    selected_model = \"InceptionResNetV2 pre-trained model selected\"\n",
        "    print(selected_model)\n",
        "    pretrained_model = tf.keras.applications.InceptionResNetV2(input_shape = (IMAGE_WIDTH, IMAGE_HEIGHT, IMAGE_CHANNEL), weights = weights, include_top=False)\n",
        "\n",
        "  elif transfer_learning_model == 'MobileNetV2':\n",
        "    selected_model = \"MobileNetV2 pre-trained model selected\"\n",
        "    print(selected_model)\n",
        "    pretrained_model = tf.keras.applications.MobileNetV2(input_shape = (IMAGE_WIDTH, IMAGE_HEIGHT, IMAGE_CHANNEL), weights = weights, include_top=False)\n",
        "\n",
        "  elif transfer_learning_model == 'DenseNet121':\n",
        "    selected_model = \"DenseNet121 pre-trained model selected\"\n",
        "    print(selected_model)\n",
        "    pretrained_model = tf.keras.applications.DenseNet121(input_shape = (IMAGE_WIDTH, IMAGE_HEIGHT, IMAGE_CHANNEL), weights = weights, include_top=False)\n",
        "\n",
        "  elif transfer_learning_model == 'DenseNet169':\n",
        "    selected_model = \"DenseNet169 pre-trained model selected\"\n",
        "    print(selected_model)\n",
        "    pretrained_model = tf.keras.applications.DenseNet169(input_shape = (IMAGE_WIDTH, IMAGE_HEIGHT, IMAGE_CHANNEL), weights = weights, include_top=False)\n",
        "\n",
        "  elif transfer_learning_model == 'DenseNet201':\n",
        "    selected_model = \"DenseNet201 pre-trained model selected\"\n",
        "    print(selected_model)\n",
        "    pretrained_model = tf.keras.applications.DenseNet201(input_shape = (IMAGE_WIDTH, IMAGE_HEIGHT, IMAGE_CHANNEL), weights = weights, include_top=False)\n",
        "\n",
        "  elif transfer_learning_model == 'NASNetMobile':\n",
        "    selected_model = \"NASNetMobile pre-trained model selected\"\n",
        "    print(selected_model)\n",
        "    pretrained_model = tf.keras.applications.NASNetMobile(input_shape = (IMAGE_WIDTH, IMAGE_HEIGHT, IMAGE_CHANNEL), weights = weights, include_top=False)\n",
        "\n",
        "  elif transfer_learning_model == 'NASNetLarge':\n",
        "    selected_model = \"NASNetLarge pre-trained model selected\"\n",
        "    print(selected_model)\n",
        "    pretrained_model = tf.keras.applications.NASNetLarge(input_shape = (IMAGE_WIDTH, IMAGE_HEIGHT, IMAGE_CHANNEL), weights = weights, include_top=False)\n",
        "  \n",
        "  else:\n",
        "    print(\"Not defined / Does not exist\")\n",
        "    return 0\n",
        "  ##################################################################\n",
        "  # Freeze early layers\n",
        "  for layer in pretrained_model.layers:\n",
        "    if unfreeze_last_layer < len(pretrained_model.layers):\n",
        "      layer.trainable = False\n",
        "      unfreeze_last_layer += 1\n",
        "\n",
        "  # Print summary of pre-trained model\n",
        "  if print_summary:\n",
        "    pretrained_model.summary()\n",
        "    if unfreeze_last_layer > 0:\n",
        "      print(\"####################### UNFREEZED LAYER #########################\")\n",
        "      print(\"Layer            Trainable\")\n",
        "      for layer in pretrained_model.layers:\n",
        "        if layer.trainable == True:\n",
        "          sp = '      '[len(layer.name)-9:]\n",
        "          print(layer.name, sp, layer.trainable)\n",
        "\n",
        "  model = Sequential()\n",
        "  model.add(pretrained_model)\n",
        "\n",
        "  # Fine tuning our layers - you can add more if you want\n",
        "  model.add(Flatten())\n",
        "  model.add(Dense(256, activation='relu'))\n",
        "  model.add(Dropout(0.4))\n",
        "\n",
        "  # Prediction layer\n",
        "  model.add(layers.Dense(len(IMAGE_CLASSES), activation = 'softmax'))\n",
        "\n",
        "  # Compile model\n",
        "  model.compile(\n",
        "      optimizer='adam',\n",
        "      loss = 'categorical_crossentropy',\n",
        "      metrics=['accuracy']\n",
        "  )\n",
        "\n",
        "  if print_fine_tuning_summary:\n",
        "    print(\"###################### AFTER FINE TUNING ########################\")\n",
        "    model.summary()\n",
        "    print(selected_model)\n",
        "\n",
        "  return model\n"
      ],
      "execution_count": null,
      "outputs": []
    },
    {
      "cell_type": "markdown",
      "metadata": {
        "id": "sOCKSa2JNtUp"
      },
      "source": [
        "# **Training Preparation**"
      ]
    },
    {
      "cell_type": "code",
      "metadata": {
        "id": "5EKDkLSxYfrx",
        "cellView": "form"
      },
      "source": [
        "#@title\n",
        "# Path where dataset is located\n",
        "drive.mount('/content/drive')\n",
        "dataset_path = '/content/drive/My Drive/FYP Stuff/Datasets/'\n",
        "dataset_name = 'Dataset 200A'\n",
        "K = ' K1'\n",
        "IMAGE_CLASSES = ['Normal','Grade I','Grade II','Grade III']         # Naming Classes (The names must be in the same order as in dataset folder (usually alphabetically))\n",
        "EPOCH = 1                      # Number of training epoch\n",
        "\n",
        "# Path\n",
        "train_path = dataset_path + dataset_name + K + '/Train'\n",
        "valid_path = dataset_path + dataset_name + K + '/Valid'    # Some literature use the term \"test set\" / \"valid set\" but it is actually a \"dev set\". This is the set that is iterated during training.\n",
        "test_path = dataset_path + dataset_name + K + '/Valid'  # Test set helps evaluate how good your final system is. It's ok not to have test set."
      ],
      "execution_count": null,
      "outputs": []
    },
    {
      "cell_type": "markdown",
      "metadata": {
        "id": "lfZloWtFYDo-"
      },
      "source": [
        "#**Training on Xception**"
      ]
    },
    {
      "cell_type": "code",
      "metadata": {
        "id": "hTqW8phglzf0"
      },
      "source": [
        "MODEL = 'Xception'              # Xception, VGG16, VGG19, InceptionResNetV2, ResNet50V2, ResNet101V2, ResNet152V2, InceptionV3, InceptionResNetV2, MobileNetV2, DenseNet121, DenseNet169, DenseNet201, NASNetMobile, NASNetLarge\n",
        "BATCH_SIZE = 64                 # Mini-batch size\n",
        "SEED = 2020                     # Fixed randomness (For reproducible result!)\n",
        "SAVE_MODEL_NAME = MODEL + '_' + dataset_name + K + '_awesome_model.h5'         # Name of the model to save after training\n",
        "python_random.seed(SEED)        # necessary for starting core Python generated random numbers in a well-defined state.\n",
        "np.random.seed(SEED)            # necessary for starting Numpy generated random numbers in a well-defined state.\n",
        "tf.random.set_seed(SEED)        # will make random number generation in the TensorFlow backend have a well-defined initial state.\n",
        "\n",
        "IMAGE_WIDTH, IMAGE_HEIGHT, IMAGE_CHANNEL = get_pretrained_model_input_size(MODEL)\n",
        "print(\"Training on\", MODEL)\n",
        "print(\"Input:\",IMAGE_WIDTH,'x',IMAGE_HEIGHT,'x',IMAGE_CHANNEL)"
      ],
      "execution_count": null,
      "outputs": []
    },
    {
      "cell_type": "code",
      "metadata": {
        "id": "CGz3kvFyvCtv"
      },
      "source": [
        "train_generator = get_train_generator()\n",
        "valid_generator = get_valid_generator()\n",
        "test_generator = get_test_generator()"
      ],
      "execution_count": null,
      "outputs": []
    },
    {
      "cell_type": "code",
      "metadata": {
        "id": "HtspDgmbh6cc"
      },
      "source": [
        "# Check number of image in each class\n",
        "train_freq = get_freq_data(train_generator)\n",
        "valid_freq = get_freq_data(valid_generator)\n",
        "total_freq = np.array(train_freq) + np.array(valid_freq)\n",
        "valid_data_freq = np.array(valid_freq)/total_freq\n",
        "print(\"Valid data Percentage:\",valid_data_freq)"
      ],
      "execution_count": null,
      "outputs": []
    },
    {
      "cell_type": "code",
      "metadata": {
        "id": "Ot5APNa3RHoj"
      },
      "source": [
        "model = get_pretrained_model(MODEL, weights = 'imagenet', unfreeze_last_layer = 0, print_summary = False, print_fine_tuning_summary = True)"
      ],
      "execution_count": null,
      "outputs": []
    },
    {
      "cell_type": "code",
      "metadata": {
        "id": "hP8BJ3whguHE"
      },
      "source": [
        "time_start = time.time()\n",
        "history = model.fit(\n",
        "    x = train_generator,\n",
        "    validation_data = valid_generator,\n",
        "    epochs = EPOCH,\n",
        "    verbose = 1,\n",
        "    steps_per_epoch = train_generator.samples / train_generator.batch_size ,\n",
        "    validation_steps = valid_generator.samples / valid_generator.batch_size\n",
        ")\n",
        "print(\"Training done. Evaluating...\")\n",
        "time_end = time.time()\n",
        "final_accuracy = history.history[\"val_accuracy\"][-5:]\n",
        "Training_Accuracy = model.evaluate(train_generator, steps=train_generator.samples / train_generator.batch_size)\n",
        "Validation_Accuracy = model.evaluate(test_generator, steps=valid_generator.samples / valid_generator.batch_size)\n",
        "print(\"Finish!\")\n"
      ],
      "execution_count": null,
      "outputs": []
    },
    {
      "cell_type": "code",
      "metadata": {
        "id": "upIQmlOD0BR7"
      },
      "source": [
        "print(\"Trained on\", MODEL)\r\n",
        "print(\"Time taken:\", datetime.timedelta(seconds=(int(time_end - time_start))), \"(hh:mm:ss)\")\r\n",
        "print(\"The Model Accuracy for Train data is: \", \"{:.2%}\".format(Training_Accuracy[1]))\r\n",
        "print(\"The Model Accuracy for Validation data is: \", \"{:.2%}\".format(Validation_Accuracy[1]))\r\n",
        "print(\"FINAL VALIDATION ACCURACY MEAN-5: \", np.mean(final_accuracy))\r\n",
        "# Loss and Accuracy\r\n",
        "plt.subplots(figsize=(9,3.5))\r\n",
        "plt.tight_layout()\r\n",
        "display_training_curves(history.history['loss'], history.history['val_loss'], 'Loss', 121)\r\n",
        "display_training_curves(history.history['accuracy'], history.history['val_accuracy'], 'Accuracy', 122)"
      ],
      "execution_count": null,
      "outputs": []
    },
    {
      "cell_type": "code",
      "metadata": {
        "id": "i2qXwTze8LdS"
      },
      "source": [
        "model.save(SAVE_MODEL_NAME) #Save"
      ],
      "execution_count": null,
      "outputs": []
    },
    {
      "cell_type": "markdown",
      "metadata": {
        "id": "quWsQIbnd_BN"
      },
      "source": [
        "**Predict**"
      ]
    },
    {
      "cell_type": "code",
      "metadata": {
        "id": "v-nvYgWjd_BO"
      },
      "source": [
        "# True label\n",
        "true_labels = test_generator.classes  # Get label of valid_generator\n",
        "# Prediction label\n",
        "time_start = time.time()\n",
        "predictions = model.predict(x=test_generator, steps=len(test_generator),verbose = 0)\n",
        "time_end = time.time()\n",
        "pred_labels = np.argmax(predictions, axis=-1)\n",
        "pred_time = time_end - time_start"
      ],
      "execution_count": null,
      "outputs": []
    },
    {
      "cell_type": "markdown",
      "metadata": {
        "id": "0SOWF8Rdd_BO"
      },
      "source": [
        "**Confusion Matrix**"
      ]
    },
    {
      "cell_type": "code",
      "metadata": {
        "id": "AYoGyLUYd_BO"
      },
      "source": [
        "# Plot Confusion Matrix\n",
        "cm = confusion_matrix(y_true=true_labels, y_pred=pred_labels)\n",
        "plt.subplots(figsize=(10,4))\n",
        "plot_confusion_matrix(cm=cm, classes=IMAGE_CLASSES, title='Confusion Matrix',normalize=False, subplot=121)\n",
        "plot_confusion_matrix(cm=cm, classes=IMAGE_CLASSES, title='Normalized Confusion Matrix',normalize=True, subplot=122)"
      ],
      "execution_count": null,
      "outputs": []
    },
    {
      "cell_type": "markdown",
      "metadata": {
        "id": "TRZg6viS6uEi"
      },
      "source": [
        "**Model Summary**"
      ]
    },
    {
      "cell_type": "code",
      "metadata": {
        "id": "a0VnbC1C9Yx5"
      },
      "source": [
        "print(\"Trained on\", MODEL)\r\n",
        "print(\"For\", dataset_name, K)\r\n",
        "print(\"Training [Loss, Accuracy]: \", Training_Accuracy)\r\n",
        "print(\"Validaiton [Loss,Accuracy]: \", Validation_Accuracy)\r\n",
        "print(\"Prediction time: \", pred_time)\r\n",
        "print('Model Size:', convert_file_size_unit(os.stat(SAVE_MODEL_NAME).st_size,'MB'), 'MB')\r\n",
        "report = metrics.classification_report(y_true = true_labels, y_pred = pred_labels, target_names=IMAGE_CLASSES)\r\n",
        "print(report)"
      ],
      "execution_count": null,
      "outputs": []
    },
    {
      "cell_type": "markdown",
      "metadata": {
        "id": "VukdGDPAd_BO"
      },
      "source": [
        "**Show all images with predictions**"
      ]
    },
    {
      "cell_type": "code",
      "metadata": {
        "colab": {
          "background_save": true
        },
        "id": "k0LfLZUOd_BO"
      },
      "source": [
        "show_all_prediction_image(test_path, test_generator, true_labels, pred_labels) # Argument:(Path of test dataset, test generator to generate image, true labels generated by test generator, predicted labels generated by model on test dataset)"
      ],
      "execution_count": null,
      "outputs": []
    },
    {
      "cell_type": "markdown",
      "metadata": {
        "id": "lqbQjUjMbwKy"
      },
      "source": [
        "#**Training on VGG16**"
      ]
    },
    {
      "cell_type": "code",
      "metadata": {
        "id": "iGngBkIobwKz"
      },
      "source": [
        "MODEL = 'VGG16'              # Xception, VGG16, VGG19, InceptionResNetV2, ResNet50V2, ResNet101V2, ResNet152V2, InceptionV3, InceptionResNetV2, MobileNetV2, DenseNet121, DenseNet169, DenseNet201, NASNetMobile, NASNetLarge\n",
        "BATCH_SIZE = 64                 # Mini-batch size\n",
        "SEED = 2020                     # Fixed randomness (For reproducible result!)\n",
        "SAVE_MODEL_NAME = MODEL + '_' + dataset_name + K + '_awesome_model.h5'         # Name of the model to save after training\n",
        "python_random.seed(SEED)        # necessary for starting core Python generated random numbers in a well-defined state.\n",
        "np.random.seed(SEED)            # necessary for starting Numpy generated random numbers in a well-defined state.\n",
        "tf.random.set_seed(SEED)        # will make random number generation in the TensorFlow backend have a well-defined initial state.\n",
        "\n",
        "IMAGE_WIDTH, IMAGE_HEIGHT, IMAGE_CHANNEL = get_pretrained_model_input_size(MODEL)\n",
        "print(\"Training on\", MODEL)\n",
        "print(\"Input:\",IMAGE_WIDTH,'x',IMAGE_HEIGHT,'x',IMAGE_CHANNEL)"
      ],
      "execution_count": null,
      "outputs": []
    },
    {
      "cell_type": "code",
      "metadata": {
        "id": "d4xfqWKobwK0"
      },
      "source": [
        "train_generator = get_train_generator()\n",
        "valid_generator = get_valid_generator()\n",
        "test_generator = get_test_generator()"
      ],
      "execution_count": null,
      "outputs": []
    },
    {
      "cell_type": "code",
      "metadata": {
        "id": "lDrAYzJ_bwK0"
      },
      "source": [
        "# Check number of image in each class\n",
        "train_freq = get_freq_data(train_generator)\n",
        "valid_freq = get_freq_data(valid_generator)\n",
        "total_freq = np.array(train_freq) + np.array(valid_freq)\n",
        "valid_data_freq = np.array(valid_freq)/total_freq\n",
        "print(\"Valid data Percentage:\",valid_data_freq)"
      ],
      "execution_count": null,
      "outputs": []
    },
    {
      "cell_type": "code",
      "metadata": {
        "id": "8cTUxRJQbwK1"
      },
      "source": [
        "model = get_pretrained_model(MODEL, weights = 'imagenet', unfreeze_last_layer = 0, print_summary = False, print_fine_tuning_summary = True)"
      ],
      "execution_count": null,
      "outputs": []
    },
    {
      "cell_type": "code",
      "metadata": {
        "id": "9v9yQj5ObwK1"
      },
      "source": [
        "time_start = time.time()\n",
        "history = model.fit(\n",
        "    x = train_generator,\n",
        "    validation_data = valid_generator,\n",
        "    epochs = EPOCH,\n",
        "    verbose = 1,\n",
        "    steps_per_epoch = train_generator.samples / train_generator.batch_size ,\n",
        "    validation_steps = valid_generator.samples / valid_generator.batch_size\n",
        ")\n",
        "print(\"Training done. Evaluating...\")\n",
        "time_end = time.time()\n",
        "final_accuracy = history.history[\"val_accuracy\"][-5:]\n",
        "Training_Accuracy = model.evaluate(train_generator, steps=train_generator.samples / train_generator.batch_size)\n",
        "Validation_Accuracy = model.evaluate(test_generator, steps=valid_generator.samples / valid_generator.batch_size)\n",
        "print(\"Finish!\")\n"
      ],
      "execution_count": null,
      "outputs": []
    },
    {
      "cell_type": "code",
      "metadata": {
        "id": "eUB6rvRKbwK1"
      },
      "source": [
        "print(\"Trained on\", MODEL)\r\n",
        "print(\"Time taken:\", datetime.timedelta(seconds=(int(time_end - time_start))), \"(hh:mm:ss)\")\r\n",
        "print(\"The Model Accuracy for Train data is: \", \"{:.2%}\".format(Training_Accuracy[1]))\r\n",
        "print(\"The Model Accuracy for Validation data is: \", \"{:.2%}\".format(Validation_Accuracy[1]))\r\n",
        "print(\"FINAL VALIDATION ACCURACY MEAN-5: \", np.mean(final_accuracy))\r\n",
        "# Loss and Accuracy\r\n",
        "plt.subplots(figsize=(9,3.5))\r\n",
        "plt.tight_layout()\r\n",
        "display_training_curves(history.history['loss'], history.history['val_loss'], 'Loss', 121)\r\n",
        "display_training_curves(history.history['accuracy'], history.history['val_accuracy'], 'Accuracy', 122)"
      ],
      "execution_count": null,
      "outputs": []
    },
    {
      "cell_type": "code",
      "metadata": {
        "id": "-azMljf5bwK2"
      },
      "source": [
        "model.save(SAVE_MODEL_NAME) #Save"
      ],
      "execution_count": null,
      "outputs": []
    },
    {
      "cell_type": "markdown",
      "metadata": {
        "id": "pfnSgL-abwK2"
      },
      "source": [
        "**Predict**"
      ]
    },
    {
      "cell_type": "code",
      "metadata": {
        "id": "00WnEtZHbwK3"
      },
      "source": [
        "# True label\n",
        "true_labels = test_generator.classes  # Get label of valid_generator\n",
        "# Prediction label\n",
        "time_start = time.time()\n",
        "predictions = model.predict(x=test_generator, steps=len(test_generator),verbose = 0)\n",
        "time_end = time.time()\n",
        "pred_labels = np.argmax(predictions, axis=-1)\n",
        "pred_time = time_end - time_start"
      ],
      "execution_count": null,
      "outputs": []
    },
    {
      "cell_type": "markdown",
      "metadata": {
        "id": "xtsoa3TlbwK3"
      },
      "source": [
        "**Confusion Matrix**"
      ]
    },
    {
      "cell_type": "code",
      "metadata": {
        "id": "JpliSIyjbwK3"
      },
      "source": [
        "# Plot Confusion Matrix\n",
        "cm = confusion_matrix(y_true=true_labels, y_pred=pred_labels)\n",
        "plt.subplots(figsize=(10,4))\n",
        "plot_confusion_matrix(cm=cm, classes=IMAGE_CLASSES, title='Confusion Matrix',normalize=False, subplot=121)\n",
        "plot_confusion_matrix(cm=cm, classes=IMAGE_CLASSES, title='Normalized Confusion Matrix',normalize=True, subplot=122)"
      ],
      "execution_count": null,
      "outputs": []
    },
    {
      "cell_type": "markdown",
      "metadata": {
        "id": "roIZQvLobwK4"
      },
      "source": [
        "**Model Summary**"
      ]
    },
    {
      "cell_type": "code",
      "metadata": {
        "id": "NjsTNV3KbwK4"
      },
      "source": [
        "print(\"Trained on\", MODEL)\r\n",
        "print(\"For\", dataset_name, K)\r\n",
        "print(\"Training [Loss, Accuracy]: \", Training_Accuracy)\r\n",
        "print(\"Validaiton [Loss,Accuracy]: \", Validation_Accuracy)\r\n",
        "print(\"Prediction time: \", pred_time)\r\n",
        "print('Model Size:', convert_file_size_unit(os.stat(SAVE_MODEL_NAME).st_size,'MB'), 'MB')\r\n",
        "report = metrics.classification_report(y_true = true_labels, y_pred = pred_labels, target_names=IMAGE_CLASSES)\r\n",
        "print(report)"
      ],
      "execution_count": null,
      "outputs": []
    },
    {
      "cell_type": "markdown",
      "metadata": {
        "id": "V_csmwxVbwK4"
      },
      "source": [
        "**Show all images with predictions**"
      ]
    },
    {
      "cell_type": "code",
      "metadata": {
        "colab": {
          "background_save": true
        },
        "id": "Ya1Dl2qnbwK4"
      },
      "source": [
        "show_all_prediction_image(test_path, test_generator, true_labels, pred_labels) # Argument:(Path of test dataset, test generator to generate image, true labels generated by test generator, predicted labels generated by model on test dataset)"
      ],
      "execution_count": null,
      "outputs": []
    },
    {
      "cell_type": "markdown",
      "metadata": {
        "id": "MaIyAtZ8byrL"
      },
      "source": [
        "#**Training on VGG19**"
      ]
    },
    {
      "cell_type": "code",
      "metadata": {
        "id": "G9uTndqrbyrL"
      },
      "source": [
        "MODEL = 'VGG19'              # Xception, VGG16, VGG19, InceptionResNetV2, ResNet50V2, ResNet101V2, ResNet152V2, InceptionV3, InceptionResNetV2, MobileNetV2, DenseNet121, DenseNet169, DenseNet201, NASNetMobile, NASNetLarge\n",
        "BATCH_SIZE = 64                 # Mini-batch size\n",
        "SEED = 2020                     # Fixed randomness (For reproducible result!)\n",
        "SAVE_MODEL_NAME = MODEL + '_' + dataset_name + K + '_awesome_model.h5'         # Name of the model to save after training\n",
        "python_random.seed(SEED)        # necessary for starting core Python generated random numbers in a well-defined state.\n",
        "np.random.seed(SEED)            # necessary for starting Numpy generated random numbers in a well-defined state.\n",
        "tf.random.set_seed(SEED)        # will make random number generation in the TensorFlow backend have a well-defined initial state.\n",
        "\n",
        "IMAGE_WIDTH, IMAGE_HEIGHT, IMAGE_CHANNEL = get_pretrained_model_input_size(MODEL)\n",
        "print(\"Training on\", MODEL)\n",
        "print(\"Input:\",IMAGE_WIDTH,'x',IMAGE_HEIGHT,'x',IMAGE_CHANNEL)"
      ],
      "execution_count": null,
      "outputs": []
    },
    {
      "cell_type": "code",
      "metadata": {
        "id": "GpB69TAHbyrM"
      },
      "source": [
        "train_generator = get_train_generator()\n",
        "valid_generator = get_valid_generator()\n",
        "test_generator = get_test_generator()"
      ],
      "execution_count": null,
      "outputs": []
    },
    {
      "cell_type": "code",
      "metadata": {
        "id": "Z9HAFYSXbyrM"
      },
      "source": [
        "# Check number of image in each class\n",
        "train_freq = get_freq_data(train_generator)\n",
        "valid_freq = get_freq_data(valid_generator)\n",
        "total_freq = np.array(train_freq) + np.array(valid_freq)\n",
        "valid_data_freq = np.array(valid_freq)/total_freq\n",
        "print(\"Valid data Percentage:\",valid_data_freq)"
      ],
      "execution_count": null,
      "outputs": []
    },
    {
      "cell_type": "code",
      "metadata": {
        "id": "sGq7pFflbyrO"
      },
      "source": [
        "model = get_pretrained_model(MODEL, weights = 'imagenet', unfreeze_last_layer = 0, print_summary = False, print_fine_tuning_summary = True)"
      ],
      "execution_count": null,
      "outputs": []
    },
    {
      "cell_type": "code",
      "metadata": {
        "id": "IBRAPw5vbyrO"
      },
      "source": [
        "time_start = time.time()\n",
        "history = model.fit(\n",
        "    x = train_generator,\n",
        "    validation_data = valid_generator,\n",
        "    epochs = EPOCH,\n",
        "    verbose = 1,\n",
        "    steps_per_epoch = train_generator.samples / train_generator.batch_size ,\n",
        "    validation_steps = valid_generator.samples / valid_generator.batch_size\n",
        ")\n",
        "print(\"Training done. Evaluating...\")\n",
        "time_end = time.time()\n",
        "final_accuracy = history.history[\"val_accuracy\"][-5:]\n",
        "Training_Accuracy = model.evaluate(train_generator, steps=train_generator.samples / train_generator.batch_size)\n",
        "Validation_Accuracy = model.evaluate(test_generator, steps=valid_generator.samples / valid_generator.batch_size)\n",
        "print(\"Finish!\")\n"
      ],
      "execution_count": null,
      "outputs": []
    },
    {
      "cell_type": "code",
      "metadata": {
        "id": "9IPNOv7VbyrP"
      },
      "source": [
        "print(\"Trained on\", MODEL)\r\n",
        "print(\"Time taken:\", datetime.timedelta(seconds=(int(time_end - time_start))), \"(hh:mm:ss)\")\r\n",
        "print(\"The Model Accuracy for Train data is: \", \"{:.2%}\".format(Training_Accuracy[1]))\r\n",
        "print(\"The Model Accuracy for Validation data is: \", \"{:.2%}\".format(Validation_Accuracy[1]))\r\n",
        "print(\"FINAL VALIDATION ACCURACY MEAN-5: \", np.mean(final_accuracy))\r\n",
        "# Loss and Accuracy\r\n",
        "plt.subplots(figsize=(9,3.5))\r\n",
        "plt.tight_layout()\r\n",
        "display_training_curves(history.history['loss'], history.history['val_loss'], 'Loss', 121)\r\n",
        "display_training_curves(history.history['accuracy'], history.history['val_accuracy'], 'Accuracy', 122)"
      ],
      "execution_count": null,
      "outputs": []
    },
    {
      "cell_type": "code",
      "metadata": {
        "id": "t-BZmlkZbyrP"
      },
      "source": [
        "model.save(SAVE_MODEL_NAME) #Save"
      ],
      "execution_count": null,
      "outputs": []
    },
    {
      "cell_type": "markdown",
      "metadata": {
        "id": "dMiQSbzebyrP"
      },
      "source": [
        "**Predict**"
      ]
    },
    {
      "cell_type": "code",
      "metadata": {
        "id": "HcLSetKubyrP"
      },
      "source": [
        "# True label\n",
        "true_labels = test_generator.classes  # Get label of valid_generator\n",
        "# Prediction label\n",
        "time_start = time.time()\n",
        "predictions = model.predict(x=test_generator, steps=len(test_generator),verbose = 0)\n",
        "time_end = time.time()\n",
        "pred_labels = np.argmax(predictions, axis=-1)\n",
        "pred_time = time_end - time_start"
      ],
      "execution_count": null,
      "outputs": []
    },
    {
      "cell_type": "markdown",
      "metadata": {
        "id": "QgXv4bGIbyrP"
      },
      "source": [
        "**Confusion Matrix**"
      ]
    },
    {
      "cell_type": "code",
      "metadata": {
        "id": "FMrYPFcKbyrQ"
      },
      "source": [
        "# Plot Confusion Matrix\n",
        "cm = confusion_matrix(y_true=true_labels, y_pred=pred_labels)\n",
        "plt.subplots(figsize=(10,4))\n",
        "plot_confusion_matrix(cm=cm, classes=IMAGE_CLASSES, title='Confusion Matrix',normalize=False, subplot=121)\n",
        "plot_confusion_matrix(cm=cm, classes=IMAGE_CLASSES, title='Normalized Confusion Matrix',normalize=True, subplot=122)"
      ],
      "execution_count": null,
      "outputs": []
    },
    {
      "cell_type": "markdown",
      "metadata": {
        "id": "PRBCeY4HbyrQ"
      },
      "source": [
        "**Model Summary**"
      ]
    },
    {
      "cell_type": "code",
      "metadata": {
        "id": "G6chyF06byrQ"
      },
      "source": [
        "print(\"Trained on\", MODEL)\r\n",
        "print(\"For\", dataset_name, K)\r\n",
        "print(\"Training [Loss, Accuracy]: \", Training_Accuracy)\r\n",
        "print(\"Validaiton [Loss,Accuracy]: \", Validation_Accuracy)\r\n",
        "print(\"Prediction time: \", pred_time)\r\n",
        "print('Model Size:', convert_file_size_unit(os.stat(SAVE_MODEL_NAME).st_size,'MB'), 'MB')\r\n",
        "report = metrics.classification_report(y_true = true_labels, y_pred = pred_labels, target_names=IMAGE_CLASSES)\r\n",
        "print(report)"
      ],
      "execution_count": null,
      "outputs": []
    },
    {
      "cell_type": "markdown",
      "metadata": {
        "id": "BYEPrRBjbyrQ"
      },
      "source": [
        "**Show all images with predictions**"
      ]
    },
    {
      "cell_type": "code",
      "metadata": {
        "colab": {
          "background_save": true
        },
        "id": "72Wjg5gUbyrQ"
      },
      "source": [
        "show_all_prediction_image(test_path, test_generator, true_labels, pred_labels) # Argument:(Path of test dataset, test generator to generate image, true labels generated by test generator, predicted labels generated by model on test dataset)"
      ],
      "execution_count": null,
      "outputs": []
    },
    {
      "cell_type": "markdown",
      "metadata": {
        "id": "XFdMDvqUb0OT"
      },
      "source": [
        "#**Training on ResNet50V2**"
      ]
    },
    {
      "cell_type": "code",
      "metadata": {
        "id": "rEOFDg71b0OU"
      },
      "source": [
        "MODEL = 'ResNet50V2'              # Xception, VGG16, VGG19, InceptionResNetV2, ResNet50V2, ResNet101V2, ResNet152V2, InceptionV3, InceptionResNetV2, MobileNetV2, DenseNet121, DenseNet169, DenseNet201, NASNetMobile, NASNetLarge\n",
        "BATCH_SIZE = 64                 # Mini-batch size\n",
        "SEED = 2020                     # Fixed randomness (For reproducible result!)\n",
        "SAVE_MODEL_NAME = MODEL + '_' + dataset_name + K + '_awesome_model.h5'         # Name of the model to save after training\n",
        "python_random.seed(SEED)        # necessary for starting core Python generated random numbers in a well-defined state.\n",
        "np.random.seed(SEED)            # necessary for starting Numpy generated random numbers in a well-defined state.\n",
        "tf.random.set_seed(SEED)        # will make random number generation in the TensorFlow backend have a well-defined initial state.\n",
        "\n",
        "IMAGE_WIDTH, IMAGE_HEIGHT, IMAGE_CHANNEL = get_pretrained_model_input_size(MODEL)\n",
        "print(\"Training on\", MODEL)\n",
        "print(\"Input:\",IMAGE_WIDTH,'x',IMAGE_HEIGHT,'x',IMAGE_CHANNEL)"
      ],
      "execution_count": null,
      "outputs": []
    },
    {
      "cell_type": "code",
      "metadata": {
        "id": "rV01xufCb0OU"
      },
      "source": [
        "train_generator = get_train_generator()\n",
        "valid_generator = get_valid_generator()\n",
        "test_generator = get_test_generator()"
      ],
      "execution_count": null,
      "outputs": []
    },
    {
      "cell_type": "code",
      "metadata": {
        "id": "RdE25Bqsb0OV"
      },
      "source": [
        "# Check number of image in each class\n",
        "train_freq = get_freq_data(train_generator)\n",
        "valid_freq = get_freq_data(valid_generator)\n",
        "total_freq = np.array(train_freq) + np.array(valid_freq)\n",
        "valid_data_freq = np.array(valid_freq)/total_freq\n",
        "print(\"Valid data Percentage:\",valid_data_freq)"
      ],
      "execution_count": null,
      "outputs": []
    },
    {
      "cell_type": "code",
      "metadata": {
        "id": "5pjXE2JTb0OW"
      },
      "source": [
        "model = get_pretrained_model(MODEL, weights = 'imagenet', unfreeze_last_layer = 0, print_summary = False, print_fine_tuning_summary = True)"
      ],
      "execution_count": null,
      "outputs": []
    },
    {
      "cell_type": "code",
      "metadata": {
        "id": "81FT8OZab0OW"
      },
      "source": [
        "time_start = time.time()\n",
        "history = model.fit(\n",
        "    x = train_generator,\n",
        "    validation_data = valid_generator,\n",
        "    epochs = EPOCH,\n",
        "    verbose = 1,\n",
        "    steps_per_epoch = train_generator.samples / train_generator.batch_size ,\n",
        "    validation_steps = valid_generator.samples / valid_generator.batch_size\n",
        ")\n",
        "print(\"Training done. Evaluating...\")\n",
        "time_end = time.time()\n",
        "final_accuracy = history.history[\"val_accuracy\"][-5:]\n",
        "Training_Accuracy = model.evaluate(train_generator, steps=train_generator.samples / train_generator.batch_size)\n",
        "Validation_Accuracy = model.evaluate(test_generator, steps=valid_generator.samples / valid_generator.batch_size)\n",
        "print(\"Finish!\")\n"
      ],
      "execution_count": null,
      "outputs": []
    },
    {
      "cell_type": "code",
      "metadata": {
        "id": "YLixzJNgb0OX"
      },
      "source": [
        "print(\"Trained on\", MODEL)\r\n",
        "print(\"Time taken:\", datetime.timedelta(seconds=(int(time_end - time_start))), \"(hh:mm:ss)\")\r\n",
        "print(\"The Model Accuracy for Train data is: \", \"{:.2%}\".format(Training_Accuracy[1]))\r\n",
        "print(\"The Model Accuracy for Validation data is: \", \"{:.2%}\".format(Validation_Accuracy[1]))\r\n",
        "print(\"FINAL VALIDATION ACCURACY MEAN-5: \", np.mean(final_accuracy))\r\n",
        "# Loss and Accuracy\r\n",
        "plt.subplots(figsize=(9,3.5))\r\n",
        "plt.tight_layout()\r\n",
        "display_training_curves(history.history['loss'], history.history['val_loss'], 'Loss', 121)\r\n",
        "display_training_curves(history.history['accuracy'], history.history['val_accuracy'], 'Accuracy', 122)"
      ],
      "execution_count": null,
      "outputs": []
    },
    {
      "cell_type": "code",
      "metadata": {
        "id": "htTmjR0jb0OX"
      },
      "source": [
        "model.save(SAVE_MODEL_NAME) #Save"
      ],
      "execution_count": null,
      "outputs": []
    },
    {
      "cell_type": "markdown",
      "metadata": {
        "id": "wAqD_fuxb0OX"
      },
      "source": [
        "**Predict**"
      ]
    },
    {
      "cell_type": "code",
      "metadata": {
        "id": "oBpIgcX7b0OX"
      },
      "source": [
        "# True label\n",
        "true_labels = test_generator.classes  # Get label of valid_generator\n",
        "# Prediction label\n",
        "time_start = time.time()\n",
        "predictions = model.predict(x=test_generator, steps=len(test_generator),verbose = 0)\n",
        "time_end = time.time()\n",
        "pred_labels = np.argmax(predictions, axis=-1)\n",
        "pred_time = time_end - time_start"
      ],
      "execution_count": null,
      "outputs": []
    },
    {
      "cell_type": "markdown",
      "metadata": {
        "id": "Wj8y1lx6b0OY"
      },
      "source": [
        "**Confusion Matrix**"
      ]
    },
    {
      "cell_type": "code",
      "metadata": {
        "id": "_7tVEsRwb0OY"
      },
      "source": [
        "# Plot Confusion Matrix\n",
        "cm = confusion_matrix(y_true=true_labels, y_pred=pred_labels)\n",
        "plt.subplots(figsize=(10,4))\n",
        "plot_confusion_matrix(cm=cm, classes=IMAGE_CLASSES, title='Confusion Matrix',normalize=False, subplot=121)\n",
        "plot_confusion_matrix(cm=cm, classes=IMAGE_CLASSES, title='Normalized Confusion Matrix',normalize=True, subplot=122)"
      ],
      "execution_count": null,
      "outputs": []
    },
    {
      "cell_type": "markdown",
      "metadata": {
        "id": "JfGvT-9vb0OY"
      },
      "source": [
        "**Model Summary**"
      ]
    },
    {
      "cell_type": "code",
      "metadata": {
        "id": "eNh69HlBb0OY"
      },
      "source": [
        "print(\"Trained on\", MODEL)\r\n",
        "print(\"For\", dataset_name, K)\r\n",
        "print(\"Training [Loss, Accuracy]: \", Training_Accuracy)\r\n",
        "print(\"Validaiton [Loss,Accuracy]: \", Validation_Accuracy)\r\n",
        "print(\"Prediction time: \", pred_time)\r\n",
        "print('Model Size:', convert_file_size_unit(os.stat(SAVE_MODEL_NAME).st_size,'MB'), 'MB')\r\n",
        "report = metrics.classification_report(y_true = true_labels, y_pred = pred_labels, target_names=IMAGE_CLASSES)\r\n",
        "print(report)"
      ],
      "execution_count": null,
      "outputs": []
    },
    {
      "cell_type": "markdown",
      "metadata": {
        "id": "ozqmnpwbb0OY"
      },
      "source": [
        "**Show all images with predictions**"
      ]
    },
    {
      "cell_type": "code",
      "metadata": {
        "colab": {
          "background_save": true
        },
        "id": "9aonOMfAb0OY"
      },
      "source": [
        "show_all_prediction_image(test_path, test_generator, true_labels, pred_labels) # Argument:(Path of test dataset, test generator to generate image, true labels generated by test generator, predicted labels generated by model on test dataset)"
      ],
      "execution_count": null,
      "outputs": []
    },
    {
      "cell_type": "markdown",
      "metadata": {
        "id": "83Q-zuewb1Ml"
      },
      "source": [
        "#**Training on ResNet101V2**"
      ]
    },
    {
      "cell_type": "code",
      "metadata": {
        "id": "e0h3Ol0ob1Ml"
      },
      "source": [
        "MODEL = 'ResNet101V2'              # Xception, VGG16, VGG19, InceptionResNetV2, ResNet50V2, ResNet101V2, ResNet152V2, InceptionV3, InceptionResNetV2, MobileNetV2, DenseNet121, DenseNet169, DenseNet201, NASNetMobile, NASNetLarge\n",
        "BATCH_SIZE = 64                 # Mini-batch size\n",
        "SEED = 2020                     # Fixed randomness (For reproducible result!)\n",
        "SAVE_MODEL_NAME = MODEL + '_' + dataset_name + K + '_awesome_model.h5'         # Name of the model to save after training\n",
        "python_random.seed(SEED)        # necessary for starting core Python generated random numbers in a well-defined state.\n",
        "np.random.seed(SEED)            # necessary for starting Numpy generated random numbers in a well-defined state.\n",
        "tf.random.set_seed(SEED)        # will make random number generation in the TensorFlow backend have a well-defined initial state.\n",
        "\n",
        "IMAGE_WIDTH, IMAGE_HEIGHT, IMAGE_CHANNEL = get_pretrained_model_input_size(MODEL)\n",
        "print(\"Training on\", MODEL)\n",
        "print(\"Input:\",IMAGE_WIDTH,'x',IMAGE_HEIGHT,'x',IMAGE_CHANNEL)"
      ],
      "execution_count": null,
      "outputs": []
    },
    {
      "cell_type": "code",
      "metadata": {
        "id": "VCiUjCbLb1Mm"
      },
      "source": [
        "train_generator = get_train_generator()\n",
        "valid_generator = get_valid_generator()\n",
        "test_generator = get_test_generator()"
      ],
      "execution_count": null,
      "outputs": []
    },
    {
      "cell_type": "code",
      "metadata": {
        "id": "Cf2pxeW4b1Mm"
      },
      "source": [
        "# Check number of image in each class\n",
        "train_freq = get_freq_data(train_generator)\n",
        "valid_freq = get_freq_data(valid_generator)\n",
        "total_freq = np.array(train_freq) + np.array(valid_freq)\n",
        "valid_data_freq = np.array(valid_freq)/total_freq\n",
        "print(\"Valid data Percentage:\",valid_data_freq)"
      ],
      "execution_count": null,
      "outputs": []
    },
    {
      "cell_type": "code",
      "metadata": {
        "id": "ev3h6NNgb1Mm"
      },
      "source": [
        "model = get_pretrained_model(MODEL, weights = 'imagenet', unfreeze_last_layer = 0, print_summary = False, print_fine_tuning_summary = True)"
      ],
      "execution_count": null,
      "outputs": []
    },
    {
      "cell_type": "code",
      "metadata": {
        "id": "yVU0OR3Sb1Mn"
      },
      "source": [
        "time_start = time.time()\n",
        "history = model.fit(\n",
        "    x = train_generator,\n",
        "    validation_data = valid_generator,\n",
        "    epochs = EPOCH,\n",
        "    verbose = 1,\n",
        "    steps_per_epoch = train_generator.samples / train_generator.batch_size ,\n",
        "    validation_steps = valid_generator.samples / valid_generator.batch_size\n",
        ")\n",
        "print(\"Training done. Evaluating...\")\n",
        "time_end = time.time()\n",
        "final_accuracy = history.history[\"val_accuracy\"][-5:]\n",
        "Training_Accuracy = model.evaluate(train_generator, steps=train_generator.samples / train_generator.batch_size)\n",
        "Validation_Accuracy = model.evaluate(test_generator, steps=valid_generator.samples / valid_generator.batch_size)\n",
        "print(\"Finish!\")\n"
      ],
      "execution_count": null,
      "outputs": []
    },
    {
      "cell_type": "code",
      "metadata": {
        "id": "9NMmsSHPb1Mn"
      },
      "source": [
        "print(\"Trained on\", MODEL)\r\n",
        "print(\"Time taken:\", datetime.timedelta(seconds=(int(time_end - time_start))), \"(hh:mm:ss)\")\r\n",
        "print(\"The Model Accuracy for Train data is: \", \"{:.2%}\".format(Training_Accuracy[1]))\r\n",
        "print(\"The Model Accuracy for Validation data is: \", \"{:.2%}\".format(Validation_Accuracy[1]))\r\n",
        "print(\"FINAL VALIDATION ACCURACY MEAN-5: \", np.mean(final_accuracy))\r\n",
        "# Loss and Accuracy\r\n",
        "plt.subplots(figsize=(9,3.5))\r\n",
        "plt.tight_layout()\r\n",
        "display_training_curves(history.history['loss'], history.history['val_loss'], 'Loss', 121)\r\n",
        "display_training_curves(history.history['accuracy'], history.history['val_accuracy'], 'Accuracy', 122)"
      ],
      "execution_count": null,
      "outputs": []
    },
    {
      "cell_type": "code",
      "metadata": {
        "id": "lx9DeWr_b1Mn"
      },
      "source": [
        "model.save(SAVE_MODEL_NAME) #Save"
      ],
      "execution_count": null,
      "outputs": []
    },
    {
      "cell_type": "markdown",
      "metadata": {
        "id": "4vcBOkbSb1Mn"
      },
      "source": [
        "**Predict**"
      ]
    },
    {
      "cell_type": "code",
      "metadata": {
        "id": "Zmee77QXb1Mo"
      },
      "source": [
        "# True label\n",
        "true_labels = test_generator.classes  # Get label of valid_generator\n",
        "# Prediction label\n",
        "time_start = time.time()\n",
        "predictions = model.predict(x=test_generator, steps=len(test_generator),verbose = 0)\n",
        "time_end = time.time()\n",
        "pred_labels = np.argmax(predictions, axis=-1)\n",
        "pred_time = time_end - time_start"
      ],
      "execution_count": null,
      "outputs": []
    },
    {
      "cell_type": "markdown",
      "metadata": {
        "id": "X3WAq7tGb1Mo"
      },
      "source": [
        "**Confusion Matrix**"
      ]
    },
    {
      "cell_type": "code",
      "metadata": {
        "id": "iyCxO8hBb1Mo"
      },
      "source": [
        "# Plot Confusion Matrix\n",
        "cm = confusion_matrix(y_true=true_labels, y_pred=pred_labels)\n",
        "plt.subplots(figsize=(10,4))\n",
        "plot_confusion_matrix(cm=cm, classes=IMAGE_CLASSES, title='Confusion Matrix',normalize=False, subplot=121)\n",
        "plot_confusion_matrix(cm=cm, classes=IMAGE_CLASSES, title='Normalized Confusion Matrix',normalize=True, subplot=122)"
      ],
      "execution_count": null,
      "outputs": []
    },
    {
      "cell_type": "markdown",
      "metadata": {
        "id": "jII9hUZAb1Mo"
      },
      "source": [
        "**Model Summary**"
      ]
    },
    {
      "cell_type": "code",
      "metadata": {
        "id": "AzViV0Wjb1Mp"
      },
      "source": [
        "print(\"Trained on\", MODEL)\r\n",
        "print(\"For\", dataset_name, K)\r\n",
        "print(\"Training [Loss, Accuracy]: \", Training_Accuracy)\r\n",
        "print(\"Validaiton [Loss,Accuracy]: \", Validation_Accuracy)\r\n",
        "print(\"Prediction time: \", pred_time)\r\n",
        "print('Model Size:', convert_file_size_unit(os.stat(SAVE_MODEL_NAME).st_size,'MB'), 'MB')\r\n",
        "report = metrics.classification_report(y_true = true_labels, y_pred = pred_labels, target_names=IMAGE_CLASSES)\r\n",
        "print(report)"
      ],
      "execution_count": null,
      "outputs": []
    },
    {
      "cell_type": "markdown",
      "metadata": {
        "id": "8ugCKT8fb1Mp"
      },
      "source": [
        "**Show all images with predictions**"
      ]
    },
    {
      "cell_type": "code",
      "metadata": {
        "colab": {
          "background_save": true
        },
        "id": "GRWPrpD9b1Mp"
      },
      "source": [
        "show_all_prediction_image(test_path, test_generator, true_labels, pred_labels) # Argument:(Path of test dataset, test generator to generate image, true labels generated by test generator, predicted labels generated by model on test dataset)"
      ],
      "execution_count": null,
      "outputs": []
    },
    {
      "cell_type": "markdown",
      "metadata": {
        "id": "ELOGe6iOb2Fs"
      },
      "source": [
        "#**Training on ResNet152V2**"
      ]
    },
    {
      "cell_type": "code",
      "metadata": {
        "id": "kz3lyCwEb2Ft"
      },
      "source": [
        "MODEL = 'ResNet152V2'              # Xception, VGG16, VGG19, InceptionResNetV2, ResNet50V2, ResNet101V2, ResNet152V2, InceptionV3, InceptionResNetV2, MobileNetV2, DenseNet121, DenseNet169, DenseNet201, NASNetMobile, NASNetLarge\n",
        "BATCH_SIZE = 64                 # Mini-batch size\n",
        "SEED = 2020                     # Fixed randomness (For reproducible result!)\n",
        "SAVE_MODEL_NAME = MODEL + '_' + dataset_name + K + '_awesome_model.h5'         # Name of the model to save after training\n",
        "python_random.seed(SEED)        # necessary for starting core Python generated random numbers in a well-defined state.\n",
        "np.random.seed(SEED)            # necessary for starting Numpy generated random numbers in a well-defined state.\n",
        "tf.random.set_seed(SEED)        # will make random number generation in the TensorFlow backend have a well-defined initial state.\n",
        "\n",
        "IMAGE_WIDTH, IMAGE_HEIGHT, IMAGE_CHANNEL = get_pretrained_model_input_size(MODEL)\n",
        "print(\"Training on\", MODEL)\n",
        "print(\"Input:\",IMAGE_WIDTH,'x',IMAGE_HEIGHT,'x',IMAGE_CHANNEL)"
      ],
      "execution_count": null,
      "outputs": []
    },
    {
      "cell_type": "code",
      "metadata": {
        "id": "EKzI8NL0b2Fu"
      },
      "source": [
        "train_generator = get_train_generator()\n",
        "valid_generator = get_valid_generator()\n",
        "test_generator = get_test_generator()"
      ],
      "execution_count": null,
      "outputs": []
    },
    {
      "cell_type": "code",
      "metadata": {
        "id": "pigMeot1b2Fv"
      },
      "source": [
        "# Check number of image in each class\n",
        "train_freq = get_freq_data(train_generator)\n",
        "valid_freq = get_freq_data(valid_generator)\n",
        "total_freq = np.array(train_freq) + np.array(valid_freq)\n",
        "valid_data_freq = np.array(valid_freq)/total_freq\n",
        "print(\"Valid data Percentage:\",valid_data_freq)"
      ],
      "execution_count": null,
      "outputs": []
    },
    {
      "cell_type": "code",
      "metadata": {
        "id": "zvtCenYZb2Fv"
      },
      "source": [
        "model = get_pretrained_model(MODEL, weights = 'imagenet', unfreeze_last_layer = 0, print_summary = False, print_fine_tuning_summary = True)"
      ],
      "execution_count": null,
      "outputs": []
    },
    {
      "cell_type": "code",
      "metadata": {
        "id": "wBL7SB-mb2Fw"
      },
      "source": [
        "time_start = time.time()\n",
        "history = model.fit(\n",
        "    x = train_generator,\n",
        "    validation_data = valid_generator,\n",
        "    epochs = EPOCH,\n",
        "    verbose = 1,\n",
        "    steps_per_epoch = train_generator.samples / train_generator.batch_size ,\n",
        "    validation_steps = valid_generator.samples / valid_generator.batch_size\n",
        ")\n",
        "print(\"Training done. Evaluating...\")\n",
        "time_end = time.time()\n",
        "final_accuracy = history.history[\"val_accuracy\"][-5:]\n",
        "Training_Accuracy = model.evaluate(train_generator, steps=train_generator.samples / train_generator.batch_size)\n",
        "Validation_Accuracy = model.evaluate(test_generator, steps=valid_generator.samples / valid_generator.batch_size)\n",
        "print(\"Finish!\")\n"
      ],
      "execution_count": null,
      "outputs": []
    },
    {
      "cell_type": "code",
      "metadata": {
        "id": "sBx2kKPqb2Fw"
      },
      "source": [
        "print(\"Trained on\", MODEL)\r\n",
        "print(\"Time taken:\", datetime.timedelta(seconds=(int(time_end - time_start))), \"(hh:mm:ss)\")\r\n",
        "print(\"The Model Accuracy for Train data is: \", \"{:.2%}\".format(Training_Accuracy[1]))\r\n",
        "print(\"The Model Accuracy for Validation data is: \", \"{:.2%}\".format(Validation_Accuracy[1]))\r\n",
        "print(\"FINAL VALIDATION ACCURACY MEAN-5: \", np.mean(final_accuracy))\r\n",
        "# Loss and Accuracy\r\n",
        "plt.subplots(figsize=(9,3.5))\r\n",
        "plt.tight_layout()\r\n",
        "display_training_curves(history.history['loss'], history.history['val_loss'], 'Loss', 121)\r\n",
        "display_training_curves(history.history['accuracy'], history.history['val_accuracy'], 'Accuracy', 122)"
      ],
      "execution_count": null,
      "outputs": []
    },
    {
      "cell_type": "code",
      "metadata": {
        "id": "WPPI3yY0b2Fx"
      },
      "source": [
        "model.save(SAVE_MODEL_NAME) #Save"
      ],
      "execution_count": null,
      "outputs": []
    },
    {
      "cell_type": "markdown",
      "metadata": {
        "id": "8oZXm7pZb2Fx"
      },
      "source": [
        "**Predict**"
      ]
    },
    {
      "cell_type": "code",
      "metadata": {
        "id": "6FS_d3Fzb2Fx"
      },
      "source": [
        "# True label\n",
        "true_labels = test_generator.classes  # Get label of valid_generator\n",
        "# Prediction label\n",
        "time_start = time.time()\n",
        "predictions = model.predict(x=test_generator, steps=len(test_generator),verbose = 0)\n",
        "time_end = time.time()\n",
        "pred_labels = np.argmax(predictions, axis=-1)\n",
        "pred_time = time_end - time_start"
      ],
      "execution_count": null,
      "outputs": []
    },
    {
      "cell_type": "markdown",
      "metadata": {
        "id": "MZvySp11b2Fy"
      },
      "source": [
        "**Confusion Matrix**"
      ]
    },
    {
      "cell_type": "code",
      "metadata": {
        "id": "hmneWKApb2Fy"
      },
      "source": [
        "# Plot Confusion Matrix\n",
        "cm = confusion_matrix(y_true=true_labels, y_pred=pred_labels)\n",
        "plt.subplots(figsize=(10,4))\n",
        "plot_confusion_matrix(cm=cm, classes=IMAGE_CLASSES, title='Confusion Matrix',normalize=False, subplot=121)\n",
        "plot_confusion_matrix(cm=cm, classes=IMAGE_CLASSES, title='Normalized Confusion Matrix',normalize=True, subplot=122)"
      ],
      "execution_count": null,
      "outputs": []
    },
    {
      "cell_type": "markdown",
      "metadata": {
        "id": "BjRRpNVob2Fz"
      },
      "source": [
        "**Model Summary**"
      ]
    },
    {
      "cell_type": "code",
      "metadata": {
        "id": "CfrFcBkPb2Fz"
      },
      "source": [
        "print(\"Trained on\", MODEL)\r\n",
        "print(\"For\", dataset_name, K)\r\n",
        "print(\"Training [Loss, Accuracy]: \", Training_Accuracy)\r\n",
        "print(\"Validaiton [Loss,Accuracy]: \", Validation_Accuracy)\r\n",
        "print(\"Prediction time: \", pred_time)\r\n",
        "print('Model Size:', convert_file_size_unit(os.stat(SAVE_MODEL_NAME).st_size,'MB'), 'MB')\r\n",
        "report = metrics.classification_report(y_true = true_labels, y_pred = pred_labels, target_names=IMAGE_CLASSES)\r\n",
        "print(report)"
      ],
      "execution_count": null,
      "outputs": []
    },
    {
      "cell_type": "markdown",
      "metadata": {
        "id": "WuPrvu1tb2Fz"
      },
      "source": [
        "**Show all images with predictions**"
      ]
    },
    {
      "cell_type": "code",
      "metadata": {
        "colab": {
          "background_save": true
        },
        "id": "70wuUFsUb2F0"
      },
      "source": [
        "show_all_prediction_image(test_path, test_generator, true_labels, pred_labels) # Argument:(Path of test dataset, test generator to generate image, true labels generated by test generator, predicted labels generated by model on test dataset)"
      ],
      "execution_count": null,
      "outputs": []
    },
    {
      "cell_type": "markdown",
      "metadata": {
        "id": "5OKphh2Eb2_L"
      },
      "source": [
        "#**Training on InceptionV3**"
      ]
    },
    {
      "cell_type": "code",
      "metadata": {
        "id": "lFOqv7-Fb2_M"
      },
      "source": [
        "MODEL = 'InceptionV3'              # Xception, VGG16, VGG19, InceptionResNetV2, ResNet50V2, ResNet101V2, ResNet152V2, InceptionV3, InceptionResNetV2, MobileNetV2, DenseNet121, DenseNet169, DenseNet201, NASNetMobile, NASNetLarge\n",
        "BATCH_SIZE = 64                 # Mini-batch size\n",
        "SEED = 2020                     # Fixed randomness (For reproducible result!)\n",
        "SAVE_MODEL_NAME = MODEL + '_' + dataset_name + K + '_awesome_model.h5'         # Name of the model to save after training\n",
        "python_random.seed(SEED)        # necessary for starting core Python generated random numbers in a well-defined state.\n",
        "np.random.seed(SEED)            # necessary for starting Numpy generated random numbers in a well-defined state.\n",
        "tf.random.set_seed(SEED)        # will make random number generation in the TensorFlow backend have a well-defined initial state.\n",
        "\n",
        "IMAGE_WIDTH, IMAGE_HEIGHT, IMAGE_CHANNEL = get_pretrained_model_input_size(MODEL)\n",
        "print(\"Training on\", MODEL)\n",
        "print(\"Input:\",IMAGE_WIDTH,'x',IMAGE_HEIGHT,'x',IMAGE_CHANNEL)"
      ],
      "execution_count": null,
      "outputs": []
    },
    {
      "cell_type": "code",
      "metadata": {
        "id": "g9OUyMqRb2_N"
      },
      "source": [
        "train_generator = get_train_generator()\n",
        "valid_generator = get_valid_generator()\n",
        "test_generator = get_test_generator()"
      ],
      "execution_count": null,
      "outputs": []
    },
    {
      "cell_type": "code",
      "metadata": {
        "id": "wuWKmd-Nb2_N"
      },
      "source": [
        "# Check number of image in each class\n",
        "train_freq = get_freq_data(train_generator)\n",
        "valid_freq = get_freq_data(valid_generator)\n",
        "total_freq = np.array(train_freq) + np.array(valid_freq)\n",
        "valid_data_freq = np.array(valid_freq)/total_freq\n",
        "print(\"Valid data Percentage:\",valid_data_freq)"
      ],
      "execution_count": null,
      "outputs": []
    },
    {
      "cell_type": "code",
      "metadata": {
        "id": "zh8Tk9bFb2_O"
      },
      "source": [
        "model = get_pretrained_model(MODEL, weights = 'imagenet', unfreeze_last_layer = 0, print_summary = False, print_fine_tuning_summary = True)"
      ],
      "execution_count": null,
      "outputs": []
    },
    {
      "cell_type": "code",
      "metadata": {
        "id": "hlY6DShUb2_P"
      },
      "source": [
        "time_start = time.time()\n",
        "history = model.fit(\n",
        "    x = train_generator,\n",
        "    validation_data = valid_generator,\n",
        "    epochs = EPOCH,\n",
        "    verbose = 1,\n",
        "    steps_per_epoch = train_generator.samples / train_generator.batch_size ,\n",
        "    validation_steps = valid_generator.samples / valid_generator.batch_size\n",
        ")\n",
        "print(\"Training done. Evaluating...\")\n",
        "time_end = time.time()\n",
        "final_accuracy = history.history[\"val_accuracy\"][-5:]\n",
        "Training_Accuracy = model.evaluate(train_generator, steps=train_generator.samples / train_generator.batch_size)\n",
        "Validation_Accuracy = model.evaluate(test_generator, steps=valid_generator.samples / valid_generator.batch_size)\n",
        "print(\"Finish!\")\n"
      ],
      "execution_count": null,
      "outputs": []
    },
    {
      "cell_type": "code",
      "metadata": {
        "id": "qN6MQxwRb2_P"
      },
      "source": [
        "print(\"Trained on\", MODEL)\r\n",
        "print(\"Time taken:\", datetime.timedelta(seconds=(int(time_end - time_start))), \"(hh:mm:ss)\")\r\n",
        "print(\"The Model Accuracy for Train data is: \", \"{:.2%}\".format(Training_Accuracy[1]))\r\n",
        "print(\"The Model Accuracy for Validation data is: \", \"{:.2%}\".format(Validation_Accuracy[1]))\r\n",
        "print(\"FINAL VALIDATION ACCURACY MEAN-5: \", np.mean(final_accuracy))\r\n",
        "# Loss and Accuracy\r\n",
        "plt.subplots(figsize=(9,3.5))\r\n",
        "plt.tight_layout()\r\n",
        "display_training_curves(history.history['loss'], history.history['val_loss'], 'Loss', 121)\r\n",
        "display_training_curves(history.history['accuracy'], history.history['val_accuracy'], 'Accuracy', 122)"
      ],
      "execution_count": null,
      "outputs": []
    },
    {
      "cell_type": "code",
      "metadata": {
        "id": "hxrfFEf0b2_P"
      },
      "source": [
        "model.save(SAVE_MODEL_NAME) #Save"
      ],
      "execution_count": null,
      "outputs": []
    },
    {
      "cell_type": "markdown",
      "metadata": {
        "id": "lNsHidQub2_Q"
      },
      "source": [
        "**Predict**"
      ]
    },
    {
      "cell_type": "code",
      "metadata": {
        "id": "FQMwG-Jxb2_Q"
      },
      "source": [
        "# True label\n",
        "true_labels = test_generator.classes  # Get label of valid_generator\n",
        "# Prediction label\n",
        "time_start = time.time()\n",
        "predictions = model.predict(x=test_generator, steps=len(test_generator),verbose = 0)\n",
        "time_end = time.time()\n",
        "pred_labels = np.argmax(predictions, axis=-1)\n",
        "pred_time = time_end - time_start"
      ],
      "execution_count": null,
      "outputs": []
    },
    {
      "cell_type": "markdown",
      "metadata": {
        "id": "v0biQdgGb2_Q"
      },
      "source": [
        "**Confusion Matrix**"
      ]
    },
    {
      "cell_type": "code",
      "metadata": {
        "id": "u6_VkWW5b2_R"
      },
      "source": [
        "# Plot Confusion Matrix\n",
        "cm = confusion_matrix(y_true=true_labels, y_pred=pred_labels)\n",
        "plt.subplots(figsize=(10,4))\n",
        "plot_confusion_matrix(cm=cm, classes=IMAGE_CLASSES, title='Confusion Matrix',normalize=False, subplot=121)\n",
        "plot_confusion_matrix(cm=cm, classes=IMAGE_CLASSES, title='Normalized Confusion Matrix',normalize=True, subplot=122)"
      ],
      "execution_count": null,
      "outputs": []
    },
    {
      "cell_type": "markdown",
      "metadata": {
        "id": "z0sAcELQb2_R"
      },
      "source": [
        "**Model Summary**"
      ]
    },
    {
      "cell_type": "code",
      "metadata": {
        "id": "QKAAmcl5b2_R"
      },
      "source": [
        "print(\"Trained on\", MODEL)\r\n",
        "print(\"For\", dataset_name, K)\r\n",
        "print(\"Training [Loss, Accuracy]: \", Training_Accuracy)\r\n",
        "print(\"Validaiton [Loss,Accuracy]: \", Validation_Accuracy)\r\n",
        "print(\"Prediction time: \", pred_time)\r\n",
        "print('Model Size:', convert_file_size_unit(os.stat(SAVE_MODEL_NAME).st_size,'MB'), 'MB')\r\n",
        "report = metrics.classification_report(y_true = true_labels, y_pred = pred_labels, target_names=IMAGE_CLASSES)\r\n",
        "print(report)"
      ],
      "execution_count": null,
      "outputs": []
    },
    {
      "cell_type": "markdown",
      "metadata": {
        "id": "j4Z72rgQb2_S"
      },
      "source": [
        "**Show all images with predictions**"
      ]
    },
    {
      "cell_type": "code",
      "metadata": {
        "colab": {
          "background_save": true
        },
        "id": "qMyd77MGb2_S"
      },
      "source": [
        "show_all_prediction_image(test_path, test_generator, true_labels, pred_labels) # Argument:(Path of test dataset, test generator to generate image, true labels generated by test generator, predicted labels generated by model on test dataset)"
      ],
      "execution_count": null,
      "outputs": []
    },
    {
      "cell_type": "markdown",
      "metadata": {
        "id": "RGMjhwyVb33n"
      },
      "source": [
        "#**Training on InceptionResNetV2**"
      ]
    },
    {
      "cell_type": "code",
      "metadata": {
        "id": "GO95R_SDb33p"
      },
      "source": [
        "MODEL = 'InceptionResNetV2'              # Xception, VGG16, VGG19, InceptionResNetV2, ResNet50V2, ResNet101V2, ResNet152V2, InceptionV3, InceptionResNetV2, MobileNetV2, DenseNet121, DenseNet169, DenseNet201, NASNetMobile, NASNetLarge\n",
        "BATCH_SIZE = 64                 # Mini-batch size\n",
        "SEED = 2020                     # Fixed randomness (For reproducible result!)\n",
        "SAVE_MODEL_NAME = MODEL + '_' + dataset_name + K + '_awesome_model.h5'         # Name of the model to save after training\n",
        "python_random.seed(SEED)        # necessary for starting core Python generated random numbers in a well-defined state.\n",
        "np.random.seed(SEED)            # necessary for starting Numpy generated random numbers in a well-defined state.\n",
        "tf.random.set_seed(SEED)        # will make random number generation in the TensorFlow backend have a well-defined initial state.\n",
        "\n",
        "IMAGE_WIDTH, IMAGE_HEIGHT, IMAGE_CHANNEL = get_pretrained_model_input_size(MODEL)\n",
        "print(\"Training on\", MODEL)\n",
        "print(\"Input:\",IMAGE_WIDTH,'x',IMAGE_HEIGHT,'x',IMAGE_CHANNEL)"
      ],
      "execution_count": null,
      "outputs": []
    },
    {
      "cell_type": "code",
      "metadata": {
        "id": "BusiDpUob33q"
      },
      "source": [
        "train_generator = get_train_generator()\n",
        "valid_generator = get_valid_generator()\n",
        "test_generator = get_test_generator()"
      ],
      "execution_count": null,
      "outputs": []
    },
    {
      "cell_type": "code",
      "metadata": {
        "id": "lhLHuAJeb33q"
      },
      "source": [
        "# Check number of image in each class\n",
        "train_freq = get_freq_data(train_generator)\n",
        "valid_freq = get_freq_data(valid_generator)\n",
        "total_freq = np.array(train_freq) + np.array(valid_freq)\n",
        "valid_data_freq = np.array(valid_freq)/total_freq\n",
        "print(\"Valid data Percentage:\",valid_data_freq)"
      ],
      "execution_count": null,
      "outputs": []
    },
    {
      "cell_type": "code",
      "metadata": {
        "id": "7-7Au4y-b33r"
      },
      "source": [
        "model = get_pretrained_model(MODEL, weights = 'imagenet', unfreeze_last_layer = 0, print_summary = False, print_fine_tuning_summary = True)"
      ],
      "execution_count": null,
      "outputs": []
    },
    {
      "cell_type": "code",
      "metadata": {
        "id": "dR59umzRb33r"
      },
      "source": [
        "time_start = time.time()\n",
        "history = model.fit(\n",
        "    x = train_generator,\n",
        "    validation_data = valid_generator,\n",
        "    epochs = EPOCH,\n",
        "    verbose = 1,\n",
        "    steps_per_epoch = train_generator.samples / train_generator.batch_size ,\n",
        "    validation_steps = valid_generator.samples / valid_generator.batch_size\n",
        ")\n",
        "print(\"Training done. Evaluating...\")\n",
        "time_end = time.time()\n",
        "final_accuracy = history.history[\"val_accuracy\"][-5:]\n",
        "Training_Accuracy = model.evaluate(train_generator, steps=train_generator.samples / train_generator.batch_size)\n",
        "Validation_Accuracy = model.evaluate(test_generator, steps=valid_generator.samples / valid_generator.batch_size)\n",
        "print(\"Finish!\")\n"
      ],
      "execution_count": null,
      "outputs": []
    },
    {
      "cell_type": "code",
      "metadata": {
        "id": "6X8FB2lbb33s"
      },
      "source": [
        "print(\"Trained on\", MODEL)\r\n",
        "print(\"Time taken:\", datetime.timedelta(seconds=(int(time_end - time_start))), \"(hh:mm:ss)\")\r\n",
        "print(\"The Model Accuracy for Train data is: \", \"{:.2%}\".format(Training_Accuracy[1]))\r\n",
        "print(\"The Model Accuracy for Validation data is: \", \"{:.2%}\".format(Validation_Accuracy[1]))\r\n",
        "print(\"FINAL VALIDATION ACCURACY MEAN-5: \", np.mean(final_accuracy))\r\n",
        "# Loss and Accuracy\r\n",
        "plt.subplots(figsize=(9,3.5))\r\n",
        "plt.tight_layout()\r\n",
        "display_training_curves(history.history['loss'], history.history['val_loss'], 'Loss', 121)\r\n",
        "display_training_curves(history.history['accuracy'], history.history['val_accuracy'], 'Accuracy', 122)"
      ],
      "execution_count": null,
      "outputs": []
    },
    {
      "cell_type": "code",
      "metadata": {
        "id": "oFC0eMqVb33s"
      },
      "source": [
        "model.save(SAVE_MODEL_NAME) #Save"
      ],
      "execution_count": null,
      "outputs": []
    },
    {
      "cell_type": "markdown",
      "metadata": {
        "id": "6PuLDMaGb33s"
      },
      "source": [
        "**Predict**"
      ]
    },
    {
      "cell_type": "code",
      "metadata": {
        "id": "_Xcm5fHPb33t"
      },
      "source": [
        "# True label\n",
        "true_labels = test_generator.classes  # Get label of valid_generator\n",
        "# Prediction label\n",
        "time_start = time.time()\n",
        "predictions = model.predict(x=test_generator, steps=len(test_generator),verbose = 0)\n",
        "time_end = time.time()\n",
        "pred_labels = np.argmax(predictions, axis=-1)\n",
        "pred_time = time_end - time_start"
      ],
      "execution_count": null,
      "outputs": []
    },
    {
      "cell_type": "markdown",
      "metadata": {
        "id": "pYRKXNNqb33t"
      },
      "source": [
        "**Confusion Matrix**"
      ]
    },
    {
      "cell_type": "code",
      "metadata": {
        "id": "E-77jbnIb33u"
      },
      "source": [
        "# Plot Confusion Matrix\n",
        "cm = confusion_matrix(y_true=true_labels, y_pred=pred_labels)\n",
        "plt.subplots(figsize=(10,4))\n",
        "plot_confusion_matrix(cm=cm, classes=IMAGE_CLASSES, title='Confusion Matrix',normalize=False, subplot=121)\n",
        "plot_confusion_matrix(cm=cm, classes=IMAGE_CLASSES, title='Normalized Confusion Matrix',normalize=True, subplot=122)"
      ],
      "execution_count": null,
      "outputs": []
    },
    {
      "cell_type": "markdown",
      "metadata": {
        "id": "brd8Lm3Ub33u"
      },
      "source": [
        "**Model Summary**"
      ]
    },
    {
      "cell_type": "code",
      "metadata": {
        "id": "C6nzciFob33u"
      },
      "source": [
        "print(\"Trained on\", MODEL)\r\n",
        "print(\"For\", dataset_name, K)\r\n",
        "print(\"Training [Loss, Accuracy]: \", Training_Accuracy)\r\n",
        "print(\"Validaiton [Loss,Accuracy]: \", Validation_Accuracy)\r\n",
        "print(\"Prediction time: \", pred_time)\r\n",
        "print('Model Size:', convert_file_size_unit(os.stat(SAVE_MODEL_NAME).st_size,'MB'), 'MB')\r\n",
        "report = metrics.classification_report(y_true = true_labels, y_pred = pred_labels, target_names=IMAGE_CLASSES)\r\n",
        "print(report)"
      ],
      "execution_count": null,
      "outputs": []
    },
    {
      "cell_type": "markdown",
      "metadata": {
        "id": "f-sKgDxib33v"
      },
      "source": [
        "**Show all images with predictions**"
      ]
    },
    {
      "cell_type": "code",
      "metadata": {
        "colab": {
          "background_save": true
        },
        "id": "xSlDxVbKb33v"
      },
      "source": [
        "show_all_prediction_image(test_path, test_generator, true_labels, pred_labels) # Argument:(Path of test dataset, test generator to generate image, true labels generated by test generator, predicted labels generated by model on test dataset)"
      ],
      "execution_count": null,
      "outputs": []
    },
    {
      "cell_type": "markdown",
      "metadata": {
        "id": "-UR6UZzZb4tr"
      },
      "source": [
        "#**Training on MobileNetV2**"
      ]
    },
    {
      "cell_type": "code",
      "metadata": {
        "id": "GachNT37b4ts"
      },
      "source": [
        "MODEL = 'MobileNetV2'              # Xception, VGG16, VGG19, InceptionResNetV2, ResNet50V2, ResNet101V2, ResNet152V2, InceptionV3, InceptionResNetV2, MobileNetV2, DenseNet121, DenseNet169, DenseNet201, NASNetMobile, NASNetLarge\n",
        "BATCH_SIZE = 64                 # Mini-batch size\n",
        "SEED = 2020                     # Fixed randomness (For reproducible result!)\n",
        "SAVE_MODEL_NAME = MODEL + '_' + dataset_name + K + '_awesome_model.h5'         # Name of the model to save after training\n",
        "python_random.seed(SEED)        # necessary for starting core Python generated random numbers in a well-defined state.\n",
        "np.random.seed(SEED)            # necessary for starting Numpy generated random numbers in a well-defined state.\n",
        "tf.random.set_seed(SEED)        # will make random number generation in the TensorFlow backend have a well-defined initial state.\n",
        "\n",
        "IMAGE_WIDTH, IMAGE_HEIGHT, IMAGE_CHANNEL = get_pretrained_model_input_size(MODEL)\n",
        "print(\"Training on\", MODEL)\n",
        "print(\"Input:\",IMAGE_WIDTH,'x',IMAGE_HEIGHT,'x',IMAGE_CHANNEL)"
      ],
      "execution_count": null,
      "outputs": []
    },
    {
      "cell_type": "code",
      "metadata": {
        "id": "Fps9bgGYb4ts"
      },
      "source": [
        "train_generator = get_train_generator()\n",
        "valid_generator = get_valid_generator()\n",
        "test_generator = get_test_generator()"
      ],
      "execution_count": null,
      "outputs": []
    },
    {
      "cell_type": "code",
      "metadata": {
        "id": "Ce2__TbEb4tt"
      },
      "source": [
        "# Check number of image in each class\n",
        "train_freq = get_freq_data(train_generator)\n",
        "valid_freq = get_freq_data(valid_generator)\n",
        "total_freq = np.array(train_freq) + np.array(valid_freq)\n",
        "valid_data_freq = np.array(valid_freq)/total_freq\n",
        "print(\"Valid data Percentage:\",valid_data_freq)"
      ],
      "execution_count": null,
      "outputs": []
    },
    {
      "cell_type": "code",
      "metadata": {
        "id": "Tg4XFuAyb4tt"
      },
      "source": [
        "model = get_pretrained_model(MODEL, weights = 'imagenet', unfreeze_last_layer = 0, print_summary = False, print_fine_tuning_summary = True)"
      ],
      "execution_count": null,
      "outputs": []
    },
    {
      "cell_type": "code",
      "metadata": {
        "id": "uW-X_c0Eb4tu"
      },
      "source": [
        "time_start = time.time()\n",
        "history = model.fit(\n",
        "    x = train_generator,\n",
        "    validation_data = valid_generator,\n",
        "    epochs = EPOCH,\n",
        "    verbose = 1,\n",
        "    steps_per_epoch = train_generator.samples / train_generator.batch_size ,\n",
        "    validation_steps = valid_generator.samples / valid_generator.batch_size\n",
        ")\n",
        "print(\"Training done. Evaluating...\")\n",
        "time_end = time.time()\n",
        "final_accuracy = history.history[\"val_accuracy\"][-5:]\n",
        "Training_Accuracy = model.evaluate(train_generator, steps=train_generator.samples / train_generator.batch_size)\n",
        "Validation_Accuracy = model.evaluate(test_generator, steps=valid_generator.samples / valid_generator.batch_size)\n",
        "print(\"Finish!\")\n"
      ],
      "execution_count": null,
      "outputs": []
    },
    {
      "cell_type": "code",
      "metadata": {
        "id": "1b7axOWyb4tu"
      },
      "source": [
        "print(\"Trained on\", MODEL)\r\n",
        "print(\"Time taken:\", datetime.timedelta(seconds=(int(time_end - time_start))), \"(hh:mm:ss)\")\r\n",
        "print(\"The Model Accuracy for Train data is: \", \"{:.2%}\".format(Training_Accuracy[1]))\r\n",
        "print(\"The Model Accuracy for Validation data is: \", \"{:.2%}\".format(Validation_Accuracy[1]))\r\n",
        "print(\"FINAL VALIDATION ACCURACY MEAN-5: \", np.mean(final_accuracy))\r\n",
        "# Loss and Accuracy\r\n",
        "plt.subplots(figsize=(9,3.5))\r\n",
        "plt.tight_layout()\r\n",
        "display_training_curves(history.history['loss'], history.history['val_loss'], 'Loss', 121)\r\n",
        "display_training_curves(history.history['accuracy'], history.history['val_accuracy'], 'Accuracy', 122)"
      ],
      "execution_count": null,
      "outputs": []
    },
    {
      "cell_type": "code",
      "metadata": {
        "id": "7f9zsxLmb4tu"
      },
      "source": [
        "model.save(SAVE_MODEL_NAME) #Save"
      ],
      "execution_count": null,
      "outputs": []
    },
    {
      "cell_type": "markdown",
      "metadata": {
        "id": "FqGb_FPLb4tv"
      },
      "source": [
        "**Predict**"
      ]
    },
    {
      "cell_type": "code",
      "metadata": {
        "id": "JRQGN6N8b4tv"
      },
      "source": [
        "# True label\n",
        "true_labels = test_generator.classes  # Get label of valid_generator\n",
        "# Prediction label\n",
        "time_start = time.time()\n",
        "predictions = model.predict(x=test_generator, steps=len(test_generator),verbose = 0)\n",
        "time_end = time.time()\n",
        "pred_labels = np.argmax(predictions, axis=-1)\n",
        "pred_time = time_end - time_start"
      ],
      "execution_count": null,
      "outputs": []
    },
    {
      "cell_type": "markdown",
      "metadata": {
        "id": "J0aEeu3Eb4tv"
      },
      "source": [
        "**Confusion Matrix**"
      ]
    },
    {
      "cell_type": "code",
      "metadata": {
        "id": "aIKhD-RXb4tw"
      },
      "source": [
        "# Plot Confusion Matrix\n",
        "cm = confusion_matrix(y_true=true_labels, y_pred=pred_labels)\n",
        "plt.subplots(figsize=(10,4))\n",
        "plot_confusion_matrix(cm=cm, classes=IMAGE_CLASSES, title='Confusion Matrix',normalize=False, subplot=121)\n",
        "plot_confusion_matrix(cm=cm, classes=IMAGE_CLASSES, title='Normalized Confusion Matrix',normalize=True, subplot=122)"
      ],
      "execution_count": null,
      "outputs": []
    },
    {
      "cell_type": "markdown",
      "metadata": {
        "id": "vJMgJM6Zb4tw"
      },
      "source": [
        "**Model Summary**"
      ]
    },
    {
      "cell_type": "code",
      "metadata": {
        "id": "SnMEinjtb4tw"
      },
      "source": [
        "print(\"Trained on\", MODEL)\r\n",
        "print(\"For\", dataset_name, K)\r\n",
        "print(\"Training [Loss, Accuracy]: \", Training_Accuracy)\r\n",
        "print(\"Validaiton [Loss,Accuracy]: \", Validation_Accuracy)\r\n",
        "print(\"Prediction time: \", pred_time)\r\n",
        "print('Model Size:', convert_file_size_unit(os.stat(SAVE_MODEL_NAME).st_size,'MB'), 'MB')\r\n",
        "report = metrics.classification_report(y_true = true_labels, y_pred = pred_labels, target_names=IMAGE_CLASSES)\r\n",
        "print(report)"
      ],
      "execution_count": null,
      "outputs": []
    },
    {
      "cell_type": "markdown",
      "metadata": {
        "id": "GUiPbAixb4tw"
      },
      "source": [
        "**Show all images with predictions**"
      ]
    },
    {
      "cell_type": "code",
      "metadata": {
        "colab": {
          "background_save": true
        },
        "id": "OYA6OFS6b4tx"
      },
      "source": [
        "show_all_prediction_image(test_path, test_generator, true_labels, pred_labels) # Argument:(Path of test dataset, test generator to generate image, true labels generated by test generator, predicted labels generated by model on test dataset)"
      ],
      "execution_count": null,
      "outputs": []
    },
    {
      "cell_type": "markdown",
      "metadata": {
        "id": "WRbFhUMwb69B"
      },
      "source": [
        "#**Training on DenseNet121**"
      ]
    },
    {
      "cell_type": "code",
      "metadata": {
        "id": "h7MMWzhBb69B"
      },
      "source": [
        "MODEL = 'DenseNet121'              # Xception, VGG16, VGG19, InceptionResNetV2, ResNet50V2, ResNet101V2, ResNet152V2, InceptionV3, InceptionResNetV2, MobileNetV2, DenseNet121, DenseNet169, DenseNet201, NASNetMobile, NASNetLarge\n",
        "BATCH_SIZE = 64                 # Mini-batch size\n",
        "SEED = 2020                     # Fixed randomness (For reproducible result!)\n",
        "SAVE_MODEL_NAME = MODEL + '_' + dataset_name + K + '_awesome_model.h5'         # Name of the model to save after training\n",
        "python_random.seed(SEED)        # necessary for starting core Python generated random numbers in a well-defined state.\n",
        "np.random.seed(SEED)            # necessary for starting Numpy generated random numbers in a well-defined state.\n",
        "tf.random.set_seed(SEED)        # will make random number generation in the TensorFlow backend have a well-defined initial state.\n",
        "\n",
        "IMAGE_WIDTH, IMAGE_HEIGHT, IMAGE_CHANNEL = get_pretrained_model_input_size(MODEL)\n",
        "print(\"Training on\", MODEL)\n",
        "print(\"Input:\",IMAGE_WIDTH,'x',IMAGE_HEIGHT,'x',IMAGE_CHANNEL)"
      ],
      "execution_count": null,
      "outputs": []
    },
    {
      "cell_type": "code",
      "metadata": {
        "id": "my-jR4dWb69C"
      },
      "source": [
        "train_generator = get_train_generator()\n",
        "valid_generator = get_valid_generator()\n",
        "test_generator = get_test_generator()"
      ],
      "execution_count": null,
      "outputs": []
    },
    {
      "cell_type": "code",
      "metadata": {
        "id": "0vIc6Qiab69C"
      },
      "source": [
        "# Check number of image in each class\n",
        "train_freq = get_freq_data(train_generator)\n",
        "valid_freq = get_freq_data(valid_generator)\n",
        "total_freq = np.array(train_freq) + np.array(valid_freq)\n",
        "valid_data_freq = np.array(valid_freq)/total_freq\n",
        "print(\"Valid data Percentage:\",valid_data_freq)"
      ],
      "execution_count": null,
      "outputs": []
    },
    {
      "cell_type": "code",
      "metadata": {
        "id": "i5mWStAQb69C"
      },
      "source": [
        "model = get_pretrained_model(MODEL, weights = 'imagenet', unfreeze_last_layer = 0, print_summary = False, print_fine_tuning_summary = True)"
      ],
      "execution_count": null,
      "outputs": []
    },
    {
      "cell_type": "code",
      "metadata": {
        "id": "qAa4Tn9Ob69C"
      },
      "source": [
        "time_start = time.time()\n",
        "history = model.fit(\n",
        "    x = train_generator,\n",
        "    validation_data = valid_generator,\n",
        "    epochs = EPOCH,\n",
        "    verbose = 1,\n",
        "    steps_per_epoch = train_generator.samples / train_generator.batch_size ,\n",
        "    validation_steps = valid_generator.samples / valid_generator.batch_size\n",
        ")\n",
        "print(\"Training done. Evaluating...\")\n",
        "time_end = time.time()\n",
        "final_accuracy = history.history[\"val_accuracy\"][-5:]\n",
        "Training_Accuracy = model.evaluate(train_generator, steps=train_generator.samples / train_generator.batch_size)\n",
        "Validation_Accuracy = model.evaluate(test_generator, steps=valid_generator.samples / valid_generator.batch_size)\n",
        "print(\"Finish!\")\n"
      ],
      "execution_count": null,
      "outputs": []
    },
    {
      "cell_type": "code",
      "metadata": {
        "id": "Kzp4vYv7b69C"
      },
      "source": [
        "print(\"Trained on\", MODEL)\r\n",
        "print(\"Time taken:\", datetime.timedelta(seconds=(int(time_end - time_start))), \"(hh:mm:ss)\")\r\n",
        "print(\"The Model Accuracy for Train data is: \", \"{:.2%}\".format(Training_Accuracy[1]))\r\n",
        "print(\"The Model Accuracy for Validation data is: \", \"{:.2%}\".format(Validation_Accuracy[1]))\r\n",
        "print(\"FINAL VALIDATION ACCURACY MEAN-5: \", np.mean(final_accuracy))\r\n",
        "# Loss and Accuracy\r\n",
        "plt.subplots(figsize=(9,3.5))\r\n",
        "plt.tight_layout()\r\n",
        "display_training_curves(history.history['loss'], history.history['val_loss'], 'Loss', 121)\r\n",
        "display_training_curves(history.history['accuracy'], history.history['val_accuracy'], 'Accuracy', 122)"
      ],
      "execution_count": null,
      "outputs": []
    },
    {
      "cell_type": "code",
      "metadata": {
        "id": "ZwWQKJ26b69D"
      },
      "source": [
        "model.save(SAVE_MODEL_NAME) #Save"
      ],
      "execution_count": null,
      "outputs": []
    },
    {
      "cell_type": "markdown",
      "metadata": {
        "id": "qrJv2psNb69D"
      },
      "source": [
        "**Predict**"
      ]
    },
    {
      "cell_type": "code",
      "metadata": {
        "id": "2HlsEuxFb69D"
      },
      "source": [
        "# True label\n",
        "true_labels = test_generator.classes  # Get label of valid_generator\n",
        "# Prediction label\n",
        "time_start = time.time()\n",
        "predictions = model.predict(x=test_generator, steps=len(test_generator),verbose = 0)\n",
        "time_end = time.time()\n",
        "pred_labels = np.argmax(predictions, axis=-1)\n",
        "pred_time = time_end - time_start"
      ],
      "execution_count": null,
      "outputs": []
    },
    {
      "cell_type": "markdown",
      "metadata": {
        "id": "188v1t8Kb69D"
      },
      "source": [
        "**Confusion Matrix**"
      ]
    },
    {
      "cell_type": "code",
      "metadata": {
        "id": "6F2nul8rb69D"
      },
      "source": [
        "# Plot Confusion Matrix\n",
        "cm = confusion_matrix(y_true=true_labels, y_pred=pred_labels)\n",
        "plt.subplots(figsize=(10,4))\n",
        "plot_confusion_matrix(cm=cm, classes=IMAGE_CLASSES, title='Confusion Matrix',normalize=False, subplot=121)\n",
        "plot_confusion_matrix(cm=cm, classes=IMAGE_CLASSES, title='Normalized Confusion Matrix',normalize=True, subplot=122)"
      ],
      "execution_count": null,
      "outputs": []
    },
    {
      "cell_type": "markdown",
      "metadata": {
        "id": "-6V41dJKb69D"
      },
      "source": [
        "**Model Summary**"
      ]
    },
    {
      "cell_type": "code",
      "metadata": {
        "id": "2IV04WQLb69E"
      },
      "source": [
        "print(\"Trained on\", MODEL)\r\n",
        "print(\"For\", dataset_name, K)\r\n",
        "print(\"Training [Loss, Accuracy]: \", Training_Accuracy)\r\n",
        "print(\"Validaiton [Loss,Accuracy]: \", Validation_Accuracy)\r\n",
        "print(\"Prediction time: \", pred_time)\r\n",
        "print('Model Size:', convert_file_size_unit(os.stat(SAVE_MODEL_NAME).st_size,'MB'), 'MB')\r\n",
        "report = metrics.classification_report(y_true = true_labels, y_pred = pred_labels, target_names=IMAGE_CLASSES)\r\n",
        "print(report)"
      ],
      "execution_count": null,
      "outputs": []
    },
    {
      "cell_type": "markdown",
      "metadata": {
        "id": "Zc3MHsMWb69E"
      },
      "source": [
        "**Show all images with predictions**"
      ]
    },
    {
      "cell_type": "code",
      "metadata": {
        "colab": {
          "background_save": true
        },
        "id": "HYTSNEPqb69E"
      },
      "source": [
        "show_all_prediction_image(test_path, test_generator, true_labels, pred_labels) # Argument:(Path of test dataset, test generator to generate image, true labels generated by test generator, predicted labels generated by model on test dataset)"
      ],
      "execution_count": null,
      "outputs": []
    },
    {
      "cell_type": "markdown",
      "metadata": {
        "id": "nUXZIFK_b787"
      },
      "source": [
        "#**Training on DenseNet169**"
      ]
    },
    {
      "cell_type": "code",
      "metadata": {
        "id": "JkMKE6k4b787"
      },
      "source": [
        "MODEL = 'DenseNet169'              # Xception, VGG16, VGG19, InceptionResNetV2, ResNet50V2, ResNet101V2, ResNet152V2, InceptionV3, InceptionResNetV2, MobileNetV2, DenseNet121, DenseNet169, DenseNet201, NASNetMobile, NASNetLarge\n",
        "BATCH_SIZE = 64                 # Mini-batch size\n",
        "SEED = 2020                     # Fixed randomness (For reproducible result!)\n",
        "SAVE_MODEL_NAME = MODEL + '_' + dataset_name + K + '_awesome_model.h5'         # Name of the model to save after training\n",
        "python_random.seed(SEED)        # necessary for starting core Python generated random numbers in a well-defined state.\n",
        "np.random.seed(SEED)            # necessary for starting Numpy generated random numbers in a well-defined state.\n",
        "tf.random.set_seed(SEED)        # will make random number generation in the TensorFlow backend have a well-defined initial state.\n",
        "\n",
        "IMAGE_WIDTH, IMAGE_HEIGHT, IMAGE_CHANNEL = get_pretrained_model_input_size(MODEL)\n",
        "print(\"Training on\", MODEL)\n",
        "print(\"Input:\",IMAGE_WIDTH,'x',IMAGE_HEIGHT,'x',IMAGE_CHANNEL)"
      ],
      "execution_count": null,
      "outputs": []
    },
    {
      "cell_type": "code",
      "metadata": {
        "id": "8ntK1gh5b787"
      },
      "source": [
        "train_generator = get_train_generator()\n",
        "valid_generator = get_valid_generator()\n",
        "test_generator = get_test_generator()"
      ],
      "execution_count": null,
      "outputs": []
    },
    {
      "cell_type": "code",
      "metadata": {
        "id": "HhoVsfnTb787"
      },
      "source": [
        "# Check number of image in each class\n",
        "train_freq = get_freq_data(train_generator)\n",
        "valid_freq = get_freq_data(valid_generator)\n",
        "total_freq = np.array(train_freq) + np.array(valid_freq)\n",
        "valid_data_freq = np.array(valid_freq)/total_freq\n",
        "print(\"Valid data Percentage:\",valid_data_freq)"
      ],
      "execution_count": null,
      "outputs": []
    },
    {
      "cell_type": "code",
      "metadata": {
        "id": "K0RRY16Ib788"
      },
      "source": [
        "model = get_pretrained_model(MODEL, weights = 'imagenet', unfreeze_last_layer = 0, print_summary = False, print_fine_tuning_summary = True)"
      ],
      "execution_count": null,
      "outputs": []
    },
    {
      "cell_type": "code",
      "metadata": {
        "id": "LC07orfrb788"
      },
      "source": [
        "time_start = time.time()\n",
        "history = model.fit(\n",
        "    x = train_generator,\n",
        "    validation_data = valid_generator,\n",
        "    epochs = EPOCH,\n",
        "    verbose = 1,\n",
        "    steps_per_epoch = train_generator.samples / train_generator.batch_size ,\n",
        "    validation_steps = valid_generator.samples / valid_generator.batch_size\n",
        ")\n",
        "print(\"Training done. Evaluating...\")\n",
        "time_end = time.time()\n",
        "final_accuracy = history.history[\"val_accuracy\"][-5:]\n",
        "Training_Accuracy = model.evaluate(train_generator, steps=train_generator.samples / train_generator.batch_size)\n",
        "Validation_Accuracy = model.evaluate(test_generator, steps=valid_generator.samples / valid_generator.batch_size)\n",
        "print(\"Finish!\")\n"
      ],
      "execution_count": null,
      "outputs": []
    },
    {
      "cell_type": "code",
      "metadata": {
        "id": "eK96WqKCb788"
      },
      "source": [
        "print(\"Trained on\", MODEL)\r\n",
        "print(\"Time taken:\", datetime.timedelta(seconds=(int(time_end - time_start))), \"(hh:mm:ss)\")\r\n",
        "print(\"The Model Accuracy for Train data is: \", \"{:.2%}\".format(Training_Accuracy[1]))\r\n",
        "print(\"The Model Accuracy for Validation data is: \", \"{:.2%}\".format(Validation_Accuracy[1]))\r\n",
        "print(\"FINAL VALIDATION ACCURACY MEAN-5: \", np.mean(final_accuracy))\r\n",
        "# Loss and Accuracy\r\n",
        "plt.subplots(figsize=(9,3.5))\r\n",
        "plt.tight_layout()\r\n",
        "display_training_curves(history.history['loss'], history.history['val_loss'], 'Loss', 121)\r\n",
        "display_training_curves(history.history['accuracy'], history.history['val_accuracy'], 'Accuracy', 122)"
      ],
      "execution_count": null,
      "outputs": []
    },
    {
      "cell_type": "code",
      "metadata": {
        "id": "CA4raGabb788"
      },
      "source": [
        "model.save(SAVE_MODEL_NAME) #Save"
      ],
      "execution_count": null,
      "outputs": []
    },
    {
      "cell_type": "markdown",
      "metadata": {
        "id": "5eLV-CdAb788"
      },
      "source": [
        "**Predict**"
      ]
    },
    {
      "cell_type": "code",
      "metadata": {
        "id": "0T8umctOb789"
      },
      "source": [
        "# True label\n",
        "true_labels = test_generator.classes  # Get label of valid_generator\n",
        "# Prediction label\n",
        "time_start = time.time()\n",
        "predictions = model.predict(x=test_generator, steps=len(test_generator),verbose = 0)\n",
        "time_end = time.time()\n",
        "pred_labels = np.argmax(predictions, axis=-1)\n",
        "pred_time = time_end - time_start"
      ],
      "execution_count": null,
      "outputs": []
    },
    {
      "cell_type": "markdown",
      "metadata": {
        "id": "S3jZ1zoIb789"
      },
      "source": [
        "**Confusion Matrix**"
      ]
    },
    {
      "cell_type": "code",
      "metadata": {
        "id": "tiP8ZWuNb789"
      },
      "source": [
        "# Plot Confusion Matrix\n",
        "cm = confusion_matrix(y_true=true_labels, y_pred=pred_labels)\n",
        "plt.subplots(figsize=(10,4))\n",
        "plot_confusion_matrix(cm=cm, classes=IMAGE_CLASSES, title='Confusion Matrix',normalize=False, subplot=121)\n",
        "plot_confusion_matrix(cm=cm, classes=IMAGE_CLASSES, title='Normalized Confusion Matrix',normalize=True, subplot=122)"
      ],
      "execution_count": null,
      "outputs": []
    },
    {
      "cell_type": "markdown",
      "metadata": {
        "id": "C0zx8O1bb789"
      },
      "source": [
        "**Model Summary**"
      ]
    },
    {
      "cell_type": "code",
      "metadata": {
        "id": "YNFlGaSRb789"
      },
      "source": [
        "print(\"Trained on\", MODEL)\r\n",
        "print(\"For\", dataset_name, K)\r\n",
        "print(\"Training [Loss, Accuracy]: \", Training_Accuracy)\r\n",
        "print(\"Validaiton [Loss,Accuracy]: \", Validation_Accuracy)\r\n",
        "print(\"Prediction time: \", pred_time)\r\n",
        "print('Model Size:', convert_file_size_unit(os.stat(SAVE_MODEL_NAME).st_size,'MB'), 'MB')\r\n",
        "report = metrics.classification_report(y_true = true_labels, y_pred = pred_labels, target_names=IMAGE_CLASSES)\r\n",
        "print(report)"
      ],
      "execution_count": null,
      "outputs": []
    },
    {
      "cell_type": "markdown",
      "metadata": {
        "id": "ghFZ7g3ib78-"
      },
      "source": [
        "**Show all images with predictions**"
      ]
    },
    {
      "cell_type": "code",
      "metadata": {
        "colab": {
          "background_save": true
        },
        "id": "_DBCOXLnb78-"
      },
      "source": [
        "show_all_prediction_image(test_path, test_generator, true_labels, pred_labels) # Argument:(Path of test dataset, test generator to generate image, true labels generated by test generator, predicted labels generated by model on test dataset)"
      ],
      "execution_count": null,
      "outputs": []
    },
    {
      "cell_type": "markdown",
      "metadata": {
        "id": "rl5VqmzOb892"
      },
      "source": [
        "#**Training on DenseNet201**"
      ]
    },
    {
      "cell_type": "code",
      "metadata": {
        "id": "ZF3WQJCUb893"
      },
      "source": [
        "MODEL = 'DenseNet201'              # Xception, VGG16, VGG19, InceptionResNetV2, ResNet50V2, ResNet101V2, ResNet152V2, InceptionV3, InceptionResNetV2, MobileNetV2, DenseNet121, DenseNet169, DenseNet201, NASNetMobile, NASNetLarge\n",
        "BATCH_SIZE = 64                 # Mini-batch size\n",
        "SEED = 2020                     # Fixed randomness (For reproducible result!)\n",
        "SAVE_MODEL_NAME = MODEL + '_' + dataset_name + K + '_awesome_model.h5'         # Name of the model to save after training\n",
        "python_random.seed(SEED)        # necessary for starting core Python generated random numbers in a well-defined state.\n",
        "np.random.seed(SEED)            # necessary for starting Numpy generated random numbers in a well-defined state.\n",
        "tf.random.set_seed(SEED)        # will make random number generation in the TensorFlow backend have a well-defined initial state.\n",
        "\n",
        "IMAGE_WIDTH, IMAGE_HEIGHT, IMAGE_CHANNEL = get_pretrained_model_input_size(MODEL)\n",
        "print(\"Training on\", MODEL)\n",
        "print(\"Input:\",IMAGE_WIDTH,'x',IMAGE_HEIGHT,'x',IMAGE_CHANNEL)"
      ],
      "execution_count": null,
      "outputs": []
    },
    {
      "cell_type": "code",
      "metadata": {
        "id": "I_PWavobb893"
      },
      "source": [
        "train_generator = get_train_generator()\n",
        "valid_generator = get_valid_generator()\n",
        "test_generator = get_test_generator()"
      ],
      "execution_count": null,
      "outputs": []
    },
    {
      "cell_type": "code",
      "metadata": {
        "id": "XSshM3Rhb894"
      },
      "source": [
        "# Check number of image in each class\n",
        "train_freq = get_freq_data(train_generator)\n",
        "valid_freq = get_freq_data(valid_generator)\n",
        "total_freq = np.array(train_freq) + np.array(valid_freq)\n",
        "valid_data_freq = np.array(valid_freq)/total_freq\n",
        "print(\"Valid data Percentage:\",valid_data_freq)"
      ],
      "execution_count": null,
      "outputs": []
    },
    {
      "cell_type": "code",
      "metadata": {
        "id": "C_vepFv0b894"
      },
      "source": [
        "model = get_pretrained_model(MODEL, weights = 'imagenet', unfreeze_last_layer = 0, print_summary = False, print_fine_tuning_summary = True)"
      ],
      "execution_count": null,
      "outputs": []
    },
    {
      "cell_type": "code",
      "metadata": {
        "id": "M_THHnYNb895"
      },
      "source": [
        "time_start = time.time()\n",
        "history = model.fit(\n",
        "    x = train_generator,\n",
        "    validation_data = valid_generator,\n",
        "    epochs = EPOCH,\n",
        "    verbose = 1,\n",
        "    steps_per_epoch = train_generator.samples / train_generator.batch_size ,\n",
        "    validation_steps = valid_generator.samples / valid_generator.batch_size\n",
        ")\n",
        "print(\"Training done. Evaluating...\")\n",
        "time_end = time.time()\n",
        "final_accuracy = history.history[\"val_accuracy\"][-5:]\n",
        "Training_Accuracy = model.evaluate(train_generator, steps=train_generator.samples / train_generator.batch_size)\n",
        "Validation_Accuracy = model.evaluate(test_generator, steps=valid_generator.samples / valid_generator.batch_size)\n",
        "print(\"Finish!\")\n"
      ],
      "execution_count": null,
      "outputs": []
    },
    {
      "cell_type": "code",
      "metadata": {
        "id": "s00j-Y7ub895"
      },
      "source": [
        "print(\"Trained on\", MODEL)\r\n",
        "print(\"Time taken:\", datetime.timedelta(seconds=(int(time_end - time_start))), \"(hh:mm:ss)\")\r\n",
        "print(\"The Model Accuracy for Train data is: \", \"{:.2%}\".format(Training_Accuracy[1]))\r\n",
        "print(\"The Model Accuracy for Validation data is: \", \"{:.2%}\".format(Validation_Accuracy[1]))\r\n",
        "print(\"FINAL VALIDATION ACCURACY MEAN-5: \", np.mean(final_accuracy))\r\n",
        "# Loss and Accuracy\r\n",
        "plt.subplots(figsize=(9,3.5))\r\n",
        "plt.tight_layout()\r\n",
        "display_training_curves(history.history['loss'], history.history['val_loss'], 'Loss', 121)\r\n",
        "display_training_curves(history.history['accuracy'], history.history['val_accuracy'], 'Accuracy', 122)"
      ],
      "execution_count": null,
      "outputs": []
    },
    {
      "cell_type": "code",
      "metadata": {
        "id": "a_8HckL9b896"
      },
      "source": [
        "model.save(SAVE_MODEL_NAME) #Save"
      ],
      "execution_count": null,
      "outputs": []
    },
    {
      "cell_type": "markdown",
      "metadata": {
        "id": "RtfpNzRCb896"
      },
      "source": [
        "**Predict**"
      ]
    },
    {
      "cell_type": "code",
      "metadata": {
        "id": "TGyUqHkDb896"
      },
      "source": [
        "# True label\n",
        "true_labels = test_generator.classes  # Get label of valid_generator\n",
        "# Prediction label\n",
        "time_start = time.time()\n",
        "predictions = model.predict(x=test_generator, steps=len(test_generator),verbose = 0)\n",
        "time_end = time.time()\n",
        "pred_labels = np.argmax(predictions, axis=-1)\n",
        "pred_time = time_end - time_start"
      ],
      "execution_count": null,
      "outputs": []
    },
    {
      "cell_type": "markdown",
      "metadata": {
        "id": "gIVqrnemb896"
      },
      "source": [
        "**Confusion Matrix**"
      ]
    },
    {
      "cell_type": "code",
      "metadata": {
        "id": "e6aSvabRb896"
      },
      "source": [
        "# Plot Confusion Matrix\n",
        "cm = confusion_matrix(y_true=true_labels, y_pred=pred_labels)\n",
        "plt.subplots(figsize=(10,4))\n",
        "plot_confusion_matrix(cm=cm, classes=IMAGE_CLASSES, title='Confusion Matrix',normalize=False, subplot=121)\n",
        "plot_confusion_matrix(cm=cm, classes=IMAGE_CLASSES, title='Normalized Confusion Matrix',normalize=True, subplot=122)"
      ],
      "execution_count": null,
      "outputs": []
    },
    {
      "cell_type": "markdown",
      "metadata": {
        "id": "pXuu5Gzbb896"
      },
      "source": [
        "**Model Summary**"
      ]
    },
    {
      "cell_type": "code",
      "metadata": {
        "id": "OVtBPgMUb896"
      },
      "source": [
        "print(\"Trained on\", MODEL)\r\n",
        "print(\"For\", dataset_name, K)\r\n",
        "print(\"Training [Loss, Accuracy]: \", Training_Accuracy)\r\n",
        "print(\"Validaiton [Loss,Accuracy]: \", Validation_Accuracy)\r\n",
        "print(\"Prediction time: \", pred_time)\r\n",
        "print('Model Size:', convert_file_size_unit(os.stat(SAVE_MODEL_NAME).st_size,'MB'), 'MB')\r\n",
        "report = metrics.classification_report(y_true = true_labels, y_pred = pred_labels, target_names=IMAGE_CLASSES)\r\n",
        "print(report)"
      ],
      "execution_count": null,
      "outputs": []
    },
    {
      "cell_type": "markdown",
      "metadata": {
        "id": "UbBXHzXqb897"
      },
      "source": [
        "**Show all images with predictions**"
      ]
    },
    {
      "cell_type": "code",
      "metadata": {
        "colab": {
          "background_save": true
        },
        "id": "rl6JDCRvb897"
      },
      "source": [
        "show_all_prediction_image(test_path, test_generator, true_labels, pred_labels) # Argument:(Path of test dataset, test generator to generate image, true labels generated by test generator, predicted labels generated by model on test dataset)"
      ],
      "execution_count": null,
      "outputs": []
    },
    {
      "cell_type": "markdown",
      "metadata": {
        "id": "eo79NrPub93m"
      },
      "source": [
        "#**Training on NASNetMobile**"
      ]
    },
    {
      "cell_type": "code",
      "metadata": {
        "id": "c2JhXJMYb93m"
      },
      "source": [
        "MODEL = 'NASNetMobile'              # Xception, VGG16, VGG19, InceptionResNetV2, ResNet50V2, ResNet101V2, ResNet152V2, InceptionV3, InceptionResNetV2, MobileNetV2, DenseNet121, DenseNet169, DenseNet201, NASNetMobile, NASNetLarge\n",
        "BATCH_SIZE = 64                 # Mini-batch size\n",
        "SEED = 2020                     # Fixed randomness (For reproducible result!)\n",
        "SAVE_MODEL_NAME = MODEL + '_' + dataset_name + K + '_awesome_model.h5'         # Name of the model to save after training\n",
        "python_random.seed(SEED)        # necessary for starting core Python generated random numbers in a well-defined state.\n",
        "np.random.seed(SEED)            # necessary for starting Numpy generated random numbers in a well-defined state.\n",
        "tf.random.set_seed(SEED)        # will make random number generation in the TensorFlow backend have a well-defined initial state.\n",
        "\n",
        "IMAGE_WIDTH, IMAGE_HEIGHT, IMAGE_CHANNEL = get_pretrained_model_input_size(MODEL)\n",
        "print(\"Training on\", MODEL)\n",
        "print(\"Input:\",IMAGE_WIDTH,'x',IMAGE_HEIGHT,'x',IMAGE_CHANNEL)"
      ],
      "execution_count": null,
      "outputs": []
    },
    {
      "cell_type": "code",
      "metadata": {
        "id": "cBW4rDhfb93n"
      },
      "source": [
        "train_generator = get_train_generator()\n",
        "valid_generator = get_valid_generator()\n",
        "test_generator = get_test_generator()"
      ],
      "execution_count": null,
      "outputs": []
    },
    {
      "cell_type": "code",
      "metadata": {
        "id": "eneCtPEub93n"
      },
      "source": [
        "# Check number of image in each class\n",
        "train_freq = get_freq_data(train_generator)\n",
        "valid_freq = get_freq_data(valid_generator)\n",
        "total_freq = np.array(train_freq) + np.array(valid_freq)\n",
        "valid_data_freq = np.array(valid_freq)/total_freq\n",
        "print(\"Valid data Percentage:\",valid_data_freq)"
      ],
      "execution_count": null,
      "outputs": []
    },
    {
      "cell_type": "code",
      "metadata": {
        "id": "Hbj9DajWb93n"
      },
      "source": [
        "model = get_pretrained_model(MODEL, weights = 'imagenet', unfreeze_last_layer = 0, print_summary = False, print_fine_tuning_summary = True)"
      ],
      "execution_count": null,
      "outputs": []
    },
    {
      "cell_type": "code",
      "metadata": {
        "id": "ig-oaUvLb93n"
      },
      "source": [
        "time_start = time.time()\n",
        "history = model.fit(\n",
        "    x = train_generator,\n",
        "    validation_data = valid_generator,\n",
        "    epochs = EPOCH,\n",
        "    verbose = 1,\n",
        "    steps_per_epoch = train_generator.samples / train_generator.batch_size ,\n",
        "    validation_steps = valid_generator.samples / valid_generator.batch_size\n",
        ")\n",
        "print(\"Training done. Evaluating...\")\n",
        "time_end = time.time()\n",
        "final_accuracy = history.history[\"val_accuracy\"][-5:]\n",
        "Training_Accuracy = model.evaluate(train_generator, steps=train_generator.samples / train_generator.batch_size)\n",
        "Validation_Accuracy = model.evaluate(test_generator, steps=valid_generator.samples / valid_generator.batch_size)\n",
        "print(\"Finish!\")\n"
      ],
      "execution_count": null,
      "outputs": []
    },
    {
      "cell_type": "code",
      "metadata": {
        "id": "lVdTGY79b93n"
      },
      "source": [
        "print(\"Trained on\", MODEL)\r\n",
        "print(\"Time taken:\", datetime.timedelta(seconds=(int(time_end - time_start))), \"(hh:mm:ss)\")\r\n",
        "print(\"The Model Accuracy for Train data is: \", \"{:.2%}\".format(Training_Accuracy[1]))\r\n",
        "print(\"The Model Accuracy for Validation data is: \", \"{:.2%}\".format(Validation_Accuracy[1]))\r\n",
        "print(\"FINAL VALIDATION ACCURACY MEAN-5: \", np.mean(final_accuracy))\r\n",
        "# Loss and Accuracy\r\n",
        "plt.subplots(figsize=(9,3.5))\r\n",
        "plt.tight_layout()\r\n",
        "display_training_curves(history.history['loss'], history.history['val_loss'], 'Loss', 121)\r\n",
        "display_training_curves(history.history['accuracy'], history.history['val_accuracy'], 'Accuracy', 122)"
      ],
      "execution_count": null,
      "outputs": []
    },
    {
      "cell_type": "code",
      "metadata": {
        "id": "TgRlKsQxb93o"
      },
      "source": [
        "model.save(SAVE_MODEL_NAME) #Save"
      ],
      "execution_count": null,
      "outputs": []
    },
    {
      "cell_type": "markdown",
      "metadata": {
        "id": "0_AKFVzKb93o"
      },
      "source": [
        "**Predict**"
      ]
    },
    {
      "cell_type": "code",
      "metadata": {
        "id": "uMiqmX1Cb93o"
      },
      "source": [
        "# True label\n",
        "true_labels = test_generator.classes  # Get label of valid_generator\n",
        "# Prediction label\n",
        "time_start = time.time()\n",
        "predictions = model.predict(x=test_generator, steps=len(test_generator),verbose = 0)\n",
        "time_end = time.time()\n",
        "pred_labels = np.argmax(predictions, axis=-1)\n",
        "pred_time = time_end - time_start"
      ],
      "execution_count": null,
      "outputs": []
    },
    {
      "cell_type": "markdown",
      "metadata": {
        "id": "y_Qteswhb93o"
      },
      "source": [
        "**Confusion Matrix**"
      ]
    },
    {
      "cell_type": "code",
      "metadata": {
        "id": "0iDr-OWgb93o"
      },
      "source": [
        "# Plot Confusion Matrix\n",
        "cm = confusion_matrix(y_true=true_labels, y_pred=pred_labels)\n",
        "plt.subplots(figsize=(10,4))\n",
        "plot_confusion_matrix(cm=cm, classes=IMAGE_CLASSES, title='Confusion Matrix',normalize=False, subplot=121)\n",
        "plot_confusion_matrix(cm=cm, classes=IMAGE_CLASSES, title='Normalized Confusion Matrix',normalize=True, subplot=122)"
      ],
      "execution_count": null,
      "outputs": []
    },
    {
      "cell_type": "markdown",
      "metadata": {
        "id": "rk6FXGAVb93o"
      },
      "source": [
        "**Model Summary**"
      ]
    },
    {
      "cell_type": "code",
      "metadata": {
        "id": "EMM0qxGqb93o"
      },
      "source": [
        "print(\"Trained on\", MODEL)\r\n",
        "print(\"For\", dataset_name, K)\r\n",
        "print(\"Training [Loss, Accuracy]: \", Training_Accuracy)\r\n",
        "print(\"Validaiton [Loss,Accuracy]: \", Validation_Accuracy)\r\n",
        "print(\"Prediction time: \", pred_time)\r\n",
        "print('Model Size:', convert_file_size_unit(os.stat(SAVE_MODEL_NAME).st_size,'MB'), 'MB')\r\n",
        "report = metrics.classification_report(y_true = true_labels, y_pred = pred_labels, target_names=IMAGE_CLASSES)\r\n",
        "print(report)"
      ],
      "execution_count": null,
      "outputs": []
    },
    {
      "cell_type": "markdown",
      "metadata": {
        "id": "O7-khRudb93p"
      },
      "source": [
        "**Show all images with predictions**"
      ]
    },
    {
      "cell_type": "code",
      "metadata": {
        "colab": {
          "background_save": true
        },
        "id": "J1iQJBa5b93p"
      },
      "source": [
        "show_all_prediction_image(test_path, test_generator, true_labels, pred_labels) # Argument:(Path of test dataset, test generator to generate image, true labels generated by test generator, predicted labels generated by model on test dataset)"
      ],
      "execution_count": null,
      "outputs": []
    },
    {
      "cell_type": "markdown",
      "metadata": {
        "id": "bXUHo2ZEb-zC"
      },
      "source": [
        "#**Training on NASNetLarge**"
      ]
    },
    {
      "cell_type": "code",
      "metadata": {
        "id": "pcxCcxArb-zD"
      },
      "source": [
        "MODEL = 'NASNetLarge'              # Xception, VGG16, VGG19, InceptionResNetV2, ResNet50V2, ResNet101V2, ResNet152V2, InceptionV3, InceptionResNetV2, MobileNetV2, DenseNet121, DenseNet169, DenseNet201, NASNetMobile, NASNetLarge\n",
        "BATCH_SIZE = 16                 # Mini-batch size\n",
        "SEED = 2020                     # Fixed randomness (For reproducible result!)\n",
        "SAVE_MODEL_NAME = MODEL + '_' + dataset_name + K + '_awesome_model.h5'         # Name of the model to save after training\n",
        "python_random.seed(SEED)        # necessary for starting core Python generated random numbers in a well-defined state.\n",
        "np.random.seed(SEED)            # necessary for starting Numpy generated random numbers in a well-defined state.\n",
        "tf.random.set_seed(SEED)        # will make random number generation in the TensorFlow backend have a well-defined initial state.\n",
        "\n",
        "IMAGE_WIDTH, IMAGE_HEIGHT, IMAGE_CHANNEL = get_pretrained_model_input_size(MODEL)\n",
        "print(\"Training on\", MODEL)\n",
        "print(\"Input:\",IMAGE_WIDTH,'x',IMAGE_HEIGHT,'x',IMAGE_CHANNEL)"
      ],
      "execution_count": null,
      "outputs": []
    },
    {
      "cell_type": "code",
      "metadata": {
        "id": "UEcHpKogb-zD"
      },
      "source": [
        "train_generator = get_train_generator()\n",
        "valid_generator = get_valid_generator()\n",
        "test_generator = get_test_generator()"
      ],
      "execution_count": null,
      "outputs": []
    },
    {
      "cell_type": "code",
      "metadata": {
        "id": "ubYtjvpCb-zE"
      },
      "source": [
        "# Check number of image in each class\n",
        "train_freq = get_freq_data(train_generator)\n",
        "valid_freq = get_freq_data(valid_generator)\n",
        "total_freq = np.array(train_freq) + np.array(valid_freq)\n",
        "valid_data_freq = np.array(valid_freq)/total_freq\n",
        "print(\"Valid data Percentage:\",valid_data_freq)"
      ],
      "execution_count": null,
      "outputs": []
    },
    {
      "cell_type": "code",
      "metadata": {
        "id": "9U2jEyn8b-zE"
      },
      "source": [
        "model = get_pretrained_model(MODEL, weights = 'imagenet', unfreeze_last_layer = 0, print_summary = False, print_fine_tuning_summary = True)"
      ],
      "execution_count": null,
      "outputs": []
    },
    {
      "cell_type": "code",
      "metadata": {
        "id": "-0HvVbdab-zF"
      },
      "source": [
        "time_start = time.time()\n",
        "history = model.fit(\n",
        "    x = train_generator,\n",
        "    validation_data = valid_generator,\n",
        "    epochs = EPOCH,\n",
        "    verbose = 1,\n",
        "    steps_per_epoch = train_generator.samples / train_generator.batch_size ,\n",
        "    validation_steps = valid_generator.samples / valid_generator.batch_size\n",
        ")\n",
        "print(\"Training done. Evaluating...\")\n",
        "time_end = time.time()\n",
        "final_accuracy = history.history[\"val_accuracy\"][-5:]\n",
        "Training_Accuracy = model.evaluate(train_generator, steps=train_generator.samples / train_generator.batch_size)\n",
        "Validation_Accuracy = model.evaluate(test_generator, steps=valid_generator.samples / valid_generator.batch_size)\n",
        "print(\"Finish!\")\n"
      ],
      "execution_count": null,
      "outputs": []
    },
    {
      "cell_type": "code",
      "metadata": {
        "id": "jl2OIUMyb-zF"
      },
      "source": [
        "print(\"Trained on\", MODEL)\r\n",
        "print(\"Time taken:\", datetime.timedelta(seconds=(int(time_end - time_start))), \"(hh:mm:ss)\")\r\n",
        "print(\"The Model Accuracy for Train data is: \", \"{:.2%}\".format(Training_Accuracy[1]))\r\n",
        "print(\"The Model Accuracy for Validation data is: \", \"{:.2%}\".format(Validation_Accuracy[1]))\r\n",
        "print(\"FINAL VALIDATION ACCURACY MEAN-5: \", np.mean(final_accuracy))\r\n",
        "# Loss and Accuracy\r\n",
        "plt.subplots(figsize=(9,3.5))\r\n",
        "plt.tight_layout()\r\n",
        "display_training_curves(history.history['loss'], history.history['val_loss'], 'Loss', 121)\r\n",
        "display_training_curves(history.history['accuracy'], history.history['val_accuracy'], 'Accuracy', 122)"
      ],
      "execution_count": null,
      "outputs": []
    },
    {
      "cell_type": "code",
      "metadata": {
        "id": "s2GZd_z-b-zF"
      },
      "source": [
        "model.save(SAVE_MODEL_NAME) #Save"
      ],
      "execution_count": null,
      "outputs": []
    },
    {
      "cell_type": "markdown",
      "metadata": {
        "id": "-HsOE6tQb-zF"
      },
      "source": [
        "**Predict**"
      ]
    },
    {
      "cell_type": "code",
      "metadata": {
        "id": "7P64wLDZb-zF"
      },
      "source": [
        "# True label\n",
        "true_labels = test_generator.classes  # Get label of valid_generator\n",
        "# Prediction label\n",
        "time_start = time.time()\n",
        "predictions = model.predict(x=test_generator, steps=len(test_generator),verbose = 0)\n",
        "time_end = time.time()\n",
        "pred_labels = np.argmax(predictions, axis=-1)\n",
        "pred_time = time_end - time_start"
      ],
      "execution_count": null,
      "outputs": []
    },
    {
      "cell_type": "markdown",
      "metadata": {
        "id": "jzfVkkp_b-zF"
      },
      "source": [
        "**Confusion Matrix**"
      ]
    },
    {
      "cell_type": "code",
      "metadata": {
        "id": "_KnSr0Zjb-zF"
      },
      "source": [
        "# Plot Confusion Matrix\n",
        "cm = confusion_matrix(y_true=true_labels, y_pred=pred_labels)\n",
        "plt.subplots(figsize=(10,4))\n",
        "plot_confusion_matrix(cm=cm, classes=IMAGE_CLASSES, title='Confusion Matrix',normalize=False, subplot=121)\n",
        "plot_confusion_matrix(cm=cm, classes=IMAGE_CLASSES, title='Normalized Confusion Matrix',normalize=True, subplot=122)"
      ],
      "execution_count": null,
      "outputs": []
    },
    {
      "cell_type": "markdown",
      "metadata": {
        "id": "kR1ASXipb-zG"
      },
      "source": [
        "**Model Summary**"
      ]
    },
    {
      "cell_type": "code",
      "metadata": {
        "id": "9IOe1Ut-b-zG"
      },
      "source": [
        "print(\"Trained on\", MODEL)\r\n",
        "print(\"For\", dataset_name, K)\r\n",
        "print(\"Training [Loss, Accuracy]: \", Training_Accuracy)\r\n",
        "print(\"Validaiton [Loss,Accuracy]: \", Validation_Accuracy)\r\n",
        "print(\"Prediction time: \", pred_time)\r\n",
        "print('Model Size:', convert_file_size_unit(os.stat(SAVE_MODEL_NAME).st_size,'MB'), 'MB')\r\n",
        "report = metrics.classification_report(y_true = true_labels, y_pred = pred_labels, target_names=IMAGE_CLASSES)\r\n",
        "print(report)"
      ],
      "execution_count": null,
      "outputs": []
    },
    {
      "cell_type": "markdown",
      "metadata": {
        "id": "YCVcm-2gb-zG"
      },
      "source": [
        "**Show all images with predictions**"
      ]
    },
    {
      "cell_type": "code",
      "metadata": {
        "colab": {
          "background_save": true
        },
        "id": "PXEHWhdfb-zG"
      },
      "source": [
        "show_all_prediction_image(test_path, test_generator, true_labels, pred_labels) # Argument:(Path of test dataset, test generator to generate image, true labels generated by test generator, predicted labels generated by model on test dataset)"
      ],
      "execution_count": null,
      "outputs": []
    }
  ]
}