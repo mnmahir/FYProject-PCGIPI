{
  "nbformat": 4,
  "nbformat_minor": 0,
  "metadata": {
    "colab": {
      "name": "VGG16 - A.ipynb",
      "provenance": [],
      "authorship_tag": "ABX9TyP5I6f/OUqrOko1EG0WQUi3",
      "include_colab_link": true
    },
    "kernelspec": {
      "name": "python3",
      "display_name": "Python 3"
    }
  },
  "cells": [
    {
      "cell_type": "markdown",
      "metadata": {
        "id": "view-in-github",
        "colab_type": "text"
      },
      "source": [
        "<a href=\"https://colab.research.google.com/github/mnmahir/best-fyp/blob/main/VGG16_A.ipynb\" target=\"_parent\"><img src=\"https://colab.research.google.com/assets/colab-badge.svg\" alt=\"Open In Colab\"/></a>"
      ]
    },
    {
      "cell_type": "markdown",
      "metadata": {
        "id": "c_JNq8HtGTFU"
      },
      "source": [
        "**Import Libraries**"
      ]
    },
    {
      "cell_type": "code",
      "metadata": {
        "id": "cjtiRu3dCtTg"
      },
      "source": [
        "# Google Drive\n",
        "from google.colab import drive\n",
        "# Keras Library\n",
        "\n",
        "# General\n",
        "import tensorflow as tf\n",
        "import numpy as np"
      ],
      "execution_count": 2,
      "outputs": []
    },
    {
      "cell_type": "markdown",
      "metadata": {
        "id": "o2n1aFmjGqCx"
      },
      "source": [
        "**Mounting drive and setting path**"
      ]
    },
    {
      "cell_type": "code",
      "metadata": {
        "colab": {
          "base_uri": "https://localhost:8080/"
        },
        "id": "M-zj49aoCv2N",
        "outputId": "016afaf6-968f-4e25-9c30-94ad0a89d0c5"
      },
      "source": [
        "drive.mount('/content/drive')"
      ],
      "execution_count": 3,
      "outputs": [
        {
          "output_type": "stream",
          "text": [
            "Mounted at /content/drive\n"
          ],
          "name": "stdout"
        }
      ]
    },
    {
      "cell_type": "code",
      "metadata": {
        "id": "v9KrU6iJGo28"
      },
      "source": [
        "# Path where dataset is located\n",
        "dataset_path = '/content/drive/My Drive/FYP Stuff/Datasets/Dataset B'\n",
        "train_path = dataset_path + '/Train'\n",
        "dev_path = dataset_path + '/Dev'    # Some literature use the term \"test set\" but it should be called \"dev set\". This is the set that is iterated during training.\n",
        "test_path = dataset_path + '/Test'  # Test set helps evaluate how good your final system is. It's ok not to have test set."
      ],
      "execution_count": 4,
      "outputs": []
    },
    {
      "cell_type": "markdown",
      "metadata": {
        "id": "gsLPveBhHryf"
      },
      "source": [
        "**Initialization**"
      ]
    },
    {
      "cell_type": "code",
      "metadata": {
        "id": "JTaCMVc6HZA2"
      },
      "source": [
        "# Classes (Name must be exactly the same as folder name in each set)\n",
        "Image_classes = ['Normal','Grade I','Grade II','Grade III']\n",
        "# Image size (Set for resizing later)\n",
        "IMAGE_SIZE = [224,224]"
      ],
      "execution_count": null,
      "outputs": []
    },
    {
      "cell_type": "markdown",
      "metadata": {
        "id": "r4O-p995K0b0"
      },
      "source": [
        "**Functions**"
      ]
    },
    {
      "cell_type": "code",
      "metadata": {
        "id": "9DAdDNLpK67S"
      },
      "source": [
        ""
      ],
      "execution_count": null,
      "outputs": []
    }
  ]
}