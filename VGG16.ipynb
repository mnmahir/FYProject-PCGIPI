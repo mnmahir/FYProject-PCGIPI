{
  "nbformat": 4,
  "nbformat_minor": 0,
  "metadata": {
    "colab": {
      "name": "VGG16.ipynb",
      "provenance": [],
      "collapsed_sections": [],
      "authorship_tag": "ABX9TyN/hEiycwsG1qf7IPzFV6rZ",
      "include_colab_link": true
    },
    "kernelspec": {
      "name": "python3",
      "display_name": "Python 3"
    },
    "accelerator": "TPU"
  },
  "cells": [
    {
      "cell_type": "markdown",
      "metadata": {
        "id": "view-in-github",
        "colab_type": "text"
      },
      "source": [
        "<a href=\"https://colab.research.google.com/github/mnmahir/best-fyp/blob/main/VGG16.ipynb\" target=\"_parent\"><img src=\"https://colab.research.google.com/assets/colab-badge.svg\" alt=\"Open In Colab\"/></a>"
      ]
    },
    {
      "cell_type": "markdown",
      "metadata": {
        "id": "c_JNq8HtGTFU"
      },
      "source": [
        "#**Import Libraries**"
      ]
    },
    {
      "cell_type": "code",
      "metadata": {
        "id": "cjtiRu3dCtTg"
      },
      "source": [
        "# Google Drive\n",
        "from google.colab import drive\n",
        "# General\n",
        "import math\n",
        "import tensorflow as tf\n",
        "import numpy as np\n",
        "import matplotlib.pyplot as plt\n",
        "import keras\n",
        "# Keras Library\n",
        "\n",
        "\n",
        "print(\"Keras version: \", keras.__version__)\n",
        "print(\"TensorFlow version:\", tf.__version__)"
      ],
      "execution_count": null,
      "outputs": []
    },
    {
      "cell_type": "markdown",
      "metadata": {
        "id": "o2n1aFmjGqCx"
      },
      "source": [
        "#**Mounting drive and setting path**"
      ]
    },
    {
      "cell_type": "code",
      "metadata": {
        "id": "M-zj49aoCv2N"
      },
      "source": [
        "drive.mount('/content/drive')"
      ],
      "execution_count": null,
      "outputs": []
    },
    {
      "cell_type": "code",
      "metadata": {
        "id": "v9KrU6iJGo28"
      },
      "source": [
        "# Path where dataset is located\n",
        "dataset_path = '/content/drive/My Drive/FYP Stuff/Datasets/#old/Dataset 1C'\n",
        "train_path = dataset_path + '/Train'\n",
        "valid_path = dataset_path + '/Test'    # Some literature use the term \"test set\" / \"valid set\" but it is actually a \"dev set\". This is the set that is iterated during training.\n",
        "#test_path = dataset_path + '/Test'  # Test set helps evaluate how good your final system is. It's ok not to have test set."
      ],
      "execution_count": null,
      "outputs": []
    },
    {
      "cell_type": "markdown",
      "metadata": {
        "id": "gsLPveBhHryf"
      },
      "source": [
        "#**Variable Initialization**"
      ]
    },
    {
      "cell_type": "code",
      "metadata": {
        "id": "JTaCMVc6HZA2"
      },
      "source": [
        "IMAGE_CLASSES = ['Grade I','Grade II','Grade III', 'Normal']         # Classes (Name must be exactly the same as folder name in each set)\n",
        "IMAGE_SIZE = [224,224]          # Image size (Set for resizing later)\n",
        "BATCH_SIZE = 16                 # Mini-batch size\n",
        "SEED = 1                        # Fixed randomness"
      ],
      "execution_count": null,
      "outputs": []
    },
    {
      "cell_type": "markdown",
      "metadata": {
        "id": "r4O-p995K0b0"
      },
      "source": [
        "# **Initialize Functions**\n",
        "**Data Augmentation**"
      ]
    },
    {
      "cell_type": "code",
      "metadata": {
        "id": "9DAdDNLpK67S"
      },
      "source": [
        "############################\n",
        "# Training data generator\n",
        "############################\n",
        "def get_train_generator():\n",
        "  print(\"Getting train generator...\")\n",
        "  image_generator = tf.keras.preprocessing.image.ImageDataGenerator(\n",
        "      rescale = 1./255,\n",
        "      rotation_range = 90\n",
        "  )\n",
        "  \n",
        "  generator = image_generator.flow_from_directory(\n",
        "      batch_size = BATCH_SIZE,\n",
        "      directory = train_path,\n",
        "      shuffle = True,             # Shuffle input after each epoch\n",
        "      target_size = IMAGE_SIZE,   # Set image size to be [x]px by [y]px set in IMAGE_SIZE\n",
        "      class_mode = 'categorical',\n",
        "      seed = SEED,\n",
        "  )\n",
        "\n",
        "  return generator\n",
        "############################\n",
        "# Validation data generator\n",
        "############################\n",
        "def get_valid_generator():\n",
        "  print(\"Getting valid generator...\")\n",
        "  image_generator = tf.keras.preprocessing.image.ImageDataGenerator(\n",
        "      rescale = 1./255\n",
        "  )\n",
        "  \n",
        "  generator = image_generator.flow_from_directory(\n",
        "      batch_size = BATCH_SIZE,\n",
        "      directory = valid_path,\n",
        "      shuffle = False,             # Shuffle input after each epoch\n",
        "      target_size = IMAGE_SIZE,   # Set image size to be [x]px by [y]px set in IMAGE_SIZE\n",
        "      class_mode = 'categorical',\n",
        "      seed = SEED,\n",
        "  )\n",
        "\n",
        "  return generator"
      ],
      "execution_count": null,
      "outputs": []
    },
    {
      "cell_type": "code",
      "metadata": {
        "id": "CGz3kvFyvCtv"
      },
      "source": [
        "train_generator = get_train_generator()\n",
        "valid_generator = get_valid_generator()"
      ],
      "execution_count": null,
      "outputs": []
    },
    {
      "cell_type": "code",
      "metadata": {
        "id": "8wy0nugNVnJR"
      },
      "source": [
        "# Solving class imbalance\n",
        "def get_freq_data(generator):\n",
        "  class_data_labels = generator.classes\n",
        "  total_class = len(IMAGE_CLASSES)\n",
        "  freq_out = []\n",
        "\n",
        "  for i in range(total_class):\n",
        "    total_label_i = 0\n",
        "    for ele in class_data_labels:\n",
        "      if ele == i:\n",
        "        total_label_i += 1\n",
        "    freq_out.append(total_label_i)\n",
        "  \n",
        "  print(\"Total number of class is:\", total_class)\n",
        "  print(\"Total image in generator is: \", freq_out)\n"
      ],
      "execution_count": null,
      "outputs": []
    },
    {
      "cell_type": "code",
      "metadata": {
        "id": "pHTbhVX5bdWK"
      },
      "source": [
        "get_freq_data(valid_generator)"
      ],
      "execution_count": null,
      "outputs": []
    },
    {
      "cell_type": "code",
      "metadata": {
        "id": "g2L-Ek9sHxDt"
      },
      "source": [
        "def show_image_generated(generator, index, img_size):\n",
        "  x, y = valid_generator.__getitem__(index)\n",
        "  img_plt = math.ceil(math.sqrt(BATCH_SIZE))\n",
        "  grid_plt = str(img_plt)+str(img_plt)+str(1)\n",
        "  plt.figure(1, figsize = (img_size,img_size))\n",
        "  for i in range(BATCH_SIZE):\n",
        "    plt.subplot(img_plt,img_plt,i+1)\n",
        "    plt.imshow(x[i])\n",
        "    plt.title(IMAGE_CLASSES[np.where(y[i] == 1.)[0][0]], fontsize = 2+img_size, pad = 0)\n",
        "    plt.axis('off')\n",
        "  plt.show()"
      ],
      "execution_count": null,
      "outputs": []
    },
    {
      "cell_type": "code",
      "metadata": {
        "id": "HtspDgmbh6cc"
      },
      "source": [
        "show_image_generated(train_generator, index = 0, img_size = 5)  # Print image generated by generator. Change index to see different batch (start at 0)"
      ],
      "execution_count": null,
      "outputs": []
    },
    {
      "cell_type": "markdown",
      "metadata": {
        "id": "tI6wEkbs8vJo"
      },
      "source": [
        "# **Model Development**"
      ]
    },
    {
      "cell_type": "code",
      "metadata": {
        "id": "n8m9Z4OBiRZR"
      },
      "source": [
        "base_model = tf.keras.applications.VGG16(input_shape = IMAGE_SIZE + [3], weights = 'imagenet', include_top = False)\n",
        "\n",
        "for layer in base_model.layers:\n",
        "  layer.trainable = False\n",
        "\n",
        "x = tf.keras.layers.Flatten()(base_model.output)\n",
        "\n",
        "prediction = tf.keras.layers.Dense(len(IMAGE_CLASSES), activation = 'softmax')(x)\n",
        "\n",
        "model = tf.keras.Model(inputs = base_model.input, outputs = prediction)"
      ],
      "execution_count": null,
      "outputs": []
    },
    {
      "cell_type": "code",
      "metadata": {
        "id": "HWecLFLLkpsE"
      },
      "source": [
        "model.summary()"
      ],
      "execution_count": null,
      "outputs": []
    },
    {
      "cell_type": "code",
      "metadata": {
        "id": "nIihsAdGkznk"
      },
      "source": [
        "model.compile(\n",
        "  loss='categorical_crossentropy',\n",
        "  optimizer='adam',\n",
        "  metrics=['accuracy']\n",
        ")"
      ],
      "execution_count": null,
      "outputs": []
    },
    {
      "cell_type": "code",
      "metadata": {
        "id": "YESq1xLSk5b1"
      },
      "source": [
        "history = model.fit(\n",
        "  train_generator,\n",
        "  validation_data=valid_generator,\n",
        "  epochs=3,\n",
        "  steps_per_epoch=len(train_generator),\n",
        "  validation_steps=len(valid_generator)\n",
        ")"
      ],
      "execution_count": null,
      "outputs": []
    },
    {
      "cell_type": "code",
      "metadata": {
        "id": "99Z6gWHBk-HU"
      },
      "source": [
        ""
      ],
      "execution_count": null,
      "outputs": []
    }
  ]
}